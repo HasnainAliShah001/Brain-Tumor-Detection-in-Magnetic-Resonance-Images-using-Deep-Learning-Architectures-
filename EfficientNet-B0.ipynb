{
 "cells": [
  {
   "cell_type": "code",
   "execution_count": 1,
   "id": "7eb0379f-f4d9-4f73-b76f-299b5ed46123",
   "metadata": {},
   "outputs": [],
   "source": [
    "import os\n",
    "os.environ[\"CUDA_DEVICE_ORDER\"]=\"PCI_BUS_ID\"   # see issue #152\n",
    "os.environ[\"CUDA_VISIBLE_DEVICES\"]=\"6\""
   ]
  },
  {
   "cell_type": "code",
   "execution_count": 2,
   "id": "94075749-fbe8-4b56-8709-75a0a5c3ba96",
   "metadata": {},
   "outputs": [],
   "source": [
    "import cv2\n",
    "from PIL import  Image\n",
    "import numpy as np"
   ]
  },
  {
   "cell_type": "code",
   "execution_count": 3,
   "id": "f5dfe19f-0e46-4d05-88da-5ac3268e5d7a",
   "metadata": {},
   "outputs": [],
   "source": [
    "image_directory = '/data1/hom1/ict06/Br35H Brain Tumor Detection 2020/dataset/'\n",
    "\n",
    "dataset=[]\n",
    "label=[]\n",
    "\n",
    "no_tumor_images = os.listdir('/data1/hom1/ict06/Br35H Brain Tumor Detection 2020/dataset/no')\n",
    "yes_tumor_images = os.listdir('/data1/hom1/ict06/Br35H Brain Tumor Detection 2020/dataset/yes')"
   ]
  },
  {
   "cell_type": "code",
   "execution_count": 4,
   "id": "c26d63d3-2da5-47e6-b154-5bdd4e9ffaa4",
   "metadata": {},
   "outputs": [],
   "source": [
    "for i , image_name in enumerate(no_tumor_images):\n",
    "  if(image_name.split('.')[1]== 'jpg'):\n",
    "      image=cv2.imread(image_directory+'no/'+image_name)\n",
    "      image=Image.fromarray(image, 'RGB')\n",
    "      image=image.resize((224,224))\n",
    "      dataset.append(np.array(image))\n",
    "      label.append(0)"
   ]
  },
  {
   "cell_type": "code",
   "execution_count": 5,
   "id": "2a079695-4d4f-4e82-a658-34b9d1def0e2",
   "metadata": {},
   "outputs": [],
   "source": [
    "for i , image_name in enumerate(yes_tumor_images):\n",
    "  if(image_name.split('.')[1]== 'jpg'):\n",
    "      image=cv2.imread(image_directory+'yes/'+image_name)\n",
    "      image=Image.fromarray(image, 'RGB')\n",
    "      image=image.resize((224,224))\n",
    "      dataset.append(np.array(image))\n",
    "      label.append(1)"
   ]
  },
  {
   "cell_type": "code",
   "execution_count": 6,
   "id": "c04f26e6-a7c7-407b-9996-509312506f77",
   "metadata": {},
   "outputs": [
    {
     "name": "stdout",
     "output_type": "stream",
     "text": [
      "3000\n",
      "3000\n"
     ]
    }
   ],
   "source": [
    "print(len(dataset))\n",
    "print(len(label))\n",
    "dataset=np.array(dataset)\n",
    "label=np.array(label)"
   ]
  },
  {
   "cell_type": "code",
   "execution_count": 7,
   "id": "67792c10-3725-48f3-a051-e332a01ec776",
   "metadata": {},
   "outputs": [
    {
     "name": "stdout",
     "output_type": "stream",
     "text": [
      "(2400, 224, 224, 3)\n",
      "(600, 224, 224, 3)\n",
      "(2400,)\n",
      "(600,)\n"
     ]
    }
   ],
   "source": [
    "from sklearn.model_selection import train_test_split\n",
    "\n",
    "x_train, x_test, y_train, y_test=train_test_split(dataset, label, test_size=0.2, random_state=0)\n",
    "print(x_train.shape)\n",
    "print(x_test.shape)\n",
    "print(y_train.shape)\n",
    "print(y_test.shape)"
   ]
  },
  {
   "cell_type": "code",
   "execution_count": 8,
   "id": "75be5ccd-a4c8-42ff-a48a-2ea27ff842ee",
   "metadata": {},
   "outputs": [
    {
     "name": "stderr",
     "output_type": "stream",
     "text": [
      "2022-01-11 13:20:19.574384: I tensorflow/stream_executor/platform/default/dso_loader.cc:53] Successfully opened dynamic library libcudart.so.11.0\n"
     ]
    }
   ],
   "source": [
    "import tensorflow as tf\n",
    "from tensorflow import keras\n",
    "from keras.utils.np_utils import normalize\n",
    "#x_train= normalize(x_train, axis=1)\n",
    "#x_test = normalize(x_test, axis=1)\n",
    "from tensorflow.keras.callbacks import ReduceLROnPlateau\n",
    "lrr= ReduceLROnPlateau(monitor='val_accuracy', factor=.01, patience=3, min_lr=1e-5)"
   ]
  },
  {
   "cell_type": "code",
   "execution_count": 9,
   "id": "dc77bcae-5985-4fba-a643-22741fe300fd",
   "metadata": {},
   "outputs": [
    {
     "name": "stderr",
     "output_type": "stream",
     "text": [
      "2022-01-11 13:20:20.470633: I tensorflow/stream_executor/platform/default/dso_loader.cc:53] Successfully opened dynamic library libcuda.so.1\n",
      "2022-01-11 13:20:20.552254: I tensorflow/core/common_runtime/gpu/gpu_device.cc:1733] Found device 0 with properties: \n",
      "pciBusID: 0000:c1:00.0 name: RTX A5000 computeCapability: 8.6\n",
      "coreClock: 1.695GHz coreCount: 64 deviceMemorySize: 23.69GiB deviceMemoryBandwidth: 715.34GiB/s\n",
      "2022-01-11 13:20:20.552290: I tensorflow/stream_executor/platform/default/dso_loader.cc:53] Successfully opened dynamic library libcudart.so.11.0\n",
      "2022-01-11 13:20:20.554301: I tensorflow/stream_executor/platform/default/dso_loader.cc:53] Successfully opened dynamic library libcublas.so.11\n",
      "2022-01-11 13:20:20.554340: I tensorflow/stream_executor/platform/default/dso_loader.cc:53] Successfully opened dynamic library libcublasLt.so.11\n",
      "2022-01-11 13:20:20.555294: I tensorflow/stream_executor/platform/default/dso_loader.cc:53] Successfully opened dynamic library libcufft.so.10\n",
      "2022-01-11 13:20:20.555531: I tensorflow/stream_executor/platform/default/dso_loader.cc:53] Successfully opened dynamic library libcurand.so.10\n",
      "2022-01-11 13:20:20.557424: I tensorflow/stream_executor/platform/default/dso_loader.cc:53] Successfully opened dynamic library libcusolver.so.11\n",
      "2022-01-11 13:20:20.557816: I tensorflow/stream_executor/platform/default/dso_loader.cc:53] Successfully opened dynamic library libcusparse.so.11\n",
      "2022-01-11 13:20:20.557933: I tensorflow/stream_executor/platform/default/dso_loader.cc:53] Successfully opened dynamic library libcudnn.so.8\n",
      "2022-01-11 13:20:20.561538: I tensorflow/core/common_runtime/gpu/gpu_device.cc:1871] Adding visible gpu devices: 0\n",
      "2022-01-11 13:20:20.562011: I tensorflow/core/platform/cpu_feature_guard.cc:142] This TensorFlow binary is optimized with oneAPI Deep Neural Network Library (oneDNN) to use the following CPU instructions in performance-critical operations:  AVX2 FMA\n",
      "To enable them in other operations, rebuild TensorFlow with the appropriate compiler flags.\n",
      "2022-01-11 13:20:20.567590: I tensorflow/core/common_runtime/gpu/gpu_device.cc:1733] Found device 0 with properties: \n",
      "pciBusID: 0000:c1:00.0 name: RTX A5000 computeCapability: 8.6\n",
      "coreClock: 1.695GHz coreCount: 64 deviceMemorySize: 23.69GiB deviceMemoryBandwidth: 715.34GiB/s\n",
      "2022-01-11 13:20:20.573628: I tensorflow/core/common_runtime/gpu/gpu_device.cc:1871] Adding visible gpu devices: 0\n",
      "2022-01-11 13:20:20.573793: I tensorflow/stream_executor/platform/default/dso_loader.cc:53] Successfully opened dynamic library libcudart.so.11.0\n",
      "2022-01-11 13:20:21.279618: I tensorflow/core/common_runtime/gpu/gpu_device.cc:1258] Device interconnect StreamExecutor with strength 1 edge matrix:\n",
      "2022-01-11 13:20:21.279670: I tensorflow/core/common_runtime/gpu/gpu_device.cc:1264]      0 \n",
      "2022-01-11 13:20:21.279677: I tensorflow/core/common_runtime/gpu/gpu_device.cc:1277] 0:   N \n",
      "2022-01-11 13:20:21.285039: I tensorflow/core/common_runtime/gpu/gpu_device.cc:1418] Created TensorFlow device (/job:localhost/replica:0/task:0/device:GPU:0 with 22356 MB memory) -> physical GPU (device: 0, name: RTX A5000, pci bus id: 0000:c1:00.0, compute capability: 8.6)\n"
     ]
    }
   ],
   "source": [
    "from tensorflow.keras.applications.efficientnet import EfficientNetB0\n",
    "inc=EfficientNetB0(input_shape=(224,224,3), weights='imagenet', include_top=False)"
   ]
  },
  {
   "cell_type": "code",
   "execution_count": 10,
   "id": "c0a96c64-a817-4137-ab88-60f144283ade",
   "metadata": {},
   "outputs": [],
   "source": [
    "from tensorflow.keras.layers import Flatten\n",
    "from tensorflow.keras.layers import Dense\n",
    "\n",
    "#inc.add(Dense(128,activation=('relu'))) \n",
    "#inc.add(dropout(0.2)\n",
    "for i in inc.layers:\n",
    "  i.trainable=False\n",
    "\n",
    "x=Flatten()(inc.output)\n",
    "prediction=Dense(1, activation='sigmoid')(x)"
   ]
  },
  {
   "cell_type": "code",
   "execution_count": 11,
   "id": "ab8f7caf-16a0-4655-ab20-044a1c6008bd",
   "metadata": {},
   "outputs": [],
   "source": [
    "from tensorflow.keras.models import Model\n",
    "model=Model(inputs=inc.input, outputs=prediction)"
   ]
  },
  {
   "cell_type": "code",
   "execution_count": 12,
   "id": "edadfdf3-c3ae-47ce-9778-d772c6f2cefa",
   "metadata": {},
   "outputs": [],
   "source": [
    "model.compile(optimizer='adam', loss='binary_crossentropy', metrics=['accuracy'])\n"
   ]
  },
  {
   "cell_type": "code",
   "execution_count": 13,
   "id": "59b5a5dc-73ba-4d38-9ffb-b03cff92f94d",
   "metadata": {},
   "outputs": [
    {
     "name": "stderr",
     "output_type": "stream",
     "text": [
      "2022-01-11 13:20:22.959190: I tensorflow/compiler/mlir/mlir_graph_optimization_pass.cc:176] None of the MLIR Optimization Passes are enabled (registered 2)\n",
      "2022-01-11 13:20:22.980231: I tensorflow/core/platform/profile_utils/cpu_utils.cc:114] CPU Frequency: 2799860000 Hz\n"
     ]
    },
    {
     "name": "stdout",
     "output_type": "stream",
     "text": [
      "Epoch 1/50\n"
     ]
    },
    {
     "name": "stderr",
     "output_type": "stream",
     "text": [
      "2022-01-11 13:20:26.056348: I tensorflow/stream_executor/platform/default/dso_loader.cc:53] Successfully opened dynamic library libcudnn.so.8\n",
      "2022-01-11 13:20:26.669384: I tensorflow/stream_executor/cuda/cuda_dnn.cc:359] Loaded cuDNN version 8101\n",
      "2022-01-11 13:20:27.579366: I tensorflow/stream_executor/platform/default/dso_loader.cc:53] Successfully opened dynamic library libcublas.so.11\n",
      "2022-01-11 13:20:28.326174: I tensorflow/stream_executor/platform/default/dso_loader.cc:53] Successfully opened dynamic library libcublasLt.so.11\n"
     ]
    },
    {
     "name": "stdout",
     "output_type": "stream",
     "text": [
      "75/75 [==============================] - 9s 47ms/step - loss: 0.3830 - accuracy: 0.8950 - val_loss: 0.2561 - val_accuracy: 0.9250\n",
      "Epoch 2/50\n",
      "75/75 [==============================] - 2s 29ms/step - loss: 0.0767 - accuracy: 0.9758 - val_loss: 0.0931 - val_accuracy: 0.9733\n",
      "Epoch 3/50\n",
      "75/75 [==============================] - 2s 29ms/step - loss: 0.0408 - accuracy: 0.9862 - val_loss: 0.1055 - val_accuracy: 0.9717\n",
      "Epoch 4/50\n",
      "75/75 [==============================] - 2s 29ms/step - loss: 0.0292 - accuracy: 0.9900 - val_loss: 0.1218 - val_accuracy: 0.9667\n",
      "Epoch 5/50\n",
      "75/75 [==============================] - 2s 29ms/step - loss: 0.0248 - accuracy: 0.9917 - val_loss: 0.0840 - val_accuracy: 0.9800\n",
      "Epoch 6/50\n",
      "75/75 [==============================] - 2s 29ms/step - loss: 0.0163 - accuracy: 0.9937 - val_loss: 0.1022 - val_accuracy: 0.9750\n",
      "Epoch 7/50\n",
      "75/75 [==============================] - 2s 30ms/step - loss: 0.0085 - accuracy: 0.9975 - val_loss: 0.0774 - val_accuracy: 0.9883\n",
      "Epoch 8/50\n",
      "75/75 [==============================] - 2s 29ms/step - loss: 0.0160 - accuracy: 0.9937 - val_loss: 0.0782 - val_accuracy: 0.9850\n",
      "Epoch 9/50\n",
      "75/75 [==============================] - 2s 29ms/step - loss: 0.0127 - accuracy: 0.9958 - val_loss: 0.0575 - val_accuracy: 0.9883\n",
      "Epoch 10/50\n",
      "75/75 [==============================] - 2s 30ms/step - loss: 0.0045 - accuracy: 0.9992 - val_loss: 0.0838 - val_accuracy: 0.9883\n",
      "Epoch 11/50\n",
      "75/75 [==============================] - 2s 30ms/step - loss: 0.0062 - accuracy: 0.9987 - val_loss: 0.0833 - val_accuracy: 0.9883\n",
      "Epoch 12/50\n",
      "75/75 [==============================] - 2s 30ms/step - loss: 0.0027 - accuracy: 0.9996 - val_loss: 0.0828 - val_accuracy: 0.9883\n",
      "Epoch 13/50\n",
      "75/75 [==============================] - 2s 30ms/step - loss: 0.0039 - accuracy: 0.9996 - val_loss: 0.0823 - val_accuracy: 0.9883\n",
      "Epoch 14/50\n",
      "75/75 [==============================] - 2s 29ms/step - loss: 0.0032 - accuracy: 0.9992 - val_loss: 0.0822 - val_accuracy: 0.9883\n",
      "Epoch 15/50\n",
      "75/75 [==============================] - 2s 30ms/step - loss: 0.0034 - accuracy: 0.9983 - val_loss: 0.0822 - val_accuracy: 0.9883\n",
      "Epoch 16/50\n",
      "75/75 [==============================] - 2s 30ms/step - loss: 0.0037 - accuracy: 0.9992 - val_loss: 0.0824 - val_accuracy: 0.9883\n",
      "Epoch 17/50\n",
      "75/75 [==============================] - 2s 29ms/step - loss: 0.0018 - accuracy: 0.9996 - val_loss: 0.0817 - val_accuracy: 0.9883\n",
      "Epoch 18/50\n",
      "75/75 [==============================] - 2s 29ms/step - loss: 0.0013 - accuracy: 1.0000 - val_loss: 0.0811 - val_accuracy: 0.9883\n",
      "Epoch 19/50\n",
      "75/75 [==============================] - 2s 29ms/step - loss: 0.0025 - accuracy: 0.9992 - val_loss: 0.0804 - val_accuracy: 0.9883\n",
      "Epoch 20/50\n",
      "75/75 [==============================] - 2s 29ms/step - loss: 0.0021 - accuracy: 0.9996 - val_loss: 0.0798 - val_accuracy: 0.9883\n",
      "Epoch 21/50\n",
      "75/75 [==============================] - 2s 30ms/step - loss: 0.0041 - accuracy: 0.9992 - val_loss: 0.0792 - val_accuracy: 0.9883\n",
      "Epoch 22/50\n",
      "75/75 [==============================] - 2s 30ms/step - loss: 0.0011 - accuracy: 1.0000 - val_loss: 0.0791 - val_accuracy: 0.9883\n",
      "Epoch 23/50\n",
      "75/75 [==============================] - 2s 29ms/step - loss: 0.0015 - accuracy: 0.9996 - val_loss: 0.0785 - val_accuracy: 0.9883\n",
      "Epoch 24/50\n",
      "75/75 [==============================] - 2s 29ms/step - loss: 0.0017 - accuracy: 0.9996 - val_loss: 0.0783 - val_accuracy: 0.9883\n",
      "Epoch 25/50\n",
      "75/75 [==============================] - 2s 29ms/step - loss: 0.0011 - accuracy: 1.0000 - val_loss: 0.0780 - val_accuracy: 0.9883\n",
      "Epoch 26/50\n",
      "75/75 [==============================] - 2s 30ms/step - loss: 0.0013 - accuracy: 1.0000 - val_loss: 0.0776 - val_accuracy: 0.9883\n",
      "Epoch 27/50\n",
      "75/75 [==============================] - 2s 30ms/step - loss: 0.0010 - accuracy: 1.0000 - val_loss: 0.0774 - val_accuracy: 0.9883\n",
      "Epoch 28/50\n",
      "75/75 [==============================] - 2s 29ms/step - loss: 0.0012 - accuracy: 1.0000 - val_loss: 0.0774 - val_accuracy: 0.9900\n",
      "Epoch 29/50\n",
      "75/75 [==============================] - 2s 29ms/step - loss: 0.0032 - accuracy: 0.9983 - val_loss: 0.0765 - val_accuracy: 0.9900\n",
      "Epoch 30/50\n",
      "75/75 [==============================] - 2s 29ms/step - loss: 0.0018 - accuracy: 0.9996 - val_loss: 0.0762 - val_accuracy: 0.9883\n",
      "Epoch 31/50\n",
      "75/75 [==============================] - 2s 30ms/step - loss: 0.0024 - accuracy: 0.9987 - val_loss: 0.0760 - val_accuracy: 0.9883\n",
      "Epoch 32/50\n",
      "75/75 [==============================] - 2s 30ms/step - loss: 0.0016 - accuracy: 0.9996 - val_loss: 0.0759 - val_accuracy: 0.9883\n",
      "Epoch 33/50\n",
      "75/75 [==============================] - 2s 29ms/step - loss: 0.0015 - accuracy: 0.9996 - val_loss: 0.0756 - val_accuracy: 0.9883\n",
      "Epoch 34/50\n",
      "75/75 [==============================] - 2s 29ms/step - loss: 8.2833e-04 - accuracy: 1.0000 - val_loss: 0.0753 - val_accuracy: 0.9883\n",
      "Epoch 35/50\n",
      "75/75 [==============================] - 2s 29ms/step - loss: 8.9972e-04 - accuracy: 1.0000 - val_loss: 0.0750 - val_accuracy: 0.9867\n",
      "Epoch 36/50\n",
      "75/75 [==============================] - 2s 29ms/step - loss: 0.0015 - accuracy: 0.9996 - val_loss: 0.0748 - val_accuracy: 0.9883\n",
      "Epoch 37/50\n",
      "75/75 [==============================] - 2s 30ms/step - loss: 0.0011 - accuracy: 0.9996 - val_loss: 0.0744 - val_accuracy: 0.9883\n",
      "Epoch 38/50\n",
      "75/75 [==============================] - 2s 29ms/step - loss: 8.0853e-04 - accuracy: 1.0000 - val_loss: 0.0745 - val_accuracy: 0.9883\n",
      "Epoch 39/50\n",
      "75/75 [==============================] - 2s 30ms/step - loss: 6.8238e-04 - accuracy: 1.0000 - val_loss: 0.0740 - val_accuracy: 0.9883\n",
      "Epoch 40/50\n",
      "75/75 [==============================] - 2s 29ms/step - loss: 0.0014 - accuracy: 0.9996 - val_loss: 0.0734 - val_accuracy: 0.9883\n",
      "Epoch 41/50\n",
      "75/75 [==============================] - 2s 30ms/step - loss: 0.0011 - accuracy: 0.9996 - val_loss: 0.0728 - val_accuracy: 0.9883\n",
      "Epoch 42/50\n",
      "75/75 [==============================] - 2s 30ms/step - loss: 0.0024 - accuracy: 0.9992 - val_loss: 0.0734 - val_accuracy: 0.9867\n",
      "Epoch 43/50\n",
      "75/75 [==============================] - 2s 29ms/step - loss: 0.0019 - accuracy: 0.9992 - val_loss: 0.0749 - val_accuracy: 0.9883\n",
      "Epoch 44/50\n",
      "75/75 [==============================] - 2s 29ms/step - loss: 8.1961e-04 - accuracy: 1.0000 - val_loss: 0.0741 - val_accuracy: 0.9867\n",
      "Epoch 45/50\n",
      "75/75 [==============================] - 2s 29ms/step - loss: 5.4375e-04 - accuracy: 1.0000 - val_loss: 0.0739 - val_accuracy: 0.9883\n",
      "Epoch 46/50\n",
      "75/75 [==============================] - 2s 30ms/step - loss: 8.2567e-04 - accuracy: 1.0000 - val_loss: 0.0738 - val_accuracy: 0.9883\n",
      "Epoch 47/50\n",
      "75/75 [==============================] - 2s 29ms/step - loss: 6.7621e-04 - accuracy: 1.0000 - val_loss: 0.0738 - val_accuracy: 0.9883\n",
      "Epoch 48/50\n",
      "75/75 [==============================] - 2s 29ms/step - loss: 0.0012 - accuracy: 0.9996 - val_loss: 0.0737 - val_accuracy: 0.9883\n",
      "Epoch 49/50\n",
      "75/75 [==============================] - 2s 29ms/step - loss: 8.7163e-04 - accuracy: 0.9996 - val_loss: 0.0726 - val_accuracy: 0.9883\n",
      "Epoch 50/50\n",
      "75/75 [==============================] - 2s 29ms/step - loss: 7.2124e-04 - accuracy: 1.0000 - val_loss: 0.0726 - val_accuracy: 0.9883\n"
     ]
    },
    {
     "name": "stderr",
     "output_type": "stream",
     "text": [
      "/compuworks/anaconda3/envs/jupyter-tf2/lib/python3.8/site-packages/tensorflow/python/keras/utils/generic_utils.py:494: CustomMaskWarning: Custom mask layers require a config and must override get_config. When loading, the custom mask layer must be passed to the custom_objects argument.\n",
      "  warnings.warn('Custom mask layers require a config and must override '\n"
     ]
    }
   ],
   "source": [
    "hist=model.fit(x_train, y_train, batch_size=32, \n",
    "               verbose=1, epochs=50, \n",
    "               validation_data=(x_test,y_test), shuffle=False,\n",
    "              callbacks=[lrr])\n",
    "\n",
    "model.save('/data1/hom1/ict06/Models/expirement.h5')"
   ]
  },
  {
   "cell_type": "code",
   "execution_count": 14,
   "id": "db2d2758-5233-4957-a53e-c9681d0b9244",
   "metadata": {},
   "outputs": [
    {
     "data": {
      "text/html": [
       "<div>\n",
       "<style scoped>\n",
       "    .dataframe tbody tr th:only-of-type {\n",
       "        vertical-align: middle;\n",
       "    }\n",
       "\n",
       "    .dataframe tbody tr th {\n",
       "        vertical-align: top;\n",
       "    }\n",
       "\n",
       "    .dataframe thead th {\n",
       "        text-align: right;\n",
       "    }\n",
       "</style>\n",
       "<table border=\"1\" class=\"dataframe\">\n",
       "  <thead>\n",
       "    <tr style=\"text-align: right;\">\n",
       "      <th></th>\n",
       "      <th>loss</th>\n",
       "      <th>accuracy</th>\n",
       "      <th>val_loss</th>\n",
       "      <th>val_accuracy</th>\n",
       "      <th>lr</th>\n",
       "    </tr>\n",
       "  </thead>\n",
       "  <tbody>\n",
       "    <tr>\n",
       "      <th>0</th>\n",
       "      <td>0.382974</td>\n",
       "      <td>0.895000</td>\n",
       "      <td>0.256109</td>\n",
       "      <td>0.925000</td>\n",
       "      <td>0.00100</td>\n",
       "    </tr>\n",
       "    <tr>\n",
       "      <th>1</th>\n",
       "      <td>0.076675</td>\n",
       "      <td>0.975833</td>\n",
       "      <td>0.093062</td>\n",
       "      <td>0.973333</td>\n",
       "      <td>0.00100</td>\n",
       "    </tr>\n",
       "    <tr>\n",
       "      <th>2</th>\n",
       "      <td>0.040777</td>\n",
       "      <td>0.986250</td>\n",
       "      <td>0.105541</td>\n",
       "      <td>0.971667</td>\n",
       "      <td>0.00100</td>\n",
       "    </tr>\n",
       "    <tr>\n",
       "      <th>3</th>\n",
       "      <td>0.029229</td>\n",
       "      <td>0.990000</td>\n",
       "      <td>0.121804</td>\n",
       "      <td>0.966667</td>\n",
       "      <td>0.00100</td>\n",
       "    </tr>\n",
       "    <tr>\n",
       "      <th>4</th>\n",
       "      <td>0.024816</td>\n",
       "      <td>0.991667</td>\n",
       "      <td>0.083981</td>\n",
       "      <td>0.980000</td>\n",
       "      <td>0.00100</td>\n",
       "    </tr>\n",
       "    <tr>\n",
       "      <th>5</th>\n",
       "      <td>0.016336</td>\n",
       "      <td>0.993750</td>\n",
       "      <td>0.102237</td>\n",
       "      <td>0.975000</td>\n",
       "      <td>0.00100</td>\n",
       "    </tr>\n",
       "    <tr>\n",
       "      <th>6</th>\n",
       "      <td>0.008518</td>\n",
       "      <td>0.997500</td>\n",
       "      <td>0.077361</td>\n",
       "      <td>0.988333</td>\n",
       "      <td>0.00100</td>\n",
       "    </tr>\n",
       "    <tr>\n",
       "      <th>7</th>\n",
       "      <td>0.015988</td>\n",
       "      <td>0.993750</td>\n",
       "      <td>0.078218</td>\n",
       "      <td>0.985000</td>\n",
       "      <td>0.00100</td>\n",
       "    </tr>\n",
       "    <tr>\n",
       "      <th>8</th>\n",
       "      <td>0.012656</td>\n",
       "      <td>0.995833</td>\n",
       "      <td>0.057509</td>\n",
       "      <td>0.988333</td>\n",
       "      <td>0.00100</td>\n",
       "    </tr>\n",
       "    <tr>\n",
       "      <th>9</th>\n",
       "      <td>0.004523</td>\n",
       "      <td>0.999167</td>\n",
       "      <td>0.083815</td>\n",
       "      <td>0.988333</td>\n",
       "      <td>0.00100</td>\n",
       "    </tr>\n",
       "    <tr>\n",
       "      <th>10</th>\n",
       "      <td>0.006201</td>\n",
       "      <td>0.998750</td>\n",
       "      <td>0.083282</td>\n",
       "      <td>0.988333</td>\n",
       "      <td>0.00001</td>\n",
       "    </tr>\n",
       "    <tr>\n",
       "      <th>11</th>\n",
       "      <td>0.002702</td>\n",
       "      <td>0.999583</td>\n",
       "      <td>0.082783</td>\n",
       "      <td>0.988333</td>\n",
       "      <td>0.00001</td>\n",
       "    </tr>\n",
       "    <tr>\n",
       "      <th>12</th>\n",
       "      <td>0.003902</td>\n",
       "      <td>0.999583</td>\n",
       "      <td>0.082337</td>\n",
       "      <td>0.988333</td>\n",
       "      <td>0.00001</td>\n",
       "    </tr>\n",
       "    <tr>\n",
       "      <th>13</th>\n",
       "      <td>0.003234</td>\n",
       "      <td>0.999167</td>\n",
       "      <td>0.082214</td>\n",
       "      <td>0.988333</td>\n",
       "      <td>0.00001</td>\n",
       "    </tr>\n",
       "    <tr>\n",
       "      <th>14</th>\n",
       "      <td>0.003363</td>\n",
       "      <td>0.998333</td>\n",
       "      <td>0.082160</td>\n",
       "      <td>0.988333</td>\n",
       "      <td>0.00001</td>\n",
       "    </tr>\n",
       "    <tr>\n",
       "      <th>15</th>\n",
       "      <td>0.003685</td>\n",
       "      <td>0.999167</td>\n",
       "      <td>0.082408</td>\n",
       "      <td>0.988333</td>\n",
       "      <td>0.00001</td>\n",
       "    </tr>\n",
       "    <tr>\n",
       "      <th>16</th>\n",
       "      <td>0.001829</td>\n",
       "      <td>0.999583</td>\n",
       "      <td>0.081665</td>\n",
       "      <td>0.988333</td>\n",
       "      <td>0.00001</td>\n",
       "    </tr>\n",
       "    <tr>\n",
       "      <th>17</th>\n",
       "      <td>0.001280</td>\n",
       "      <td>1.000000</td>\n",
       "      <td>0.081144</td>\n",
       "      <td>0.988333</td>\n",
       "      <td>0.00001</td>\n",
       "    </tr>\n",
       "    <tr>\n",
       "      <th>18</th>\n",
       "      <td>0.002517</td>\n",
       "      <td>0.999167</td>\n",
       "      <td>0.080420</td>\n",
       "      <td>0.988333</td>\n",
       "      <td>0.00001</td>\n",
       "    </tr>\n",
       "    <tr>\n",
       "      <th>19</th>\n",
       "      <td>0.002094</td>\n",
       "      <td>0.999583</td>\n",
       "      <td>0.079817</td>\n",
       "      <td>0.988333</td>\n",
       "      <td>0.00001</td>\n",
       "    </tr>\n",
       "    <tr>\n",
       "      <th>20</th>\n",
       "      <td>0.004128</td>\n",
       "      <td>0.999167</td>\n",
       "      <td>0.079209</td>\n",
       "      <td>0.988333</td>\n",
       "      <td>0.00001</td>\n",
       "    </tr>\n",
       "    <tr>\n",
       "      <th>21</th>\n",
       "      <td>0.001076</td>\n",
       "      <td>1.000000</td>\n",
       "      <td>0.079079</td>\n",
       "      <td>0.988333</td>\n",
       "      <td>0.00001</td>\n",
       "    </tr>\n",
       "    <tr>\n",
       "      <th>22</th>\n",
       "      <td>0.001496</td>\n",
       "      <td>0.999583</td>\n",
       "      <td>0.078541</td>\n",
       "      <td>0.988333</td>\n",
       "      <td>0.00001</td>\n",
       "    </tr>\n",
       "    <tr>\n",
       "      <th>23</th>\n",
       "      <td>0.001681</td>\n",
       "      <td>0.999583</td>\n",
       "      <td>0.078324</td>\n",
       "      <td>0.988333</td>\n",
       "      <td>0.00001</td>\n",
       "    </tr>\n",
       "    <tr>\n",
       "      <th>24</th>\n",
       "      <td>0.001065</td>\n",
       "      <td>1.000000</td>\n",
       "      <td>0.077966</td>\n",
       "      <td>0.988333</td>\n",
       "      <td>0.00001</td>\n",
       "    </tr>\n",
       "    <tr>\n",
       "      <th>25</th>\n",
       "      <td>0.001263</td>\n",
       "      <td>1.000000</td>\n",
       "      <td>0.077585</td>\n",
       "      <td>0.988333</td>\n",
       "      <td>0.00001</td>\n",
       "    </tr>\n",
       "    <tr>\n",
       "      <th>26</th>\n",
       "      <td>0.001033</td>\n",
       "      <td>1.000000</td>\n",
       "      <td>0.077437</td>\n",
       "      <td>0.988333</td>\n",
       "      <td>0.00001</td>\n",
       "    </tr>\n",
       "    <tr>\n",
       "      <th>27</th>\n",
       "      <td>0.001234</td>\n",
       "      <td>1.000000</td>\n",
       "      <td>0.077395</td>\n",
       "      <td>0.990000</td>\n",
       "      <td>0.00001</td>\n",
       "    </tr>\n",
       "    <tr>\n",
       "      <th>28</th>\n",
       "      <td>0.003177</td>\n",
       "      <td>0.998333</td>\n",
       "      <td>0.076531</td>\n",
       "      <td>0.990000</td>\n",
       "      <td>0.00001</td>\n",
       "    </tr>\n",
       "    <tr>\n",
       "      <th>29</th>\n",
       "      <td>0.001765</td>\n",
       "      <td>0.999583</td>\n",
       "      <td>0.076237</td>\n",
       "      <td>0.988333</td>\n",
       "      <td>0.00001</td>\n",
       "    </tr>\n",
       "    <tr>\n",
       "      <th>30</th>\n",
       "      <td>0.002354</td>\n",
       "      <td>0.998750</td>\n",
       "      <td>0.075951</td>\n",
       "      <td>0.988333</td>\n",
       "      <td>0.00001</td>\n",
       "    </tr>\n",
       "    <tr>\n",
       "      <th>31</th>\n",
       "      <td>0.001636</td>\n",
       "      <td>0.999583</td>\n",
       "      <td>0.075890</td>\n",
       "      <td>0.988333</td>\n",
       "      <td>0.00001</td>\n",
       "    </tr>\n",
       "    <tr>\n",
       "      <th>32</th>\n",
       "      <td>0.001480</td>\n",
       "      <td>0.999583</td>\n",
       "      <td>0.075555</td>\n",
       "      <td>0.988333</td>\n",
       "      <td>0.00001</td>\n",
       "    </tr>\n",
       "    <tr>\n",
       "      <th>33</th>\n",
       "      <td>0.000828</td>\n",
       "      <td>1.000000</td>\n",
       "      <td>0.075327</td>\n",
       "      <td>0.988333</td>\n",
       "      <td>0.00001</td>\n",
       "    </tr>\n",
       "    <tr>\n",
       "      <th>34</th>\n",
       "      <td>0.000900</td>\n",
       "      <td>1.000000</td>\n",
       "      <td>0.075042</td>\n",
       "      <td>0.986667</td>\n",
       "      <td>0.00001</td>\n",
       "    </tr>\n",
       "    <tr>\n",
       "      <th>35</th>\n",
       "      <td>0.001489</td>\n",
       "      <td>0.999583</td>\n",
       "      <td>0.074777</td>\n",
       "      <td>0.988333</td>\n",
       "      <td>0.00001</td>\n",
       "    </tr>\n",
       "    <tr>\n",
       "      <th>36</th>\n",
       "      <td>0.001117</td>\n",
       "      <td>0.999583</td>\n",
       "      <td>0.074444</td>\n",
       "      <td>0.988333</td>\n",
       "      <td>0.00001</td>\n",
       "    </tr>\n",
       "    <tr>\n",
       "      <th>37</th>\n",
       "      <td>0.000809</td>\n",
       "      <td>1.000000</td>\n",
       "      <td>0.074544</td>\n",
       "      <td>0.988333</td>\n",
       "      <td>0.00001</td>\n",
       "    </tr>\n",
       "    <tr>\n",
       "      <th>38</th>\n",
       "      <td>0.000682</td>\n",
       "      <td>1.000000</td>\n",
       "      <td>0.073995</td>\n",
       "      <td>0.988333</td>\n",
       "      <td>0.00001</td>\n",
       "    </tr>\n",
       "    <tr>\n",
       "      <th>39</th>\n",
       "      <td>0.001439</td>\n",
       "      <td>0.999583</td>\n",
       "      <td>0.073449</td>\n",
       "      <td>0.988333</td>\n",
       "      <td>0.00001</td>\n",
       "    </tr>\n",
       "    <tr>\n",
       "      <th>40</th>\n",
       "      <td>0.001146</td>\n",
       "      <td>0.999583</td>\n",
       "      <td>0.072820</td>\n",
       "      <td>0.988333</td>\n",
       "      <td>0.00001</td>\n",
       "    </tr>\n",
       "    <tr>\n",
       "      <th>41</th>\n",
       "      <td>0.002443</td>\n",
       "      <td>0.999167</td>\n",
       "      <td>0.073363</td>\n",
       "      <td>0.986667</td>\n",
       "      <td>0.00001</td>\n",
       "    </tr>\n",
       "    <tr>\n",
       "      <th>42</th>\n",
       "      <td>0.001865</td>\n",
       "      <td>0.999167</td>\n",
       "      <td>0.074936</td>\n",
       "      <td>0.988333</td>\n",
       "      <td>0.00001</td>\n",
       "    </tr>\n",
       "    <tr>\n",
       "      <th>43</th>\n",
       "      <td>0.000820</td>\n",
       "      <td>1.000000</td>\n",
       "      <td>0.074067</td>\n",
       "      <td>0.986667</td>\n",
       "      <td>0.00001</td>\n",
       "    </tr>\n",
       "    <tr>\n",
       "      <th>44</th>\n",
       "      <td>0.000544</td>\n",
       "      <td>1.000000</td>\n",
       "      <td>0.073856</td>\n",
       "      <td>0.988333</td>\n",
       "      <td>0.00001</td>\n",
       "    </tr>\n",
       "    <tr>\n",
       "      <th>45</th>\n",
       "      <td>0.000826</td>\n",
       "      <td>1.000000</td>\n",
       "      <td>0.073804</td>\n",
       "      <td>0.988333</td>\n",
       "      <td>0.00001</td>\n",
       "    </tr>\n",
       "    <tr>\n",
       "      <th>46</th>\n",
       "      <td>0.000676</td>\n",
       "      <td>1.000000</td>\n",
       "      <td>0.073816</td>\n",
       "      <td>0.988333</td>\n",
       "      <td>0.00001</td>\n",
       "    </tr>\n",
       "    <tr>\n",
       "      <th>47</th>\n",
       "      <td>0.001249</td>\n",
       "      <td>0.999583</td>\n",
       "      <td>0.073661</td>\n",
       "      <td>0.988333</td>\n",
       "      <td>0.00001</td>\n",
       "    </tr>\n",
       "    <tr>\n",
       "      <th>48</th>\n",
       "      <td>0.000872</td>\n",
       "      <td>0.999583</td>\n",
       "      <td>0.072574</td>\n",
       "      <td>0.988333</td>\n",
       "      <td>0.00001</td>\n",
       "    </tr>\n",
       "    <tr>\n",
       "      <th>49</th>\n",
       "      <td>0.000721</td>\n",
       "      <td>1.000000</td>\n",
       "      <td>0.072586</td>\n",
       "      <td>0.988333</td>\n",
       "      <td>0.00001</td>\n",
       "    </tr>\n",
       "  </tbody>\n",
       "</table>\n",
       "</div>"
      ],
      "text/plain": [
       "        loss  accuracy  val_loss  val_accuracy       lr\n",
       "0   0.382974  0.895000  0.256109      0.925000  0.00100\n",
       "1   0.076675  0.975833  0.093062      0.973333  0.00100\n",
       "2   0.040777  0.986250  0.105541      0.971667  0.00100\n",
       "3   0.029229  0.990000  0.121804      0.966667  0.00100\n",
       "4   0.024816  0.991667  0.083981      0.980000  0.00100\n",
       "5   0.016336  0.993750  0.102237      0.975000  0.00100\n",
       "6   0.008518  0.997500  0.077361      0.988333  0.00100\n",
       "7   0.015988  0.993750  0.078218      0.985000  0.00100\n",
       "8   0.012656  0.995833  0.057509      0.988333  0.00100\n",
       "9   0.004523  0.999167  0.083815      0.988333  0.00100\n",
       "10  0.006201  0.998750  0.083282      0.988333  0.00001\n",
       "11  0.002702  0.999583  0.082783      0.988333  0.00001\n",
       "12  0.003902  0.999583  0.082337      0.988333  0.00001\n",
       "13  0.003234  0.999167  0.082214      0.988333  0.00001\n",
       "14  0.003363  0.998333  0.082160      0.988333  0.00001\n",
       "15  0.003685  0.999167  0.082408      0.988333  0.00001\n",
       "16  0.001829  0.999583  0.081665      0.988333  0.00001\n",
       "17  0.001280  1.000000  0.081144      0.988333  0.00001\n",
       "18  0.002517  0.999167  0.080420      0.988333  0.00001\n",
       "19  0.002094  0.999583  0.079817      0.988333  0.00001\n",
       "20  0.004128  0.999167  0.079209      0.988333  0.00001\n",
       "21  0.001076  1.000000  0.079079      0.988333  0.00001\n",
       "22  0.001496  0.999583  0.078541      0.988333  0.00001\n",
       "23  0.001681  0.999583  0.078324      0.988333  0.00001\n",
       "24  0.001065  1.000000  0.077966      0.988333  0.00001\n",
       "25  0.001263  1.000000  0.077585      0.988333  0.00001\n",
       "26  0.001033  1.000000  0.077437      0.988333  0.00001\n",
       "27  0.001234  1.000000  0.077395      0.990000  0.00001\n",
       "28  0.003177  0.998333  0.076531      0.990000  0.00001\n",
       "29  0.001765  0.999583  0.076237      0.988333  0.00001\n",
       "30  0.002354  0.998750  0.075951      0.988333  0.00001\n",
       "31  0.001636  0.999583  0.075890      0.988333  0.00001\n",
       "32  0.001480  0.999583  0.075555      0.988333  0.00001\n",
       "33  0.000828  1.000000  0.075327      0.988333  0.00001\n",
       "34  0.000900  1.000000  0.075042      0.986667  0.00001\n",
       "35  0.001489  0.999583  0.074777      0.988333  0.00001\n",
       "36  0.001117  0.999583  0.074444      0.988333  0.00001\n",
       "37  0.000809  1.000000  0.074544      0.988333  0.00001\n",
       "38  0.000682  1.000000  0.073995      0.988333  0.00001\n",
       "39  0.001439  0.999583  0.073449      0.988333  0.00001\n",
       "40  0.001146  0.999583  0.072820      0.988333  0.00001\n",
       "41  0.002443  0.999167  0.073363      0.986667  0.00001\n",
       "42  0.001865  0.999167  0.074936      0.988333  0.00001\n",
       "43  0.000820  1.000000  0.074067      0.986667  0.00001\n",
       "44  0.000544  1.000000  0.073856      0.988333  0.00001\n",
       "45  0.000826  1.000000  0.073804      0.988333  0.00001\n",
       "46  0.000676  1.000000  0.073816      0.988333  0.00001\n",
       "47  0.001249  0.999583  0.073661      0.988333  0.00001\n",
       "48  0.000872  0.999583  0.072574      0.988333  0.00001\n",
       "49  0.000721  1.000000  0.072586      0.988333  0.00001"
      ]
     },
     "execution_count": 14,
     "metadata": {},
     "output_type": "execute_result"
    }
   ],
   "source": [
    "import pandas as pd\n",
    "import matplotlib.pyplot as plt\n",
    "metrics = pd.DataFrame(model.history.history)\n",
    "metrics"
   ]
  },
  {
   "cell_type": "code",
   "execution_count": 17,
   "id": "e170adb6-5d07-424d-864e-ac97437b3c5e",
   "metadata": {},
   "outputs": [
    {
     "data": {
      "image/png": "[encoded data removed]",
      "text/plain": [
       "<Figure size 432x288 with 1 Axes>"
      ]
     },
     "metadata": {
      "needs_background": "light"
     },
     "output_type": "display_data"
    }
   ],
   "source": [
    "metrics[['accuracy', 'val_accuracy']].plot()\n",
    "plt.title(\"Model Accuracy\",fontsize=14)\n",
    "plt.ylabel(\"Accuracy\",fontsize=14)\n",
    "plt.xlabel(\"Epochs\",fontsize=14)\n",
    "plt.savefig('accuracy3.png', dpi=300, bbox_inches='tight')"
   ]
  },
  {
   "cell_type": "code",
   "execution_count": 18,
   "id": "461da997-b8df-4a5f-8633-cc1ae255422f",
   "metadata": {},
   "outputs": [
    {
     "data": {
      "image/png": "[encoded data removed]",
      "text/plain": [
       "<Figure size 432x288 with 1 Axes>"
      ]
     },
     "metadata": {
      "needs_background": "light"
     },
     "output_type": "display_data"
    }
   ],
   "source": [
    "metrics[['loss', 'val_loss']].plot()\n",
    "plt.title(\"Model Loss\",fontsize=14)\n",
    "plt.ylabel(\"Loss\",fontsize=14)\n",
    "plt.xlabel(\"Epochs\",fontsize=14)\n",
    "plt.savefig('Loss3.png', dpi=300, bbox_inches='tight')"
   ]
  },
  {
   "cell_type": "code",
   "execution_count": 19,
   "id": "e0b84ac9-55a1-4884-a86a-234ba8c0665c",
   "metadata": {},
   "outputs": [],
   "source": [
    "df = pd.DataFrame(metrics)\n",
    "df.to_csv('metrices3.csv')"
   ]
  },
  {
   "cell_type": "code",
   "execution_count": 20,
   "id": "44735e41-fbb2-4fa5-be20-c428635433d3",
   "metadata": {},
   "outputs": [
    {
     "name": "stdout",
     "output_type": "stream",
     "text": [
      "19/19 [==============================] - 1s 24ms/step - loss: 0.0726 - accuracy: 0.9883\n",
      "Accuracy = 98.83333444595337 %\n"
     ]
    }
   ],
   "source": [
    "_, acc= model.evaluate(x_test,y_test)\n",
    "print(\"Accuracy =\", (acc * 100.0), \"%\")"
   ]
  },
  {
   "cell_type": "code",
   "execution_count": 21,
   "id": "d9ae8e80-b3e2-4193-8e7a-c40f44037519",
   "metadata": {},
   "outputs": [
    {
     "name": "stdout",
     "output_type": "stream",
     "text": [
      "[[340   3]\n",
      " [  4 253]]\n"
     ]
    }
   ],
   "source": [
    "mythreshold= 0.5\n",
    "from sklearn.metrics import confusion_matrix\n",
    "y_pred= (model.predict(x_test)>= mythreshold).astype(int)\n",
    "cm= confusion_matrix(y_test, y_pred)\n",
    "print(cm)"
   ]
  },
  {
   "cell_type": "code",
   "execution_count": 22,
   "id": "90698ac6-3b8a-4a6b-b204-b551ac6c3a28",
   "metadata": {},
   "outputs": [
    {
     "data": {
      "text/plain": [
       "Text(0.5, 15.0, 'Predicted Label')"
      ]
     },
     "execution_count": 22,
     "metadata": {},
     "output_type": "execute_result"
    },
    {
     "data": {
      "image/png": "[encoded data removed]",
      "text/plain": [
       "<Figure size 432x288 with 2 Axes>"
      ]
     },
     "metadata": {
      "needs_background": "light"
     },
     "output_type": "display_data"
    }
   ],
   "source": [
    "import seaborn as sns\n",
    "sns.heatmap(cm, annot=True , cmap=\"Blues\" , fmt=\"d\", cbar=True, annot_kws={\"size\":15})\n",
    "plt.title(\"Test Data\")\n",
    "plt.ylabel(\"True Label\")\n",
    "plt.xlabel(\"Predicted Label\")"
   ]
  },
  {
   "cell_type": "code",
   "execution_count": 35,
   "id": "d7c7da8d-f061-4085-85d2-40a46f3f2be1",
   "metadata": {},
   "outputs": [
    {
     "data": {
      "image/png": "[encoded data removed]",
      "text/plain": [
       "<Figure size 576x432 with 1 Axes>"
      ]
     },
     "metadata": {
      "needs_background": "light"
     },
     "output_type": "display_data"
    }
   ],
   "source": [
    "import matplotlib.pyplot as plt\n",
    "\n",
    "import matplotlib.font_manager as font_manager\n",
    "\n",
    "font = font_manager.FontProperties(\n",
    "                                   weight='bold',\n",
    "                                   style='normal', size=12)\n",
    "from sklearn.metrics import roc_curve\n",
    "y_preds = model.predict(x_test).ravel()\n",
    "fpr, tpr, thresholds = roc_curve(y_test, y_pred)\n",
    "plt.figure(1)\n",
    "plt.plot([0, 1], [0, 1], 'y--')\n",
    "plt.plot(fpr, tpr, label= \"EfficientNetB0 ROC Curve (AUC = 0.988)\" , marker='*', linewidth=2, markersize=6)\n",
    "plt.xlabel('False positive rate', fontweight='bold',fontsize=15)\n",
    "plt.ylabel('True positive rate',fontweight='bold',fontsize=15)\n",
    "plt.title('ROC curve',fontweight='bold',fontsize=15)\n",
    "plt.legend(loc=\"best\" , prop=font)\n",
    "plt.gcf().set_size_inches(8, 6)\n",
    "plt.savefig('ROCplot3.png', dpi=300, bbox_inches='tight')\n",
    "plt.show()"
   ]
  },
  {
   "cell_type": "code",
   "execution_count": 36,
   "id": "ada8abf8-ec32-4bed-b0fa-d37b0f216b79",
   "metadata": {},
   "outputs": [
    {
     "name": "stdout",
     "output_type": "stream",
     "text": [
      "Area under curve, AUC =  0.9878447209901193\n"
     ]
    }
   ],
   "source": [
    "from sklearn.metrics import auc\n",
    "auc_value = auc(fpr, tpr)\n",
    "print(\"Area under curve, AUC = \", auc_value)"
   ]
  },
  {
   "cell_type": "code",
   "execution_count": 37,
   "id": "43815666-72ec-4699-b954-e2d48dd18d41",
   "metadata": {},
   "outputs": [
    {
     "name": "stdout",
     "output_type": "stream",
     "text": [
      "              precision    recall  f1-score   support\n",
      "\n",
      "           0       0.99      0.99      0.99       343\n",
      "           1       0.99      0.98      0.99       257\n",
      "\n",
      "    accuracy                           0.99       600\n",
      "   macro avg       0.99      0.99      0.99       600\n",
      "weighted avg       0.99      0.99      0.99       600\n",
      "\n"
     ]
    }
   ],
   "source": [
    "from sklearn.metrics import classification_report\n",
    "print(classification_report(y_test, y_pred))"
   ]
  },
  {
   "cell_type": "code",
   "execution_count": null,
   "id": "964ba29b-753a-434d-8781-09f6145e76a4",
   "metadata": {},
   "outputs": [],
   "source": []
  }
 ],
 "metadata": {
  "kernelspec": {
   "display_name": "Tensorflow 2.4 | Jupyterhub",
   "language": "python",
   "name": "jupyter-tf2"
  },
  "language_info": {
   "codemirror_mode": {
    "name": "ipython",
    "version": 3
   },
   "file_extension": ".py",
   "mimetype": "text/x-python",
   "name": "python",
   "nbconvert_exporter": "python",
   "pygments_lexer": "ipython3",
   "version": "3.8.10"
  }
 },
 "nbformat": 4,
 "nbformat_minor": 5
}
