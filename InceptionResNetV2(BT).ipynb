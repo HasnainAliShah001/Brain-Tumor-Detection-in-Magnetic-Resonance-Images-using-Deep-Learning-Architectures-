{
 "cells": [
  {
   "cell_type": "code",
   "execution_count": 1,
   "id": "9a17b06e-0e5c-49cf-b662-0fa753cd9d54",
   "metadata": {},
   "outputs": [],
   "source": [
    "import os\n",
    "os.environ[\"CUDA_DEVICE_ORDER\"]=\"PCI_BUS_ID\"   # see issue #152\n",
    "os.environ[\"CUDA_VISIBLE_DEVICES\"]=\"6\""
   ]
  },
  {
   "cell_type": "code",
   "execution_count": 2,
   "id": "3a5d8853-1cce-4421-a36d-7599bee145ff",
   "metadata": {},
   "outputs": [],
   "source": [
    "import cv2\n",
    "from PIL import  Image\n",
    "import numpy as np"
   ]
  },
  {
   "cell_type": "code",
   "execution_count": 3,
   "id": "25fef493-1c05-4e97-90a5-917dccdafc5d",
   "metadata": {},
   "outputs": [],
   "source": [
    "image_directory = '/data1/hom1/ict06/Br35H Brain Tumor Detection 2020/dataset/'\n",
    "\n",
    "dataset=[]\n",
    "label=[]\n",
    "\n",
    "no_tumor_images = os.listdir('/data1/hom1/ict06/Br35H Brain Tumor Detection 2020/dataset/no')\n",
    "yes_tumor_images = os.listdir('/data1/hom1/ict06/Br35H Brain Tumor Detection 2020/dataset/yes')"
   ]
  },
  {
   "cell_type": "code",
   "execution_count": 4,
   "id": "416b3715-1c0f-4c0a-b52e-04add552188b",
   "metadata": {},
   "outputs": [],
   "source": [
    "for i , image_name in enumerate(no_tumor_images):\n",
    "  if(image_name.split('.')[1]== 'jpg'):\n",
    "      image=cv2.imread(image_directory+'no/'+image_name)\n",
    "      image=Image.fromarray(image, 'RGB')\n",
    "      image=image.resize((224,224))\n",
    "      dataset.append(np.array(image))\n",
    "      label.append(0)"
   ]
  },
  {
   "cell_type": "code",
   "execution_count": 5,
   "id": "d00e4156-5d78-4e4d-9f93-991733607d2e",
   "metadata": {},
   "outputs": [],
   "source": [
    "for i , image_name in enumerate(yes_tumor_images):\n",
    "  if(image_name.split('.')[1]== 'jpg'):\n",
    "      image=cv2.imread(image_directory+'yes/'+image_name)\n",
    "      image=Image.fromarray(image, 'RGB')\n",
    "      image=image.resize((224,224))\n",
    "      dataset.append(np.array(image))\n",
    "      label.append(1)"
   ]
  },
  {
   "cell_type": "code",
   "execution_count": 6,
   "id": "c8a52728-37b4-4fcb-852e-717eb5f7763a",
   "metadata": {},
   "outputs": [
    {
     "name": "stdout",
     "output_type": "stream",
     "text": [
      "3000\n",
      "3000\n"
     ]
    }
   ],
   "source": [
    "print(len(dataset))\n",
    "print(len(label))\n",
    "dataset=np.array(dataset)\n",
    "label=np.array(label)"
   ]
  },
  {
   "cell_type": "code",
   "execution_count": 7,
   "id": "0f6bda50-482b-4959-93b1-bb52a4bf6ca2",
   "metadata": {},
   "outputs": [
    {
     "name": "stdout",
     "output_type": "stream",
     "text": [
      "(2400, 224, 224, 3)\n",
      "(600, 224, 224, 3)\n",
      "(2400,)\n",
      "(600,)\n"
     ]
    }
   ],
   "source": [
    "from sklearn.model_selection import train_test_split\n",
    "\n",
    "x_train, x_test, y_train, y_test=train_test_split(dataset, label, test_size=0.2, random_state=0)\n",
    "print(x_train.shape)\n",
    "print(x_test.shape)\n",
    "print(y_train.shape)\n",
    "print(y_test.shape)"
   ]
  },
  {
   "cell_type": "code",
   "execution_count": 8,
   "id": "96c6b7d7-9c39-44f1-aaeb-934dde6410a2",
   "metadata": {},
   "outputs": [
    {
     "name": "stderr",
     "output_type": "stream",
     "text": [
      "2022-01-11 08:55:03.423545: I tensorflow/stream_executor/platform/default/dso_loader.cc:53] Successfully opened dynamic library libcudart.so.11.0\n"
     ]
    }
   ],
   "source": [
    "import tensorflow as tf\n",
    "from tensorflow import keras\n",
    "from keras.utils.np_utils import normalize\n",
    "\n",
    "x_train= normalize(x_train, axis=1)\n",
    "x_test = normalize(x_test, axis=1)"
   ]
  },
  {
   "cell_type": "code",
   "execution_count": 9,
   "id": "616b8a6d-803d-40b6-9d11-94340191f25c",
   "metadata": {},
   "outputs": [
    {
     "name": "stderr",
     "output_type": "stream",
     "text": [
      "2022-01-11 08:55:06.153869: I tensorflow/stream_executor/platform/default/dso_loader.cc:53] Successfully opened dynamic library libcuda.so.1\n",
      "2022-01-11 08:55:06.238067: I tensorflow/core/common_runtime/gpu/gpu_device.cc:1733] Found device 0 with properties: \n",
      "pciBusID: 0000:c1:00.0 name: RTX A5000 computeCapability: 8.6\n",
      "coreClock: 1.695GHz coreCount: 64 deviceMemorySize: 23.69GiB deviceMemoryBandwidth: 715.34GiB/s\n",
      "2022-01-11 08:55:06.238098: I tensorflow/stream_executor/platform/default/dso_loader.cc:53] Successfully opened dynamic library libcudart.so.11.0\n",
      "2022-01-11 08:55:06.240011: I tensorflow/stream_executor/platform/default/dso_loader.cc:53] Successfully opened dynamic library libcublas.so.11\n",
      "2022-01-11 08:55:06.240049: I tensorflow/stream_executor/platform/default/dso_loader.cc:53] Successfully opened dynamic library libcublasLt.so.11\n",
      "2022-01-11 08:55:06.241001: I tensorflow/stream_executor/platform/default/dso_loader.cc:53] Successfully opened dynamic library libcufft.so.10\n",
      "2022-01-11 08:55:06.241228: I tensorflow/stream_executor/platform/default/dso_loader.cc:53] Successfully opened dynamic library libcurand.so.10\n",
      "2022-01-11 08:55:06.243130: I tensorflow/stream_executor/platform/default/dso_loader.cc:53] Successfully opened dynamic library libcusolver.so.11\n",
      "2022-01-11 08:55:06.243516: I tensorflow/stream_executor/platform/default/dso_loader.cc:53] Successfully opened dynamic library libcusparse.so.11\n",
      "2022-01-11 08:55:06.243633: I tensorflow/stream_executor/platform/default/dso_loader.cc:53] Successfully opened dynamic library libcudnn.so.8\n",
      "2022-01-11 08:55:06.247215: I tensorflow/core/common_runtime/gpu/gpu_device.cc:1871] Adding visible gpu devices: 0\n",
      "2022-01-11 08:55:06.248346: I tensorflow/core/platform/cpu_feature_guard.cc:142] This TensorFlow binary is optimized with oneAPI Deep Neural Network Library (oneDNN) to use the following CPU instructions in performance-critical operations:  AVX2 FMA\n",
      "To enable them in other operations, rebuild TensorFlow with the appropriate compiler flags.\n",
      "2022-01-11 08:55:06.253176: I tensorflow/core/common_runtime/gpu/gpu_device.cc:1733] Found device 0 with properties: \n",
      "pciBusID: 0000:c1:00.0 name: RTX A5000 computeCapability: 8.6\n",
      "coreClock: 1.695GHz coreCount: 64 deviceMemorySize: 23.69GiB deviceMemoryBandwidth: 715.34GiB/s\n",
      "2022-01-11 08:55:06.257952: I tensorflow/core/common_runtime/gpu/gpu_device.cc:1871] Adding visible gpu devices: 0\n",
      "2022-01-11 08:55:06.258033: I tensorflow/stream_executor/platform/default/dso_loader.cc:53] Successfully opened dynamic library libcudart.so.11.0\n",
      "2022-01-11 08:55:06.788738: I tensorflow/core/common_runtime/gpu/gpu_device.cc:1258] Device interconnect StreamExecutor with strength 1 edge matrix:\n",
      "2022-01-11 08:55:06.788796: I tensorflow/core/common_runtime/gpu/gpu_device.cc:1264]      0 \n",
      "2022-01-11 08:55:06.788806: I tensorflow/core/common_runtime/gpu/gpu_device.cc:1277] 0:   N \n",
      "2022-01-11 08:55:06.823696: I tensorflow/core/common_runtime/gpu/gpu_device.cc:1418] Created TensorFlow device (/job:localhost/replica:0/task:0/device:GPU:0 with 22356 MB memory) -> physical GPU (device: 0, name: RTX A5000, pci bus id: 0000:c1:00.0, compute capability: 8.6)\n"
     ]
    }
   ],
   "source": [
    "from tensorflow.keras.applications import InceptionResNetV2\n",
    "inc=InceptionResNetV2(input_shape=(224,224,3), weights='imagenet', include_top=False)"
   ]
  },
  {
   "cell_type": "code",
   "execution_count": 10,
   "id": "82dd1e75-8d0e-4f37-a892-84ba67995b67",
   "metadata": {},
   "outputs": [],
   "source": [
    "from tensorflow.keras.layers import Flatten\n",
    "from tensorflow.keras.layers import Dense\n",
    "\n",
    "\n",
    "for i in inc.layers:\n",
    "  i.trainable=False\n",
    "\n",
    "x=Flatten()(inc.output)\n",
    "prediction=Dense(1, activation='sigmoid')(x)"
   ]
  },
  {
   "cell_type": "code",
   "execution_count": 11,
   "id": "6b500177-3635-4a38-bd11-888fdb03a245",
   "metadata": {},
   "outputs": [],
   "source": [
    "from tensorflow.keras.models import Model\n",
    "model=Model(inputs=inc.input, outputs=prediction)"
   ]
  },
  {
   "cell_type": "code",
   "execution_count": 12,
   "id": "a52fb284-3a19-4209-b3ba-036bb21a0129",
   "metadata": {},
   "outputs": [],
   "source": [
    "model.compile(optimizer='adam', loss='binary_crossentropy', metrics=['accuracy'])"
   ]
  },
  {
   "cell_type": "code",
   "execution_count": 13,
   "id": "16970b12-a163-40dc-8d4d-05e91f692e8c",
   "metadata": {},
   "outputs": [
    {
     "name": "stderr",
     "output_type": "stream",
     "text": [
      "2022-01-11 08:55:11.446900: I tensorflow/compiler/mlir/mlir_graph_optimization_pass.cc:176] None of the MLIR Optimization Passes are enabled (registered 2)\n",
      "2022-01-11 08:55:11.464179: I tensorflow/core/platform/profile_utils/cpu_utils.cc:114] CPU Frequency: 2799860000 Hz\n"
     ]
    },
    {
     "name": "stdout",
     "output_type": "stream",
     "text": [
      "Epoch 1/50\n"
     ]
    },
    {
     "name": "stderr",
     "output_type": "stream",
     "text": [
      "2022-01-11 08:55:17.758121: I tensorflow/stream_executor/platform/default/dso_loader.cc:53] Successfully opened dynamic library libcudnn.so.8\n",
      "2022-01-11 08:55:18.465408: I tensorflow/stream_executor/cuda/cuda_dnn.cc:359] Loaded cuDNN version 8101\n",
      "2022-01-11 08:55:19.373523: I tensorflow/stream_executor/platform/default/dso_loader.cc:53] Successfully opened dynamic library libcublas.so.11\n",
      "2022-01-11 08:55:20.121979: I tensorflow/stream_executor/platform/default/dso_loader.cc:53] Successfully opened dynamic library libcublasLt.so.11\n"
     ]
    },
    {
     "name": "stdout",
     "output_type": "stream",
     "text": [
      "75/75 [==============================] - 17s 110ms/step - loss: 0.4962 - accuracy: 0.8667 - val_loss: 0.1860 - val_accuracy: 0.9367\n",
      "Epoch 2/50\n",
      "75/75 [==============================] - 5s 73ms/step - loss: 0.0692 - accuracy: 0.9762 - val_loss: 0.1434 - val_accuracy: 0.9517\n",
      "Epoch 3/50\n",
      "75/75 [==============================] - 5s 72ms/step - loss: 0.0476 - accuracy: 0.9808 - val_loss: 0.1429 - val_accuracy: 0.9600\n",
      "Epoch 4/50\n",
      "75/75 [==============================] - 6s 77ms/step - loss: 0.1196 - accuracy: 0.9525 - val_loss: 0.2471 - val_accuracy: 0.9483\n",
      "Epoch 5/50\n",
      "75/75 [==============================] - 6s 74ms/step - loss: 0.1057 - accuracy: 0.9638 - val_loss: 0.1374 - val_accuracy: 0.9733\n",
      "Epoch 6/50\n",
      "75/75 [==============================] - 6s 78ms/step - loss: 0.0377 - accuracy: 0.9850 - val_loss: 0.1285 - val_accuracy: 0.9750\n",
      "Epoch 7/50\n",
      "75/75 [==============================] - 5s 73ms/step - loss: 0.0108 - accuracy: 0.9954 - val_loss: 0.1453 - val_accuracy: 0.9733\n",
      "Epoch 8/50\n",
      "75/75 [==============================] - 6s 76ms/step - loss: 0.0016 - accuracy: 1.0000 - val_loss: 0.1240 - val_accuracy: 0.9783\n",
      "Epoch 9/50\n",
      "75/75 [==============================] - 6s 75ms/step - loss: 5.6025e-04 - accuracy: 1.0000 - val_loss: 0.1193 - val_accuracy: 0.9817\n",
      "Epoch 10/50\n",
      "75/75 [==============================] - 6s 76ms/step - loss: 4.7461e-04 - accuracy: 1.0000 - val_loss: 0.1182 - val_accuracy: 0.9817\n",
      "Epoch 11/50\n",
      "75/75 [==============================] - 6s 74ms/step - loss: 4.2806e-04 - accuracy: 1.0000 - val_loss: 0.1176 - val_accuracy: 0.9817\n",
      "Epoch 12/50\n",
      "75/75 [==============================] - 5s 74ms/step - loss: 3.9233e-04 - accuracy: 1.0000 - val_loss: 0.1172 - val_accuracy: 0.9817\n",
      "Epoch 13/50\n",
      "75/75 [==============================] - 6s 76ms/step - loss: 3.6371e-04 - accuracy: 1.0000 - val_loss: 0.1170 - val_accuracy: 0.9817\n",
      "Epoch 14/50\n",
      "75/75 [==============================] - 6s 75ms/step - loss: 3.4009e-04 - accuracy: 1.0000 - val_loss: 0.1169 - val_accuracy: 0.9817\n",
      "Epoch 15/50\n",
      "75/75 [==============================] - 6s 74ms/step - loss: 3.2013e-04 - accuracy: 1.0000 - val_loss: 0.1168 - val_accuracy: 0.9817\n",
      "Epoch 16/50\n",
      "75/75 [==============================] - 6s 77ms/step - loss: 3.0289e-04 - accuracy: 1.0000 - val_loss: 0.1167 - val_accuracy: 0.9817\n",
      "Epoch 17/50\n",
      "75/75 [==============================] - 6s 75ms/step - loss: 2.8776e-04 - accuracy: 1.0000 - val_loss: 0.1167 - val_accuracy: 0.9817\n",
      "Epoch 18/50\n",
      "75/75 [==============================] - 6s 74ms/step - loss: 2.7425e-04 - accuracy: 1.0000 - val_loss: 0.1167 - val_accuracy: 0.9817\n",
      "Epoch 19/50\n",
      "75/75 [==============================] - 5s 73ms/step - loss: 2.6205e-04 - accuracy: 1.0000 - val_loss: 0.1167 - val_accuracy: 0.9817\n",
      "Epoch 20/50\n",
      "75/75 [==============================] - 5s 73ms/step - loss: 2.5091e-04 - accuracy: 1.0000 - val_loss: 0.1167 - val_accuracy: 0.9817\n",
      "Epoch 21/50\n",
      "75/75 [==============================] - 5s 73ms/step - loss: 2.4065e-04 - accuracy: 1.0000 - val_loss: 0.1167 - val_accuracy: 0.9817\n",
      "Epoch 22/50\n",
      "75/75 [==============================] - 6s 74ms/step - loss: 2.3113e-04 - accuracy: 1.0000 - val_loss: 0.1167 - val_accuracy: 0.9817\n",
      "Epoch 23/50\n",
      "75/75 [==============================] - 5s 73ms/step - loss: 2.2223e-04 - accuracy: 1.0000 - val_loss: 0.1167 - val_accuracy: 0.9817\n",
      "Epoch 24/50\n",
      "75/75 [==============================] - 6s 74ms/step - loss: 2.1389e-04 - accuracy: 1.0000 - val_loss: 0.1167 - val_accuracy: 0.9817\n",
      "Epoch 25/50\n",
      "75/75 [==============================] - 5s 72ms/step - loss: 2.0602e-04 - accuracy: 1.0000 - val_loss: 0.1167 - val_accuracy: 0.9817\n",
      "Epoch 26/50\n",
      "75/75 [==============================] - 6s 74ms/step - loss: 1.9858e-04 - accuracy: 1.0000 - val_loss: 0.1167 - val_accuracy: 0.9817\n",
      "Epoch 27/50\n",
      "75/75 [==============================] - 6s 75ms/step - loss: 1.9152e-04 - accuracy: 1.0000 - val_loss: 0.1167 - val_accuracy: 0.9817\n",
      "Epoch 28/50\n",
      "75/75 [==============================] - 6s 74ms/step - loss: 1.8481e-04 - accuracy: 1.0000 - val_loss: 0.1168 - val_accuracy: 0.9817\n",
      "Epoch 29/50\n",
      "75/75 [==============================] - 6s 74ms/step - loss: 1.7841e-04 - accuracy: 1.0000 - val_loss: 0.1168 - val_accuracy: 0.9817\n",
      "Epoch 30/50\n",
      "75/75 [==============================] - 5s 73ms/step - loss: 1.7230e-04 - accuracy: 1.0000 - val_loss: 0.1168 - val_accuracy: 0.9817\n",
      "Epoch 31/50\n",
      "75/75 [==============================] - 5s 73ms/step - loss: 1.6645e-04 - accuracy: 1.0000 - val_loss: 0.1168 - val_accuracy: 0.9817\n",
      "Epoch 32/50\n",
      "75/75 [==============================] - 5s 73ms/step - loss: 1.6085e-04 - accuracy: 1.0000 - val_loss: 0.1169 - val_accuracy: 0.9817\n",
      "Epoch 33/50\n",
      "75/75 [==============================] - 5s 73ms/step - loss: 1.5549e-04 - accuracy: 1.0000 - val_loss: 0.1169 - val_accuracy: 0.9817\n",
      "Epoch 34/50\n",
      "75/75 [==============================] - 6s 76ms/step - loss: 1.5034e-04 - accuracy: 1.0000 - val_loss: 0.1169 - val_accuracy: 0.9817\n",
      "Epoch 35/50\n",
      "75/75 [==============================] - 5s 74ms/step - loss: 1.4539e-04 - accuracy: 1.0000 - val_loss: 0.1170 - val_accuracy: 0.9817\n",
      "Epoch 36/50\n",
      "75/75 [==============================] - 6s 74ms/step - loss: 1.4063e-04 - accuracy: 1.0000 - val_loss: 0.1170 - val_accuracy: 0.9817\n",
      "Epoch 37/50\n",
      "75/75 [==============================] - 6s 76ms/step - loss: 1.3605e-04 - accuracy: 1.0000 - val_loss: 0.1171 - val_accuracy: 0.9817\n",
      "Epoch 38/50\n",
      "75/75 [==============================] - 6s 74ms/step - loss: 1.3165e-04 - accuracy: 1.0000 - val_loss: 0.1171 - val_accuracy: 0.9817\n",
      "Epoch 39/50\n",
      "75/75 [==============================] - 5s 73ms/step - loss: 1.2740e-04 - accuracy: 1.0000 - val_loss: 0.1172 - val_accuracy: 0.9817\n",
      "Epoch 40/50\n",
      "75/75 [==============================] - 5s 72ms/step - loss: 1.2331e-04 - accuracy: 1.0000 - val_loss: 0.1172 - val_accuracy: 0.9817\n",
      "Epoch 41/50\n",
      "75/75 [==============================] - 5s 73ms/step - loss: 1.1937e-04 - accuracy: 1.0000 - val_loss: 0.1173 - val_accuracy: 0.9817\n",
      "Epoch 42/50\n",
      "75/75 [==============================] - 5s 73ms/step - loss: 1.1556e-04 - accuracy: 1.0000 - val_loss: 0.1173 - val_accuracy: 0.9817\n",
      "Epoch 43/50\n",
      "75/75 [==============================] - 5s 72ms/step - loss: 1.1189e-04 - accuracy: 1.0000 - val_loss: 0.1174 - val_accuracy: 0.9817\n",
      "Epoch 44/50\n",
      "75/75 [==============================] - 6s 74ms/step - loss: 1.0835e-04 - accuracy: 1.0000 - val_loss: 0.1174 - val_accuracy: 0.9817\n",
      "Epoch 45/50\n",
      "75/75 [==============================] - 5s 73ms/step - loss: 1.0492e-04 - accuracy: 1.0000 - val_loss: 0.1175 - val_accuracy: 0.9817\n",
      "Epoch 46/50\n",
      "75/75 [==============================] - 5s 72ms/step - loss: 1.0162e-04 - accuracy: 1.0000 - val_loss: 0.1176 - val_accuracy: 0.9817\n",
      "Epoch 47/50\n",
      "75/75 [==============================] - 5s 72ms/step - loss: 9.8426e-05 - accuracy: 1.0000 - val_loss: 0.1177 - val_accuracy: 0.9817\n",
      "Epoch 48/50\n",
      "75/75 [==============================] - 5s 73ms/step - loss: 9.5339e-05 - accuracy: 1.0000 - val_loss: 0.1177 - val_accuracy: 0.9817\n",
      "Epoch 49/50\n",
      "75/75 [==============================] - 5s 73ms/step - loss: 9.2357e-05 - accuracy: 1.0000 - val_loss: 0.1178 - val_accuracy: 0.9817\n",
      "Epoch 50/50\n",
      "75/75 [==============================] - 5s 72ms/step - loss: 8.9473e-05 - accuracy: 1.0000 - val_loss: 0.1179 - val_accuracy: 0.9817\n"
     ]
    }
   ],
   "source": [
    "hist=model.fit(x_train, y_train, batch_size=32, \n",
    "               verbose=1, epochs=50, \n",
    "               validation_data=(x_test,y_test), shuffle=False)\n",
    "\n",
    "model.save('/data1/hom1/ict06/Models/IncRes(BT).h5')"
   ]
  },
  {
   "cell_type": "code",
   "execution_count": 14,
   "id": "50b6a9ce-464c-4654-9401-c663208a5432",
   "metadata": {},
   "outputs": [],
   "source": [
    "import pandas as pd\n",
    "import matplotlib.pyplot as plt\n",
    "metrics = pd.DataFrame(model.history.history)"
   ]
  },
  {
   "cell_type": "code",
   "execution_count": 15,
   "id": "9b3d86a1-1276-4682-9e27-86d889130aea",
   "metadata": {},
   "outputs": [
    {
     "data": {
      "text/plain": [
       "Text(0.5, 0, 'Epoch')"
      ]
     },
     "execution_count": 15,
     "metadata": {},
     "output_type": "execute_result"
    },
    {
     "data": {
      "image/png": "[encoded data removed]",
      "text/plain": [
       "<Figure size 432x288 with 1 Axes>"
      ]
     },
     "metadata": {
      "needs_background": "light"
     },
     "output_type": "display_data"
    }
   ],
   "source": [
    "metrics[['accuracy', 'val_accuracy']].plot()\n",
    "plt.title(\"Model Accuracy\")\n",
    "plt.ylabel(\"Accuracy\")\n",
    "plt.xlabel(\"Epoch\")"
   ]
  },
  {
   "cell_type": "code",
   "execution_count": 16,
   "id": "7d015ccf-9c9a-4b06-b82c-79d45e4def19",
   "metadata": {},
   "outputs": [
    {
     "data": {
      "text/plain": [
       "Text(0.5, 0, 'Epoch')"
      ]
     },
     "execution_count": 16,
     "metadata": {},
     "output_type": "execute_result"
    },
    {
     "data": {
      "image/png": "[encoded data removed]",
      "text/plain": [
       "<Figure size 432x288 with 1 Axes>"
      ]
     },
     "metadata": {
      "needs_background": "light"
     },
     "output_type": "display_data"
    }
   ],
   "source": [
    "metrics[['loss', 'val_loss']].plot()\n",
    "plt.title(\"Model Loss\")\n",
    "plt.ylabel(\"loss\")\n",
    "plt.xlabel(\"Epoch\")"
   ]
  },
  {
   "cell_type": "code",
   "execution_count": 17,
   "id": "c730b54c-ed37-4bbd-8ad5-b626a93417ba",
   "metadata": {},
   "outputs": [
    {
     "name": "stdout",
     "output_type": "stream",
     "text": [
      "19/19 [==============================] - 1s 60ms/step - loss: 0.1179 - accuracy: 0.9817\n",
      "Accuracy = 98.16666841506958 %\n"
     ]
    }
   ],
   "source": [
    "_, acc= model.evaluate(x_test,y_test)\n",
    "print(\"Accuracy =\", (acc * 100.0), \"%\")"
   ]
  },
  {
   "cell_type": "code",
   "execution_count": 18,
   "id": "86375baa-9651-4b4c-a5bf-0798895b2f8b",
   "metadata": {},
   "outputs": [],
   "source": [
    "y_pred = model.predict(x_test)"
   ]
  },
  {
   "cell_type": "code",
   "execution_count": 19,
   "id": "e23cbaa9-eb87-43b0-ba76-2c8be7f225d9",
   "metadata": {},
   "outputs": [
    {
     "name": "stdout",
     "output_type": "stream",
     "text": [
      "[[337   6]\n",
      " [  5 252]]\n"
     ]
    }
   ],
   "source": [
    "mythreshold= 0.5\n",
    "from sklearn.metrics import confusion_matrix\n",
    "y_pred= (model.predict(x_test)>= mythreshold).astype(int)\n",
    "cm= confusion_matrix(y_test, y_pred)\n",
    "print(cm)"
   ]
  },
  {
   "cell_type": "code",
   "execution_count": 20,
   "id": "edebbc45-3678-4872-826f-2a97ac72edb8",
   "metadata": {},
   "outputs": [
    {
     "data": {
      "text/plain": [
       "Text(0.5, 15.0, 'Predicted Label')"
      ]
     },
     "execution_count": 20,
     "metadata": {},
     "output_type": "execute_result"
    },
    {
     "data": {
      "image/png": "[encoded data removed]",
      "text/plain": [
       "<Figure size 432x288 with 2 Axes>"
      ]
     },
     "metadata": {
      "needs_background": "light"
     },
     "output_type": "display_data"
    }
   ],
   "source": [
    "import seaborn as sns\n",
    "sns.heatmap(cm, annot=True , cmap=\"Blues\" , fmt=\"d\", cbar=True, annot_kws={\"size\":15})\n",
    "plt.title(\"Test Data\")\n",
    "plt.ylabel(\"True Label\")\n",
    "plt.xlabel(\"Predicted Label\")"
   ]
  },
  {
   "cell_type": "code",
   "execution_count": 21,
   "id": "ebe51344-49da-46bd-8abd-ad4e91f2e1e8",
   "metadata": {},
   "outputs": [
    {
     "data": {
      "image/png": "[encoded data removed]",
      "text/plain": [
       "<Figure size 432x288 with 1 Axes>"
      ]
     },
     "metadata": {
      "needs_background": "light"
     },
     "output_type": "display_data"
    }
   ],
   "source": [
    "from sklearn.metrics import roc_curve\n",
    "y_preds = model.predict(x_test).ravel()\n",
    "fpr, tpr, thresholds = roc_curve(y_test, y_pred)\n",
    "plt.figure(1)\n",
    "plt.plot([0, 1], [0, 1], 'y--')\n",
    "plt.plot(fpr, tpr, marker='.')\n",
    "plt.xlabel('False positive rate')\n",
    "plt.ylabel('True positive rate')\n",
    "plt.title('ROC curve')\n",
    "plt.show()"
   ]
  },
  {
   "cell_type": "code",
   "execution_count": 22,
   "id": "cfcc057f-7fd3-43e3-9404-fdf1ab4efed1",
   "metadata": {},
   "outputs": [
    {
     "name": "stdout",
     "output_type": "stream",
     "text": [
      "Area under curve, AUC =  0.9815260178557249\n"
     ]
    }
   ],
   "source": [
    "from sklearn.metrics import auc\n",
    "auc_value = auc(fpr, tpr)\n",
    "print(\"Area under curve, AUC = \", auc_value)"
   ]
  },
  {
   "cell_type": "code",
   "execution_count": 23,
   "id": "10d29237-5160-4fe1-8d7b-fdc769ae1b68",
   "metadata": {},
   "outputs": [
    {
     "name": "stdout",
     "output_type": "stream",
     "text": [
      "              precision    recall  f1-score   support\n",
      "\n",
      "           0       0.99      0.98      0.98       343\n",
      "           1       0.98      0.98      0.98       257\n",
      "\n",
      "    accuracy                           0.98       600\n",
      "   macro avg       0.98      0.98      0.98       600\n",
      "weighted avg       0.98      0.98      0.98       600\n",
      "\n"
     ]
    }
   ],
   "source": [
    "from sklearn.metrics import classification_report\n",
    "print(classification_report(y_test, y_pred))"
   ]
  },
  {
   "cell_type": "code",
   "execution_count": null,
   "id": "c1908c19-0964-45af-b20f-0ddabf128f21",
   "metadata": {},
   "outputs": [],
   "source": []
  }
 ],
 "metadata": {
  "kernelspec": {
   "display_name": "Tensorflow 2.4 | Jupyterhub",
   "language": "python",
   "name": "jupyter-tf2"
  },
  "language_info": {
   "codemirror_mode": {
    "name": "ipython",
    "version": 3
   },
   "file_extension": ".py",
   "mimetype": "text/x-python",
   "name": "python",
   "nbconvert_exporter": "python",
   "pygments_lexer": "ipython3",
   "version": "3.8.10"
  }
 },
 "nbformat": 4,
 "nbformat_minor": 5
}
