{
 "cells": [
  {
   "cell_type": "code",
   "execution_count": 1,
   "id": "07f15447-ef41-4fc0-a03c-d4624dc65b9e",
   "metadata": {},
   "outputs": [],
   "source": [
    "import os\n",
    "os.environ[\"CUDA_DEVICE_ORDER\"]=\"PCI_BUS_ID\"   # see issue #152\n",
    "os.environ[\"CUDA_VISIBLE_DEVICES\"]=\"7\""
   ]
  },
  {
   "cell_type": "code",
   "execution_count": 2,
   "id": "d343fc54-9893-42b3-b1c8-ee3ce38f9301",
   "metadata": {},
   "outputs": [],
   "source": [
    "import cv2\n",
    "from PIL import  Image\n",
    "import numpy as np"
   ]
  },
  {
   "cell_type": "code",
   "execution_count": 3,
   "id": "a74ec23b-8b20-4de8-bdd5-7f35b9f972e8",
   "metadata": {},
   "outputs": [],
   "source": [
    "image_directory = '/data1/hom1/ict06/Br35H Brain Tumor Detection 2020/dataset/'\n",
    "\n",
    "dataset=[]\n",
    "label=[]\n",
    "\n",
    "no_tumor_images = os.listdir('/data1/hom1/ict06/Br35H Brain Tumor Detection 2020/dataset/no')\n",
    "yes_tumor_images = os.listdir('/data1/hom1/ict06/Br35H Brain Tumor Detection 2020/dataset/yes')"
   ]
  },
  {
   "cell_type": "code",
   "execution_count": 4,
   "id": "ac75464b-1154-4f58-9d86-fa93a8625141",
   "metadata": {},
   "outputs": [],
   "source": [
    "for i , image_name in enumerate(no_tumor_images):\n",
    "  if(image_name.split('.')[1]== 'jpg'):\n",
    "      image=cv2.imread(image_directory+'no/'+image_name)\n",
    "      image=Image.fromarray(image, 'RGB')\n",
    "      image=image.resize((224,224))\n",
    "      dataset.append(np.array(image))\n",
    "      label.append(0)"
   ]
  },
  {
   "cell_type": "code",
   "execution_count": 5,
   "id": "177ab488-88d0-4cf4-9410-c13c1ebaa941",
   "metadata": {},
   "outputs": [],
   "source": [
    "for i , image_name in enumerate(yes_tumor_images):\n",
    "  if(image_name.split('.')[1]== 'jpg'):\n",
    "      image=cv2.imread(image_directory+'yes/'+image_name)\n",
    "      image=Image.fromarray(image, 'RGB')\n",
    "      image=image.resize((224,224))\n",
    "      dataset.append(np.array(image))\n",
    "      label.append(1)"
   ]
  },
  {
   "cell_type": "code",
   "execution_count": 6,
   "id": "7457fe43-b780-42f7-b92e-0c3f541b2755",
   "metadata": {},
   "outputs": [
    {
     "name": "stdout",
     "output_type": "stream",
     "text": [
      "3000\n",
      "3000\n"
     ]
    }
   ],
   "source": [
    "print(len(dataset))\n",
    "print(len(label))\n",
    "dataset=np.array(dataset)\n",
    "label=np.array(label)"
   ]
  },
  {
   "cell_type": "code",
   "execution_count": 7,
   "id": "89cf4954-00f4-486b-9c95-c79e29e15d00",
   "metadata": {},
   "outputs": [
    {
     "name": "stdout",
     "output_type": "stream",
     "text": [
      "(2400, 224, 224, 3)\n",
      "(600, 224, 224, 3)\n",
      "(2400,)\n",
      "(600,)\n"
     ]
    }
   ],
   "source": [
    "from sklearn.model_selection import train_test_split\n",
    "\n",
    "x_train, x_test, y_train, y_test=train_test_split(dataset, label, test_size=0.2, random_state=0)\n",
    "print(x_train.shape)\n",
    "print(x_test.shape)\n",
    "print(y_train.shape)\n",
    "print(y_test.shape)"
   ]
  },
  {
   "cell_type": "code",
   "execution_count": 8,
   "id": "b52f24ab-67b5-4a1b-85fd-f110d587733b",
   "metadata": {},
   "outputs": [
    {
     "name": "stderr",
     "output_type": "stream",
     "text": [
      "2021-10-07 14:06:03.720360: I tensorflow/stream_executor/platform/default/dso_loader.cc:53] Successfully opened dynamic library libcudart.so.11.0\n"
     ]
    }
   ],
   "source": [
    "import tensorflow as tf\n",
    "from tensorflow import keras\n",
    "from keras.utils.np_utils import normalize\n",
    "\n",
    "x_train= normalize(x_train, axis=1)\n",
    "x_test = normalize(x_test, axis=1)"
   ]
  },
  {
   "cell_type": "code",
   "execution_count": 14,
   "id": "afb80d51-b073-48c9-aa4d-30d6e7161b40",
   "metadata": {},
   "outputs": [
    {
     "name": "stderr",
     "output_type": "stream",
     "text": [
      "2021-10-07 14:27:41.461222: I tensorflow/stream_executor/platform/default/dso_loader.cc:53] Successfully opened dynamic library libcuda.so.1\n",
      "2021-10-07 14:27:42.113856: I tensorflow/core/common_runtime/gpu/gpu_device.cc:1733] Found device 0 with properties: \n",
      "pciBusID: 0000:e1:00.0 name: RTX A5000 computeCapability: 8.6\n",
      "coreClock: 1.695GHz coreCount: 64 deviceMemorySize: 23.69GiB deviceMemoryBandwidth: 715.34GiB/s\n",
      "2021-10-07 14:27:42.113919: I tensorflow/stream_executor/platform/default/dso_loader.cc:53] Successfully opened dynamic library libcudart.so.11.0\n",
      "2021-10-07 14:27:42.117397: I tensorflow/stream_executor/platform/default/dso_loader.cc:53] Successfully opened dynamic library libcublas.so.11\n",
      "2021-10-07 14:27:42.117460: I tensorflow/stream_executor/platform/default/dso_loader.cc:53] Successfully opened dynamic library libcublasLt.so.11\n",
      "2021-10-07 14:27:42.118748: I tensorflow/stream_executor/platform/default/dso_loader.cc:53] Successfully opened dynamic library libcufft.so.10\n",
      "2021-10-07 14:27:42.119073: I tensorflow/stream_executor/platform/default/dso_loader.cc:53] Successfully opened dynamic library libcurand.so.10\n",
      "2021-10-07 14:27:42.119982: I tensorflow/stream_executor/platform/default/dso_loader.cc:53] Successfully opened dynamic library libcusolver.so.11\n",
      "2021-10-07 14:27:42.120729: I tensorflow/stream_executor/platform/default/dso_loader.cc:53] Successfully opened dynamic library libcusparse.so.11\n",
      "2021-10-07 14:27:42.120909: I tensorflow/stream_executor/platform/default/dso_loader.cc:53] Successfully opened dynamic library libcudnn.so.8\n",
      "2021-10-07 14:27:42.133878: I tensorflow/core/common_runtime/gpu/gpu_device.cc:1871] Adding visible gpu devices: 0\n",
      "2021-10-07 14:27:42.134585: I tensorflow/core/platform/cpu_feature_guard.cc:142] This TensorFlow binary is optimized with oneAPI Deep Neural Network Library (oneDNN) to use the following CPU instructions in performance-critical operations:  AVX2 FMA\n",
      "To enable them in other operations, rebuild TensorFlow with the appropriate compiler flags.\n",
      "2021-10-07 14:27:42.142046: I tensorflow/core/common_runtime/gpu/gpu_device.cc:1733] Found device 0 with properties: \n",
      "pciBusID: 0000:e1:00.0 name: RTX A5000 computeCapability: 8.6\n",
      "coreClock: 1.695GHz coreCount: 64 deviceMemorySize: 23.69GiB deviceMemoryBandwidth: 715.34GiB/s\n",
      "2021-10-07 14:27:42.152289: I tensorflow/core/common_runtime/gpu/gpu_device.cc:1871] Adding visible gpu devices: 0\n",
      "2021-10-07 14:27:42.152386: I tensorflow/stream_executor/platform/default/dso_loader.cc:53] Successfully opened dynamic library libcudart.so.11.0\n",
      "2021-10-07 14:27:45.722831: I tensorflow/core/common_runtime/gpu/gpu_device.cc:1258] Device interconnect StreamExecutor with strength 1 edge matrix:\n",
      "2021-10-07 14:27:45.722870: I tensorflow/core/common_runtime/gpu/gpu_device.cc:1264]      0 \n",
      "2021-10-07 14:27:45.722876: I tensorflow/core/common_runtime/gpu/gpu_device.cc:1277] 0:   N \n",
      "2021-10-07 14:27:47.261004: I tensorflow/core/common_runtime/gpu/gpu_device.cc:1418] Created TensorFlow device (/job:localhost/replica:0/task:0/device:GPU:0 with 22355 MB memory) -> physical GPU (device: 0, name: RTX A5000, pci bus id: 0000:e1:00.0, compute capability: 8.6)\n"
     ]
    },
    {
     "name": "stdout",
     "output_type": "stream",
     "text": [
      "Downloading data from https://storage.googleapis.com/tensorflow/keras-applications/xception/xception_weights_tf_dim_ordering_tf_kernels_notop.h5\n",
      "83689472/83683744 [==============================] - 2s 0us/step\n"
     ]
    }
   ],
   "source": [
    "from tensorflow.keras.applications.xception import Xception\n",
    "inc=Xception(input_shape=(224,224,3), weights='imagenet', include_top=False)"
   ]
  },
  {
   "cell_type": "code",
   "execution_count": 15,
   "id": "ddbe3807-93ba-4ea8-9e09-da6185b3a025",
   "metadata": {},
   "outputs": [],
   "source": [
    "from tensorflow.keras.layers import Flatten\n",
    "from tensorflow.keras.layers import Dense\n",
    "\n",
    "\n",
    "for i in inc.layers:\n",
    "  i.trainable=False\n",
    "\n",
    "x=Flatten()(inc.output)\n",
    "prediction=Dense(1, activation='sigmoid')(x)"
   ]
  },
  {
   "cell_type": "code",
   "execution_count": 16,
   "id": "1c936efe-32ac-4829-8391-5f174f980c00",
   "metadata": {},
   "outputs": [],
   "source": [
    "from tensorflow.keras.models import Model\n",
    "model=Model(inputs=inc.input, outputs=prediction)"
   ]
  },
  {
   "cell_type": "code",
   "execution_count": 17,
   "id": "ad7d3e3c-e016-44f9-9e48-517b5e4d0b7c",
   "metadata": {},
   "outputs": [],
   "source": [
    "model.compile(optimizer='adam', loss='binary_crossentropy', metrics=['accuracy'])"
   ]
  },
  {
   "cell_type": "code",
   "execution_count": 18,
   "id": "cf13e734-30a8-4b79-9cab-2a0877202f69",
   "metadata": {},
   "outputs": [
    {
     "name": "stderr",
     "output_type": "stream",
     "text": [
      "2021-10-07 14:28:00.543229: I tensorflow/compiler/mlir/mlir_graph_optimization_pass.cc:176] None of the MLIR Optimization Passes are enabled (registered 2)\n",
      "2021-10-07 14:28:00.560641: I tensorflow/core/platform/profile_utils/cpu_utils.cc:114] CPU Frequency: 2800125000 Hz\n"
     ]
    },
    {
     "name": "stdout",
     "output_type": "stream",
     "text": [
      "Epoch 1/50\n"
     ]
    },
    {
     "name": "stderr",
     "output_type": "stream",
     "text": [
      "2021-10-07 14:28:03.217777: I tensorflow/stream_executor/platform/default/dso_loader.cc:53] Successfully opened dynamic library libcudnn.so.8\n",
      "2021-10-07 14:28:08.427320: I tensorflow/stream_executor/cuda/cuda_dnn.cc:359] Loaded cuDNN version 8101\n",
      "2021-10-07 14:28:13.835909: I tensorflow/stream_executor/platform/default/dso_loader.cc:53] Successfully opened dynamic library libcublas.so.11\n",
      "2021-10-07 14:28:18.973487: I tensorflow/stream_executor/platform/default/dso_loader.cc:53] Successfully opened dynamic library libcublasLt.so.11\n"
     ]
    },
    {
     "name": "stdout",
     "output_type": "stream",
     "text": [
      "75/75 [==============================] - 24s 75ms/step - loss: 0.5374 - accuracy: 0.8483 - val_loss: 0.2021 - val_accuracy: 0.9333\n",
      "Epoch 2/50\n",
      "75/75 [==============================] - 4s 47ms/step - loss: 0.0845 - accuracy: 0.9704 - val_loss: 0.2161 - val_accuracy: 0.9283\n",
      "Epoch 3/50\n",
      "75/75 [==============================] - 4s 48ms/step - loss: 0.0885 - accuracy: 0.9625 - val_loss: 0.1902 - val_accuracy: 0.9467\n",
      "Epoch 4/50\n",
      "75/75 [==============================] - 4s 47ms/step - loss: 0.1521 - accuracy: 0.9438 - val_loss: 0.2120 - val_accuracy: 0.9467\n",
      "Epoch 5/50\n",
      "75/75 [==============================] - 4s 49ms/step - loss: 0.0461 - accuracy: 0.9850 - val_loss: 0.1262 - val_accuracy: 0.9683\n",
      "Epoch 6/50\n",
      "75/75 [==============================] - 4s 48ms/step - loss: 0.0072 - accuracy: 0.9979 - val_loss: 0.1087 - val_accuracy: 0.9700\n",
      "Epoch 7/50\n",
      "75/75 [==============================] - 4s 48ms/step - loss: 0.0022 - accuracy: 1.0000 - val_loss: 0.1077 - val_accuracy: 0.9733\n",
      "Epoch 8/50\n",
      "75/75 [==============================] - 4s 48ms/step - loss: 8.1537e-04 - accuracy: 1.0000 - val_loss: 0.1065 - val_accuracy: 0.9733\n",
      "Epoch 9/50\n",
      "75/75 [==============================] - 4s 48ms/step - loss: 6.9319e-04 - accuracy: 1.0000 - val_loss: 0.1047 - val_accuracy: 0.9750\n",
      "Epoch 10/50\n",
      "75/75 [==============================] - 4s 48ms/step - loss: 6.3010e-04 - accuracy: 1.0000 - val_loss: 0.1037 - val_accuracy: 0.9750\n",
      "Epoch 11/50\n",
      "75/75 [==============================] - 4s 49ms/step - loss: 5.8175e-04 - accuracy: 1.0000 - val_loss: 0.1029 - val_accuracy: 0.9767\n",
      "Epoch 12/50\n",
      "75/75 [==============================] - 4s 49ms/step - loss: 5.4107e-04 - accuracy: 1.0000 - val_loss: 0.1023 - val_accuracy: 0.9750\n",
      "Epoch 13/50\n",
      "75/75 [==============================] - 4s 48ms/step - loss: 5.0571e-04 - accuracy: 1.0000 - val_loss: 0.1017 - val_accuracy: 0.9767\n",
      "Epoch 14/50\n",
      "75/75 [==============================] - 4s 47ms/step - loss: 4.7443e-04 - accuracy: 1.0000 - val_loss: 0.1011 - val_accuracy: 0.9767\n",
      "Epoch 15/50\n",
      "75/75 [==============================] - 4s 48ms/step - loss: 4.4644e-04 - accuracy: 1.0000 - val_loss: 0.1006 - val_accuracy: 0.9767\n",
      "Epoch 16/50\n",
      "75/75 [==============================] - 4s 49ms/step - loss: 4.2120e-04 - accuracy: 1.0000 - val_loss: 0.1001 - val_accuracy: 0.9767\n",
      "Epoch 17/50\n",
      "75/75 [==============================] - 4s 49ms/step - loss: 3.9829e-04 - accuracy: 1.0000 - val_loss: 0.0997 - val_accuracy: 0.9767\n",
      "Epoch 18/50\n",
      "75/75 [==============================] - 4s 48ms/step - loss: 3.7738e-04 - accuracy: 1.0000 - val_loss: 0.0993 - val_accuracy: 0.9767\n",
      "Epoch 19/50\n",
      "75/75 [==============================] - 4s 48ms/step - loss: 3.5820e-04 - accuracy: 1.0000 - val_loss: 0.0990 - val_accuracy: 0.9767\n",
      "Epoch 20/50\n",
      "75/75 [==============================] - 4s 48ms/step - loss: 3.4054e-04 - accuracy: 1.0000 - val_loss: 0.0987 - val_accuracy: 0.9767\n",
      "Epoch 21/50\n",
      "75/75 [==============================] - 4s 49ms/step - loss: 3.2421e-04 - accuracy: 1.0000 - val_loss: 0.0984 - val_accuracy: 0.9767\n",
      "Epoch 22/50\n",
      "75/75 [==============================] - 4s 48ms/step - loss: 3.0906e-04 - accuracy: 1.0000 - val_loss: 0.0982 - val_accuracy: 0.9767\n",
      "Epoch 23/50\n",
      "75/75 [==============================] - 3s 45ms/step - loss: 2.9497e-04 - accuracy: 1.0000 - val_loss: 0.0980 - val_accuracy: 0.9767\n",
      "Epoch 24/50\n",
      "75/75 [==============================] - 4s 48ms/step - loss: 2.8182e-04 - accuracy: 1.0000 - val_loss: 0.0978 - val_accuracy: 0.9767\n",
      "Epoch 25/50\n",
      "75/75 [==============================] - 4s 47ms/step - loss: 2.6952e-04 - accuracy: 1.0000 - val_loss: 0.0977 - val_accuracy: 0.9767\n",
      "Epoch 26/50\n",
      "75/75 [==============================] - 4s 49ms/step - loss: 2.5799e-04 - accuracy: 1.0000 - val_loss: 0.0976 - val_accuracy: 0.9767\n",
      "Epoch 27/50\n",
      "75/75 [==============================] - 4s 48ms/step - loss: 2.4715e-04 - accuracy: 1.0000 - val_loss: 0.0975 - val_accuracy: 0.9767\n",
      "Epoch 28/50\n",
      "75/75 [==============================] - 4s 48ms/step - loss: 2.3693e-04 - accuracy: 1.0000 - val_loss: 0.0974 - val_accuracy: 0.9767\n",
      "Epoch 29/50\n",
      "75/75 [==============================] - 4s 48ms/step - loss: 2.2730e-04 - accuracy: 1.0000 - val_loss: 0.0973 - val_accuracy: 0.9767\n",
      "Epoch 30/50\n",
      "75/75 [==============================] - 4s 49ms/step - loss: 2.1819e-04 - accuracy: 1.0000 - val_loss: 0.0973 - val_accuracy: 0.9767\n",
      "Epoch 31/50\n",
      "75/75 [==============================] - 4s 48ms/step - loss: 2.0957e-04 - accuracy: 1.0000 - val_loss: 0.0972 - val_accuracy: 0.9767\n",
      "Epoch 32/50\n",
      "75/75 [==============================] - 4s 48ms/step - loss: 2.0139e-04 - accuracy: 1.0000 - val_loss: 0.0972 - val_accuracy: 0.9767\n",
      "Epoch 33/50\n",
      "75/75 [==============================] - 4s 48ms/step - loss: 1.9362e-04 - accuracy: 1.0000 - val_loss: 0.0972 - val_accuracy: 0.9767\n",
      "Epoch 34/50\n",
      "75/75 [==============================] - 4s 48ms/step - loss: 1.8624e-04 - accuracy: 1.0000 - val_loss: 0.0972 - val_accuracy: 0.9767\n",
      "Epoch 35/50\n",
      "75/75 [==============================] - 4s 48ms/step - loss: 1.7921e-04 - accuracy: 1.0000 - val_loss: 0.0973 - val_accuracy: 0.9783\n",
      "Epoch 36/50\n",
      "75/75 [==============================] - 4s 49ms/step - loss: 1.7251e-04 - accuracy: 1.0000 - val_loss: 0.0973 - val_accuracy: 0.9783\n",
      "Epoch 37/50\n",
      "75/75 [==============================] - 4s 48ms/step - loss: 1.6611e-04 - accuracy: 1.0000 - val_loss: 0.0973 - val_accuracy: 0.9783\n",
      "Epoch 38/50\n",
      "75/75 [==============================] - 4s 48ms/step - loss: 1.6001e-04 - accuracy: 1.0000 - val_loss: 0.0974 - val_accuracy: 0.9783\n",
      "Epoch 39/50\n",
      "75/75 [==============================] - 4s 48ms/step - loss: 1.5417e-04 - accuracy: 1.0000 - val_loss: 0.0975 - val_accuracy: 0.9783\n",
      "Epoch 40/50\n",
      "75/75 [==============================] - 4s 49ms/step - loss: 1.4859e-04 - accuracy: 1.0000 - val_loss: 0.0975 - val_accuracy: 0.9783\n",
      "Epoch 41/50\n",
      "75/75 [==============================] - 4s 48ms/step - loss: 1.4324e-04 - accuracy: 1.0000 - val_loss: 0.0976 - val_accuracy: 0.9783\n",
      "Epoch 42/50\n",
      "75/75 [==============================] - 4s 48ms/step - loss: 1.3812e-04 - accuracy: 1.0000 - val_loss: 0.0977 - val_accuracy: 0.9783\n",
      "Epoch 43/50\n",
      "75/75 [==============================] - 4s 49ms/step - loss: 1.3321e-04 - accuracy: 1.0000 - val_loss: 0.0978 - val_accuracy: 0.9783\n",
      "Epoch 44/50\n",
      "75/75 [==============================] - 4s 48ms/step - loss: 1.2850e-04 - accuracy: 1.0000 - val_loss: 0.0979 - val_accuracy: 0.9783\n",
      "Epoch 45/50\n",
      "75/75 [==============================] - 4s 48ms/step - loss: 1.2398e-04 - accuracy: 1.0000 - val_loss: 0.0980 - val_accuracy: 0.9783\n",
      "Epoch 46/50\n",
      "75/75 [==============================] - 4s 49ms/step - loss: 1.1964e-04 - accuracy: 1.0000 - val_loss: 0.0981 - val_accuracy: 0.9783\n",
      "Epoch 47/50\n",
      "75/75 [==============================] - 4s 48ms/step - loss: 1.1547e-04 - accuracy: 1.0000 - val_loss: 0.0982 - val_accuracy: 0.9783\n",
      "Epoch 48/50\n",
      "75/75 [==============================] - 4s 48ms/step - loss: 1.1145e-04 - accuracy: 1.0000 - val_loss: 0.0984 - val_accuracy: 0.9783\n",
      "Epoch 49/50\n",
      "75/75 [==============================] - 4s 48ms/step - loss: 1.0760e-04 - accuracy: 1.0000 - val_loss: 0.0985 - val_accuracy: 0.9783\n",
      "Epoch 50/50\n",
      "75/75 [==============================] - 4s 48ms/step - loss: 1.0388e-04 - accuracy: 1.0000 - val_loss: 0.0986 - val_accuracy: 0.9783\n"
     ]
    },
    {
     "name": "stderr",
     "output_type": "stream",
     "text": [
      "/compuworks/anaconda3/envs/jupyter-tf2/lib/python3.8/site-packages/tensorflow/python/keras/utils/generic_utils.py:494: CustomMaskWarning: Custom mask layers require a config and must override get_config. When loading, the custom mask layer must be passed to the custom_objects argument.\n",
      "  warnings.warn('Custom mask layers require a config and must override '\n"
     ]
    }
   ],
   "source": [
    "hist=model.fit(x_train, y_train, batch_size=32, \n",
    "               verbose=1, epochs=50, \n",
    "               validation_data=(x_test,y_test), shuffle=False)\n",
    "\n",
    "model.save('/data1/hom1/ict06/Models/Xception(BT).h5')"
   ]
  },
  {
   "cell_type": "code",
   "execution_count": 19,
   "id": "eed78fc0-7fc4-43bd-8c98-d1dbdfc65a11",
   "metadata": {},
   "outputs": [],
   "source": [
    "import pandas as pd\n",
    "import matplotlib.pyplot as plt\n",
    "metrics = pd.DataFrame(model.history.history)"
   ]
  },
  {
   "cell_type": "code",
   "execution_count": 20,
   "id": "f9086bdd-6b5a-4448-959a-3e76543bdd80",
   "metadata": {},
   "outputs": [
    {
     "data": {
      "text/plain": [
       "Text(0.5, 0, 'Epoch')"
      ]
     },
     "execution_count": 20,
     "metadata": {},
     "output_type": "execute_result"
    },
    {
     "data": {
      "image/png": "[encoded data removed]",
      "text/plain": [
       "<Figure size 432x288 with 1 Axes>"
      ]
     },
     "metadata": {
      "needs_background": "light"
     },
     "output_type": "display_data"
    }
   ],
   "source": [
    "metrics[['accuracy', 'val_accuracy']].plot()\n",
    "plt.grid()\n",
    "plt.title(\"Model Accuracy\")\n",
    "plt.ylabel(\"Accuracy\")\n",
    "plt.xlabel(\"Epoch\")"
   ]
  },
  {
   "cell_type": "code",
   "execution_count": 21,
   "id": "f373759b-a924-43f0-b6ff-d54d71b48159",
   "metadata": {},
   "outputs": [
    {
     "data": {
      "text/plain": [
       "Text(0.5, 0, 'Epoch')"
      ]
     },
     "execution_count": 21,
     "metadata": {},
     "output_type": "execute_result"
    },
    {
     "data": {
      "image/png": "[encoded data removed]",
      "text/plain": [
       "<Figure size 432x288 with 1 Axes>"
      ]
     },
     "metadata": {
      "needs_background": "light"
     },
     "output_type": "display_data"
    }
   ],
   "source": [
    "metrics[['loss', 'val_loss']].plot()\n",
    "plt.grid()\n",
    "plt.title(\"Model Loss\")\n",
    "plt.ylabel(\"loss\")\n",
    "plt.xlabel(\"Epoch\")"
   ]
  },
  {
   "cell_type": "code",
   "execution_count": 22,
   "id": "ae953ce9-0507-4604-9e98-09e5ca237a42",
   "metadata": {},
   "outputs": [
    {
     "name": "stdout",
     "output_type": "stream",
     "text": [
      "19/19 [==============================] - 1s 35ms/step - loss: 0.0986 - accuracy: 0.9783\n",
      "Accuracy = 97.83333539962769 %\n"
     ]
    }
   ],
   "source": [
    "_, acc= model.evaluate(x_test,y_test)\n",
    "print(\"Accuracy =\", (acc * 100.0), \"%\")"
   ]
  },
  {
   "cell_type": "code",
   "execution_count": 23,
   "id": "665cb961-c642-40d4-9b53-a5183b71ac78",
   "metadata": {},
   "outputs": [],
   "source": [
    "y_pred = model.predict(x_test)"
   ]
  },
  {
   "cell_type": "code",
   "execution_count": 24,
   "id": "2adec2ad-65f6-49e1-a1b8-75cf2a8747a7",
   "metadata": {},
   "outputs": [
    {
     "name": "stdout",
     "output_type": "stream",
     "text": [
      "[[334   9]\n",
      " [  4 253]]\n"
     ]
    }
   ],
   "source": [
    "mythreshold= 0.5\n",
    "from sklearn.metrics import confusion_matrix\n",
    "y_pred= (model.predict(x_test)>= mythreshold).astype(int)\n",
    "cm= confusion_matrix(y_test, y_pred)\n",
    "print(cm)"
   ]
  },
  {
   "cell_type": "code",
   "execution_count": 25,
   "id": "631ae640-98f0-447b-9e1a-2752a9c64b00",
   "metadata": {},
   "outputs": [
    {
     "data": {
      "text/plain": [
       "<AxesSubplot:>"
      ]
     },
     "execution_count": 25,
     "metadata": {},
     "output_type": "execute_result"
    },
    {
     "data": {
      "image/png": "[encoded data removed]",
      "text/plain": [
       "<Figure size 432x288 with 2 Axes>"
      ]
     },
     "metadata": {
      "needs_background": "light"
     },
     "output_type": "display_data"
    }
   ],
   "source": [
    "import seaborn as sns\n",
    "sns.heatmap(cm, annot=True , cmap=\"Blues\" , fmt=\"d\", cbar=True, annot_kws={\"size\":10})\n",
    "plt.title(\"Test Data\")\n",
    "plt.ylabel(\"True Label\")\n",
    "plt.xlabel(\"Predicted Label\")"
   ]
  },
  {
   "cell_type": "code",
   "execution_count": 26,
   "id": "70f61c47-bed4-4671-ae69-703685a8c97c",
   "metadata": {},
   "outputs": [
    {
     "data": {
      "image/png": "[encoded data removed]",
      "text/plain": [
       "<Figure size 432x288 with 1 Axes>"
      ]
     },
     "metadata": {
      "needs_background": "light"
     },
     "output_type": "display_data"
    }
   ],
   "source": [
    "from sklearn.metrics import roc_curve\n",
    "y_preds = model.predict(x_test).ravel()\n",
    "fpr, tpr, thresholds = roc_curve(y_test, y_pred)\n",
    "plt.figure(1)\n",
    "plt.grid()\n",
    "plt.plot([0, 1], [0, 1], 'y--')\n",
    "plt.plot(fpr, tpr, marker='.')\n",
    "plt.xlabel('False positive rate')\n",
    "plt.ylabel('True positive rate')\n",
    "plt.title('ROC curve')\n",
    "plt.show()"
   ]
  },
  {
   "cell_type": "code",
   "execution_count": 27,
   "id": "72ef01ad-4613-4a93-a87d-1a41c550e8a2",
   "metadata": {},
   "outputs": [
    {
     "name": "stdout",
     "output_type": "stream",
     "text": [
      "Area under curve, AUC =  0.9790983653049881\n"
     ]
    }
   ],
   "source": [
    "from sklearn.metrics import auc\n",
    "auc_value = auc(fpr, tpr)\n",
    "print(\"Area under curve, AUC = \", auc_value)"
   ]
  },
  {
   "cell_type": "code",
   "execution_count": 28,
   "id": "f2bc40d1-7428-4303-9aa7-365bf38140bc",
   "metadata": {},
   "outputs": [
    {
     "name": "stdout",
     "output_type": "stream",
     "text": [
      "              precision    recall  f1-score   support\n",
      "\n",
      "           0       0.99      0.97      0.98       343\n",
      "           1       0.97      0.98      0.97       257\n",
      "\n",
      "    accuracy                           0.98       600\n",
      "   macro avg       0.98      0.98      0.98       600\n",
      "weighted avg       0.98      0.98      0.98       600\n",
      "\n"
     ]
    }
   ],
   "source": [
    "from sklearn.metrics import classification_report\n",
    "print(classification_report(y_test, y_pred))"
   ]
  },
  {
   "cell_type": "code",
   "execution_count": null,
   "id": "cfc7a239-835a-4d65-9703-2140ef3c9e81",
   "metadata": {},
   "outputs": [],
   "source": []
  }
 ],
 "metadata": {
  "kernelspec": {
   "display_name": "Tensorflow 2.4 | Jupyterhub",
   "language": "python",
   "name": "jupyter-tf2"
  },
  "language_info": {
   "codemirror_mode": {
    "name": "ipython",
    "version": 3
   },
   "file_extension": ".py",
   "mimetype": "text/x-python",
   "name": "python",
   "nbconvert_exporter": "python",
   "pygments_lexer": "ipython3",
   "version": "3.8.10"
  }
 },
 "nbformat": 4,
 "nbformat_minor": 5
}
