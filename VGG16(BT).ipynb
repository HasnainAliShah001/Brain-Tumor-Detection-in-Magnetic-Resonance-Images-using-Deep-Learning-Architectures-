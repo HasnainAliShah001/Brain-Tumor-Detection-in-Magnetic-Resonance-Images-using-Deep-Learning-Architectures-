{
 "cells": [
  {
   "cell_type": "code",
   "execution_count": 1,
   "id": "823ae579-6233-40fd-b969-4c327f98a0c3",
   "metadata": {},
   "outputs": [],
   "source": [
    "import os\n",
    "os.environ[\"CUDA_DEVICE_ORDER\"]=\"PCI_BUS_ID\"   # see issue #152\n",
    "os.environ[\"CUDA_VISIBLE_DEVICES\"]=\"7\""
   ]
  },
  {
   "cell_type": "code",
   "execution_count": 2,
   "id": "fd64b563-671f-454f-8120-97339e29ce74",
   "metadata": {},
   "outputs": [],
   "source": [
    "import cv2\n",
    "from PIL import  Image\n",
    "import numpy as np"
   ]
  },
  {
   "cell_type": "code",
   "execution_count": 5,
   "id": "070b6324-2eb1-4475-94a5-27634c180f30",
   "metadata": {},
   "outputs": [],
   "source": [
    "image_directory = '/data1/hom1/ict06/Br35H Brain Tumor Detection 2020/dataset/'\n",
    "\n",
    "dataset=[]\n",
    "label=[]\n",
    "\n",
    "no_tumor_images = os.listdir('/data1/hom1/ict06/Br35H Brain Tumor Detection 2020/dataset/no')\n",
    "yes_tumor_images = os.listdir('/data1/hom1/ict06/Br35H Brain Tumor Detection 2020/dataset/yes')"
   ]
  },
  {
   "cell_type": "code",
   "execution_count": 7,
   "id": "168aeaa4-dd83-459f-87a8-0767d16148c4",
   "metadata": {},
   "outputs": [],
   "source": [
    "for i , image_name in enumerate(no_tumor_images):\n",
    "  if(image_name.split('.')[1]== 'jpg'):\n",
    "      image=cv2.imread(image_directory+'no/'+image_name)\n",
    "      image=Image.fromarray(image, 'RGB')\n",
    "      image=image.resize((224,224))\n",
    "      dataset.append(np.array(image))\n",
    "      label.append(0)"
   ]
  },
  {
   "cell_type": "code",
   "execution_count": 8,
   "id": "3d675a50-88a4-40a2-89ec-0a00319c161a",
   "metadata": {},
   "outputs": [],
   "source": [
    "for i , image_name in enumerate(yes_tumor_images):\n",
    "  if(image_name.split('.')[1]== 'jpg'):\n",
    "      image=cv2.imread(image_directory+'yes/'+image_name)\n",
    "      image=Image.fromarray(image, 'RGB')\n",
    "      image=image.resize((224,224))\n",
    "      dataset.append(np.array(image))\n",
    "      label.append(1)"
   ]
  },
  {
   "cell_type": "code",
   "execution_count": 10,
   "id": "40850751-3bc0-4900-aec6-5941aaead09b",
   "metadata": {},
   "outputs": [
    {
     "name": "stdout",
     "output_type": "stream",
     "text": [
      "3000\n",
      "3000\n"
     ]
    }
   ],
   "source": [
    "print(len(dataset))\n",
    "print(len(label))\n",
    "dataset=np.array(dataset)\n",
    "label=np.array(label)"
   ]
  },
  {
   "cell_type": "code",
   "execution_count": 11,
   "id": "6a3b842b-c569-4783-83ef-032124ec7abc",
   "metadata": {},
   "outputs": [
    {
     "name": "stdout",
     "output_type": "stream",
     "text": [
      "(2400, 224, 224, 3)\n",
      "(600, 224, 224, 3)\n",
      "(2400,)\n",
      "(600,)\n"
     ]
    }
   ],
   "source": [
    "from sklearn.model_selection import train_test_split\n",
    "\n",
    "x_train, x_test, y_train, y_test=train_test_split(dataset, label, test_size=0.2, random_state=0)\n",
    "print(x_train.shape)\n",
    "print(x_test.shape)\n",
    "print(y_train.shape)\n",
    "print(y_test.shape)\n"
   ]
  },
  {
   "cell_type": "code",
   "execution_count": 12,
   "id": "5ea92908-3a44-4530-8e08-f9efd49fd1ad",
   "metadata": {},
   "outputs": [
    {
     "name": "stderr",
     "output_type": "stream",
     "text": [
      "2021-10-04 07:59:36.719265: I tensorflow/stream_executor/platform/default/dso_loader.cc:53] Successfully opened dynamic library libcudart.so.11.0\n"
     ]
    }
   ],
   "source": [
    "import tensorflow as tf\n",
    "from tensorflow import keras\n",
    "from keras.utils.np_utils import normalize\n"
   ]
  },
  {
   "cell_type": "code",
   "execution_count": 13,
   "id": "e3400e7b-e707-41b9-bac1-92ed96d26903",
   "metadata": {},
   "outputs": [
    {
     "name": "stderr",
     "output_type": "stream",
     "text": [
      "2021-10-04 07:59:45.615247: I tensorflow/stream_executor/platform/default/dso_loader.cc:53] Successfully opened dynamic library libcuda.so.1\n",
      "2021-10-04 07:59:45.709015: I tensorflow/core/common_runtime/gpu/gpu_device.cc:1733] Found device 0 with properties: \n",
      "pciBusID: 0000:e1:00.0 name: RTX A5000 computeCapability: 8.6\n",
      "coreClock: 1.695GHz coreCount: 64 deviceMemorySize: 23.69GiB deviceMemoryBandwidth: 715.34GiB/s\n",
      "2021-10-04 07:59:45.709080: I tensorflow/stream_executor/platform/default/dso_loader.cc:53] Successfully opened dynamic library libcudart.so.11.0\n",
      "2021-10-04 07:59:45.719754: I tensorflow/stream_executor/platform/default/dso_loader.cc:53] Successfully opened dynamic library libcublas.so.11\n",
      "2021-10-04 07:59:45.719995: I tensorflow/stream_executor/platform/default/dso_loader.cc:53] Successfully opened dynamic library libcublasLt.so.11\n",
      "2021-10-04 07:59:45.726073: I tensorflow/stream_executor/platform/default/dso_loader.cc:53] Successfully opened dynamic library libcufft.so.10\n",
      "2021-10-04 07:59:45.729385: I tensorflow/stream_executor/platform/default/dso_loader.cc:53] Successfully opened dynamic library libcurand.so.10\n",
      "2021-10-04 07:59:45.733634: I tensorflow/stream_executor/platform/default/dso_loader.cc:53] Successfully opened dynamic library libcusolver.so.11\n",
      "2021-10-04 07:59:45.736206: I tensorflow/stream_executor/platform/default/dso_loader.cc:53] Successfully opened dynamic library libcusparse.so.11\n",
      "2021-10-04 07:59:45.737062: I tensorflow/stream_executor/platform/default/dso_loader.cc:53] Successfully opened dynamic library libcudnn.so.8\n",
      "2021-10-04 07:59:45.750790: I tensorflow/core/common_runtime/gpu/gpu_device.cc:1871] Adding visible gpu devices: 0\n",
      "2021-10-04 07:59:45.751480: I tensorflow/core/platform/cpu_feature_guard.cc:142] This TensorFlow binary is optimized with oneAPI Deep Neural Network Library (oneDNN) to use the following CPU instructions in performance-critical operations:  AVX2 FMA\n",
      "To enable them in other operations, rebuild TensorFlow with the appropriate compiler flags.\n",
      "2021-10-04 07:59:45.758670: I tensorflow/core/common_runtime/gpu/gpu_device.cc:1733] Found device 0 with properties: \n",
      "pciBusID: 0000:e1:00.0 name: RTX A5000 computeCapability: 8.6\n",
      "coreClock: 1.695GHz coreCount: 64 deviceMemorySize: 23.69GiB deviceMemoryBandwidth: 715.34GiB/s\n",
      "2021-10-04 07:59:47.364696: I tensorflow/core/common_runtime/gpu/gpu_device.cc:1871] Adding visible gpu devices: 0\n",
      "2021-10-04 07:59:47.365409: I tensorflow/stream_executor/platform/default/dso_loader.cc:53] Successfully opened dynamic library libcudart.so.11.0\n",
      "2021-10-04 07:59:55.453460: I tensorflow/core/common_runtime/gpu/gpu_device.cc:1258] Device interconnect StreamExecutor with strength 1 edge matrix:\n",
      "2021-10-04 07:59:55.453501: I tensorflow/core/common_runtime/gpu/gpu_device.cc:1264]      0 \n",
      "2021-10-04 07:59:55.453508: I tensorflow/core/common_runtime/gpu/gpu_device.cc:1277] 0:   N \n",
      "2021-10-04 07:59:55.460325: I tensorflow/core/common_runtime/gpu/gpu_device.cc:1418] Created TensorFlow device (/job:localhost/replica:0/task:0/device:GPU:0 with 22355 MB memory) -> physical GPU (device: 0, name: RTX A5000, pci bus id: 0000:e1:00.0, compute capability: 8.6)\n"
     ]
    }
   ],
   "source": [
    "from tensorflow.keras.applications.vgg16 import VGG16\n",
    "vgg=VGG16(input_shape=(224,224,3), weights='imagenet', include_top=False)\n"
   ]
  },
  {
   "cell_type": "code",
   "execution_count": 15,
   "id": "1389fe72-ff80-4344-a2bc-37e9260a4e24",
   "metadata": {},
   "outputs": [
    {
     "name": "stdout",
     "output_type": "stream",
     "text": [
      "Model: \"vgg16\"\n",
      "_________________________________________________________________\n",
      "Layer (type)                 Output Shape              Param #   \n",
      "=================================================================\n",
      "input_1 (InputLayer)         [(None, 224, 224, 3)]     0         \n",
      "_________________________________________________________________\n",
      "block1_conv1 (Conv2D)        (None, 224, 224, 64)      1792      \n",
      "_________________________________________________________________\n",
      "block1_conv2 (Conv2D)        (None, 224, 224, 64)      36928     \n",
      "_________________________________________________________________\n",
      "block1_pool (MaxPooling2D)   (None, 112, 112, 64)      0         \n",
      "_________________________________________________________________\n",
      "block2_conv1 (Conv2D)        (None, 112, 112, 128)     73856     \n",
      "_________________________________________________________________\n",
      "block2_conv2 (Conv2D)        (None, 112, 112, 128)     147584    \n",
      "_________________________________________________________________\n",
      "block2_pool (MaxPooling2D)   (None, 56, 56, 128)       0         \n",
      "_________________________________________________________________\n",
      "block3_conv1 (Conv2D)        (None, 56, 56, 256)       295168    \n",
      "_________________________________________________________________\n",
      "block3_conv2 (Conv2D)        (None, 56, 56, 256)       590080    \n",
      "_________________________________________________________________\n",
      "block3_conv3 (Conv2D)        (None, 56, 56, 256)       590080    \n",
      "_________________________________________________________________\n",
      "block3_pool (MaxPooling2D)   (None, 28, 28, 256)       0         \n",
      "_________________________________________________________________\n",
      "block4_conv1 (Conv2D)        (None, 28, 28, 512)       1180160   \n",
      "_________________________________________________________________\n",
      "block4_conv2 (Conv2D)        (None, 28, 28, 512)       2359808   \n",
      "_________________________________________________________________\n",
      "block4_conv3 (Conv2D)        (None, 28, 28, 512)       2359808   \n",
      "_________________________________________________________________\n",
      "block4_pool (MaxPooling2D)   (None, 14, 14, 512)       0         \n",
      "_________________________________________________________________\n",
      "block5_conv1 (Conv2D)        (None, 14, 14, 512)       2359808   \n",
      "_________________________________________________________________\n",
      "block5_conv2 (Conv2D)        (None, 14, 14, 512)       2359808   \n",
      "_________________________________________________________________\n",
      "block5_conv3 (Conv2D)        (None, 14, 14, 512)       2359808   \n",
      "_________________________________________________________________\n",
      "block5_pool (MaxPooling2D)   (None, 7, 7, 512)         0         \n",
      "=================================================================\n",
      "Total params: 14,714,688\n",
      "Trainable params: 14,714,688\n",
      "Non-trainable params: 0\n",
      "_________________________________________________________________\n"
     ]
    }
   ],
   "source": [
    "vgg.summary()"
   ]
  },
  {
   "cell_type": "code",
   "execution_count": 17,
   "id": "0a939273-81b6-4e63-b16d-8d9dd91d3dd2",
   "metadata": {},
   "outputs": [],
   "source": [
    "from tensorflow.keras.layers import Flatten\n",
    "from tensorflow.keras.layers import Dense\n",
    "\n",
    "\n",
    "for i in vgg.layers:\n",
    "  i.trainable=False\n",
    "\n",
    "  x=Flatten()(vgg.output)"
   ]
  },
  {
   "cell_type": "code",
   "execution_count": 18,
   "id": "2a20c34b-bbae-4525-a56b-82fa9b914b52",
   "metadata": {},
   "outputs": [],
   "source": [
    "prediction=Dense(1, activation='sigmoid')(x)"
   ]
  },
  {
   "cell_type": "code",
   "execution_count": 19,
   "id": "2d8a7171-1fde-4669-b97f-89577b176fd3",
   "metadata": {},
   "outputs": [],
   "source": [
    "from tensorflow.keras.models import Model\n",
    "model=Model(inputs=vgg.input, outputs=prediction)"
   ]
  },
  {
   "cell_type": "code",
   "execution_count": 20,
   "id": "a58a8b34-885c-4e28-b3d7-3043fd5c5cc1",
   "metadata": {},
   "outputs": [
    {
     "name": "stdout",
     "output_type": "stream",
     "text": [
      "Model: \"model\"\n",
      "_________________________________________________________________\n",
      "Layer (type)                 Output Shape              Param #   \n",
      "=================================================================\n",
      "input_1 (InputLayer)         [(None, 224, 224, 3)]     0         \n",
      "_________________________________________________________________\n",
      "block1_conv1 (Conv2D)        (None, 224, 224, 64)      1792      \n",
      "_________________________________________________________________\n",
      "block1_conv2 (Conv2D)        (None, 224, 224, 64)      36928     \n",
      "_________________________________________________________________\n",
      "block1_pool (MaxPooling2D)   (None, 112, 112, 64)      0         \n",
      "_________________________________________________________________\n",
      "block2_conv1 (Conv2D)        (None, 112, 112, 128)     73856     \n",
      "_________________________________________________________________\n",
      "block2_conv2 (Conv2D)        (None, 112, 112, 128)     147584    \n",
      "_________________________________________________________________\n",
      "block2_pool (MaxPooling2D)   (None, 56, 56, 128)       0         \n",
      "_________________________________________________________________\n",
      "block3_conv1 (Conv2D)        (None, 56, 56, 256)       295168    \n",
      "_________________________________________________________________\n",
      "block3_conv2 (Conv2D)        (None, 56, 56, 256)       590080    \n",
      "_________________________________________________________________\n",
      "block3_conv3 (Conv2D)        (None, 56, 56, 256)       590080    \n",
      "_________________________________________________________________\n",
      "block3_pool (MaxPooling2D)   (None, 28, 28, 256)       0         \n",
      "_________________________________________________________________\n",
      "block4_conv1 (Conv2D)        (None, 28, 28, 512)       1180160   \n",
      "_________________________________________________________________\n",
      "block4_conv2 (Conv2D)        (None, 28, 28, 512)       2359808   \n",
      "_________________________________________________________________\n",
      "block4_conv3 (Conv2D)        (None, 28, 28, 512)       2359808   \n",
      "_________________________________________________________________\n",
      "block4_pool (MaxPooling2D)   (None, 14, 14, 512)       0         \n",
      "_________________________________________________________________\n",
      "block5_conv1 (Conv2D)        (None, 14, 14, 512)       2359808   \n",
      "_________________________________________________________________\n",
      "block5_conv2 (Conv2D)        (None, 14, 14, 512)       2359808   \n",
      "_________________________________________________________________\n",
      "block5_conv3 (Conv2D)        (None, 14, 14, 512)       2359808   \n",
      "_________________________________________________________________\n",
      "block5_pool (MaxPooling2D)   (None, 7, 7, 512)         0         \n",
      "_________________________________________________________________\n",
      "flatten_18 (Flatten)         (None, 25088)             0         \n",
      "_________________________________________________________________\n",
      "dense (Dense)                (None, 1)                 25089     \n",
      "=================================================================\n",
      "Total params: 14,739,777\n",
      "Trainable params: 25,089\n",
      "Non-trainable params: 14,714,688\n",
      "_________________________________________________________________\n"
     ]
    }
   ],
   "source": [
    "model.summary()"
   ]
  },
  {
   "cell_type": "code",
   "execution_count": 21,
   "id": "2c712d37-96d8-4b10-8e2a-f62e6941d09c",
   "metadata": {},
   "outputs": [],
   "source": [
    "model.compile(optimizer='adam', loss='binary_crossentropy', metrics=['accuracy'])"
   ]
  },
  {
   "cell_type": "code",
   "execution_count": 22,
   "id": "235e7450-b9a7-4afe-b0d1-ccc3159ae1e3",
   "metadata": {},
   "outputs": [
    {
     "name": "stderr",
     "output_type": "stream",
     "text": [
      "2021-10-04 08:03:07.584169: I tensorflow/compiler/mlir/mlir_graph_optimization_pass.cc:176] None of the MLIR Optimization Passes are enabled (registered 2)\n",
      "2021-10-04 08:03:07.604554: I tensorflow/core/platform/profile_utils/cpu_utils.cc:114] CPU Frequency: 2800125000 Hz\n"
     ]
    },
    {
     "name": "stdout",
     "output_type": "stream",
     "text": [
      "Epoch 1/30\n"
     ]
    },
    {
     "name": "stderr",
     "output_type": "stream",
     "text": [
      "2021-10-04 08:03:11.296997: I tensorflow/stream_executor/platform/default/dso_loader.cc:53] Successfully opened dynamic library libcudnn.so.8\n",
      "2021-10-04 08:03:19.833006: I tensorflow/stream_executor/cuda/cuda_dnn.cc:359] Loaded cuDNN version 8101\n",
      "2021-10-04 08:03:31.898237: I tensorflow/stream_executor/platform/default/dso_loader.cc:53] Successfully opened dynamic library libcublas.so.11\n",
      "2021-10-04 08:03:42.135750: I tensorflow/stream_executor/platform/default/dso_loader.cc:53] Successfully opened dynamic library libcublasLt.so.11\n"
     ]
    },
    {
     "name": "stdout",
     "output_type": "stream",
     "text": [
      "75/75 [==============================] - 41s 87ms/step - loss: 1.0591 - accuracy: 0.8996 - val_loss: 0.5265 - val_accuracy: 0.9583\n",
      "Epoch 2/30\n",
      "75/75 [==============================] - 4s 59ms/step - loss: 0.1049 - accuracy: 0.9833 - val_loss: 0.4320 - val_accuracy: 0.9567\n",
      "Epoch 3/30\n",
      "75/75 [==============================] - 4s 54ms/step - loss: 0.1133 - accuracy: 0.9854 - val_loss: 0.2927 - val_accuracy: 0.9700\n",
      "Epoch 4/30\n",
      "75/75 [==============================] - 3s 43ms/step - loss: 0.0415 - accuracy: 0.9933 - val_loss: 0.4606 - val_accuracy: 0.9767\n",
      "Epoch 5/30\n",
      "75/75 [==============================] - 4s 54ms/step - loss: 0.0241 - accuracy: 0.9954 - val_loss: 0.4049 - val_accuracy: 0.9750\n",
      "Epoch 6/30\n",
      "75/75 [==============================] - 4s 58ms/step - loss: 0.0023 - accuracy: 0.9996 - val_loss: 0.3918 - val_accuracy: 0.9833\n",
      "Epoch 7/30\n",
      "75/75 [==============================] - 4s 53ms/step - loss: 0.0015 - accuracy: 0.9996 - val_loss: 0.3056 - val_accuracy: 0.9850\n",
      "Epoch 8/30\n",
      "75/75 [==============================] - 4s 53ms/step - loss: 5.0290e-06 - accuracy: 1.0000 - val_loss: 0.3048 - val_accuracy: 0.9867\n",
      "Epoch 9/30\n",
      "75/75 [==============================] - 4s 55ms/step - loss: 3.4169e-06 - accuracy: 1.0000 - val_loss: 0.3044 - val_accuracy: 0.9867\n",
      "Epoch 10/30\n",
      "75/75 [==============================] - 4s 55ms/step - loss: 2.7695e-06 - accuracy: 1.0000 - val_loss: 0.3040 - val_accuracy: 0.9867\n",
      "Epoch 11/30\n",
      "75/75 [==============================] - 4s 58ms/step - loss: 2.3924e-06 - accuracy: 1.0000 - val_loss: 0.3037 - val_accuracy: 0.9867\n",
      "Epoch 12/30\n",
      "75/75 [==============================] - 4s 54ms/step - loss: 2.1346e-06 - accuracy: 1.0000 - val_loss: 0.3035 - val_accuracy: 0.9867\n",
      "Epoch 13/30\n",
      "75/75 [==============================] - 4s 54ms/step - loss: 1.9407e-06 - accuracy: 1.0000 - val_loss: 0.3033 - val_accuracy: 0.9867\n",
      "Epoch 14/30\n",
      "75/75 [==============================] - 4s 54ms/step - loss: 1.7855e-06 - accuracy: 1.0000 - val_loss: 0.3031 - val_accuracy: 0.9867\n",
      "Epoch 15/30\n",
      "75/75 [==============================] - 4s 53ms/step - loss: 1.6559e-06 - accuracy: 1.0000 - val_loss: 0.3030 - val_accuracy: 0.9867\n",
      "Epoch 16/30\n",
      "75/75 [==============================] - 4s 53ms/step - loss: 1.5445e-06 - accuracy: 1.0000 - val_loss: 0.3028 - val_accuracy: 0.9867\n",
      "Epoch 17/30\n",
      "75/75 [==============================] - 4s 55ms/step - loss: 1.4467e-06 - accuracy: 1.0000 - val_loss: 0.3027 - val_accuracy: 0.9867\n",
      "Epoch 18/30\n",
      "75/75 [==============================] - 4s 55ms/step - loss: 1.3596e-06 - accuracy: 1.0000 - val_loss: 0.3026 - val_accuracy: 0.9867\n",
      "Epoch 19/30\n",
      "75/75 [==============================] - 4s 56ms/step - loss: 1.2812e-06 - accuracy: 1.0000 - val_loss: 0.3025 - val_accuracy: 0.9867\n",
      "Epoch 20/30\n",
      "75/75 [==============================] - 5s 64ms/step - loss: 1.2101e-06 - accuracy: 1.0000 - val_loss: 0.3024 - val_accuracy: 0.9867\n",
      "Epoch 21/30\n",
      "75/75 [==============================] - 3s 46ms/step - loss: 1.1451e-06 - accuracy: 1.0000 - val_loss: 0.3023 - val_accuracy: 0.9867\n",
      "Epoch 22/30\n",
      "75/75 [==============================] - 4s 53ms/step - loss: 1.0855e-06 - accuracy: 1.0000 - val_loss: 0.3022 - val_accuracy: 0.9867\n",
      "Epoch 23/30\n",
      "75/75 [==============================] - 4s 54ms/step - loss: 1.0304e-06 - accuracy: 1.0000 - val_loss: 0.3021 - val_accuracy: 0.9867\n",
      "Epoch 24/30\n",
      "75/75 [==============================] - 4s 57ms/step - loss: 9.7954e-07 - accuracy: 1.0000 - val_loss: 0.3020 - val_accuracy: 0.9867\n",
      "Epoch 25/30\n",
      "75/75 [==============================] - 4s 58ms/step - loss: 9.3228e-07 - accuracy: 1.0000 - val_loss: 0.3019 - val_accuracy: 0.9867\n",
      "Epoch 26/30\n",
      "75/75 [==============================] - 4s 56ms/step - loss: 8.8828e-07 - accuracy: 1.0000 - val_loss: 0.3018 - val_accuracy: 0.9867\n",
      "Epoch 27/30\n",
      "75/75 [==============================] - 4s 54ms/step - loss: 8.4723e-07 - accuracy: 1.0000 - val_loss: 0.3018 - val_accuracy: 0.9867\n",
      "Epoch 28/30\n",
      "75/75 [==============================] - 4s 54ms/step - loss: 8.0884e-07 - accuracy: 1.0000 - val_loss: 0.3017 - val_accuracy: 0.9867\n",
      "Epoch 29/30\n",
      "75/75 [==============================] - 4s 53ms/step - loss: 7.7285e-07 - accuracy: 1.0000 - val_loss: 0.3016 - val_accuracy: 0.9867\n",
      "Epoch 30/30\n",
      "75/75 [==============================] - 4s 57ms/step - loss: 7.3907e-07 - accuracy: 1.0000 - val_loss: 0.3015 - val_accuracy: 0.9867\n"
     ]
    }
   ],
   "source": [
    "hist=model.fit(x_train, y_train, batch_size=32, \n",
    "               verbose=1, epochs=30, \n",
    "               validation_data=(x_test,y_test), shuffle=False)\n",
    "\n",
    "model.save('/data1/hom1/ict06/Models/BraintumorVGG10Epochs.h5')"
   ]
  },
  {
   "cell_type": "code",
   "execution_count": 24,
   "id": "539be691-d218-41bf-ae49-1b7cafa9b7f1",
   "metadata": {},
   "outputs": [
    {
     "data": {
      "text/html": [
       "<div>\n",
       "<style scoped>\n",
       "    .dataframe tbody tr th:only-of-type {\n",
       "        vertical-align: middle;\n",
       "    }\n",
       "\n",
       "    .dataframe tbody tr th {\n",
       "        vertical-align: top;\n",
       "    }\n",
       "\n",
       "    .dataframe thead th {\n",
       "        text-align: right;\n",
       "    }\n",
       "</style>\n",
       "<table border=\"1\" class=\"dataframe\">\n",
       "  <thead>\n",
       "    <tr style=\"text-align: right;\">\n",
       "      <th></th>\n",
       "      <th>loss</th>\n",
       "      <th>accuracy</th>\n",
       "      <th>val_loss</th>\n",
       "      <th>val_accuracy</th>\n",
       "    </tr>\n",
       "  </thead>\n",
       "  <tbody>\n",
       "    <tr>\n",
       "      <th>0</th>\n",
       "      <td>1.059103e+00</td>\n",
       "      <td>0.899583</td>\n",
       "      <td>0.526473</td>\n",
       "      <td>0.958333</td>\n",
       "    </tr>\n",
       "    <tr>\n",
       "      <th>1</th>\n",
       "      <td>1.049452e-01</td>\n",
       "      <td>0.983333</td>\n",
       "      <td>0.432031</td>\n",
       "      <td>0.956667</td>\n",
       "    </tr>\n",
       "    <tr>\n",
       "      <th>2</th>\n",
       "      <td>1.132836e-01</td>\n",
       "      <td>0.985417</td>\n",
       "      <td>0.292686</td>\n",
       "      <td>0.970000</td>\n",
       "    </tr>\n",
       "    <tr>\n",
       "      <th>3</th>\n",
       "      <td>4.151289e-02</td>\n",
       "      <td>0.993333</td>\n",
       "      <td>0.460576</td>\n",
       "      <td>0.976667</td>\n",
       "    </tr>\n",
       "    <tr>\n",
       "      <th>4</th>\n",
       "      <td>2.412750e-02</td>\n",
       "      <td>0.995417</td>\n",
       "      <td>0.404944</td>\n",
       "      <td>0.975000</td>\n",
       "    </tr>\n",
       "    <tr>\n",
       "      <th>5</th>\n",
       "      <td>2.288665e-03</td>\n",
       "      <td>0.999583</td>\n",
       "      <td>0.391779</td>\n",
       "      <td>0.983333</td>\n",
       "    </tr>\n",
       "    <tr>\n",
       "      <th>6</th>\n",
       "      <td>1.485849e-03</td>\n",
       "      <td>0.999583</td>\n",
       "      <td>0.305551</td>\n",
       "      <td>0.985000</td>\n",
       "    </tr>\n",
       "    <tr>\n",
       "      <th>7</th>\n",
       "      <td>5.028953e-06</td>\n",
       "      <td>1.000000</td>\n",
       "      <td>0.304838</td>\n",
       "      <td>0.986667</td>\n",
       "    </tr>\n",
       "    <tr>\n",
       "      <th>8</th>\n",
       "      <td>3.416947e-06</td>\n",
       "      <td>1.000000</td>\n",
       "      <td>0.304361</td>\n",
       "      <td>0.986667</td>\n",
       "    </tr>\n",
       "    <tr>\n",
       "      <th>9</th>\n",
       "      <td>2.769490e-06</td>\n",
       "      <td>1.000000</td>\n",
       "      <td>0.304011</td>\n",
       "      <td>0.986667</td>\n",
       "    </tr>\n",
       "    <tr>\n",
       "      <th>10</th>\n",
       "      <td>2.392369e-06</td>\n",
       "      <td>1.000000</td>\n",
       "      <td>0.303732</td>\n",
       "      <td>0.986667</td>\n",
       "    </tr>\n",
       "    <tr>\n",
       "      <th>11</th>\n",
       "      <td>2.134566e-06</td>\n",
       "      <td>1.000000</td>\n",
       "      <td>0.303501</td>\n",
       "      <td>0.986667</td>\n",
       "    </tr>\n",
       "    <tr>\n",
       "      <th>12</th>\n",
       "      <td>1.940693e-06</td>\n",
       "      <td>1.000000</td>\n",
       "      <td>0.303302</td>\n",
       "      <td>0.986667</td>\n",
       "    </tr>\n",
       "    <tr>\n",
       "      <th>13</th>\n",
       "      <td>1.785508e-06</td>\n",
       "      <td>1.000000</td>\n",
       "      <td>0.303127</td>\n",
       "      <td>0.986667</td>\n",
       "    </tr>\n",
       "    <tr>\n",
       "      <th>14</th>\n",
       "      <td>1.655915e-06</td>\n",
       "      <td>1.000000</td>\n",
       "      <td>0.302972</td>\n",
       "      <td>0.986667</td>\n",
       "    </tr>\n",
       "    <tr>\n",
       "      <th>15</th>\n",
       "      <td>1.544492e-06</td>\n",
       "      <td>1.000000</td>\n",
       "      <td>0.302831</td>\n",
       "      <td>0.986667</td>\n",
       "    </tr>\n",
       "    <tr>\n",
       "      <th>16</th>\n",
       "      <td>1.446710e-06</td>\n",
       "      <td>1.000000</td>\n",
       "      <td>0.302702</td>\n",
       "      <td>0.986667</td>\n",
       "    </tr>\n",
       "    <tr>\n",
       "      <th>17</th>\n",
       "      <td>1.359629e-06</td>\n",
       "      <td>1.000000</td>\n",
       "      <td>0.302582</td>\n",
       "      <td>0.986667</td>\n",
       "    </tr>\n",
       "    <tr>\n",
       "      <th>18</th>\n",
       "      <td>1.281242e-06</td>\n",
       "      <td>1.000000</td>\n",
       "      <td>0.302471</td>\n",
       "      <td>0.986667</td>\n",
       "    </tr>\n",
       "    <tr>\n",
       "      <th>19</th>\n",
       "      <td>1.210096e-06</td>\n",
       "      <td>1.000000</td>\n",
       "      <td>0.302367</td>\n",
       "      <td>0.986667</td>\n",
       "    </tr>\n",
       "    <tr>\n",
       "      <th>20</th>\n",
       "      <td>1.145119e-06</td>\n",
       "      <td>1.000000</td>\n",
       "      <td>0.302268</td>\n",
       "      <td>0.986667</td>\n",
       "    </tr>\n",
       "    <tr>\n",
       "      <th>21</th>\n",
       "      <td>1.085458e-06</td>\n",
       "      <td>1.000000</td>\n",
       "      <td>0.302175</td>\n",
       "      <td>0.986667</td>\n",
       "    </tr>\n",
       "    <tr>\n",
       "      <th>22</th>\n",
       "      <td>1.030444e-06</td>\n",
       "      <td>1.000000</td>\n",
       "      <td>0.302085</td>\n",
       "      <td>0.986667</td>\n",
       "    </tr>\n",
       "    <tr>\n",
       "      <th>23</th>\n",
       "      <td>9.795368e-07</td>\n",
       "      <td>1.000000</td>\n",
       "      <td>0.301999</td>\n",
       "      <td>0.986667</td>\n",
       "    </tr>\n",
       "    <tr>\n",
       "      <th>24</th>\n",
       "      <td>9.322772e-07</td>\n",
       "      <td>1.000000</td>\n",
       "      <td>0.301917</td>\n",
       "      <td>0.986667</td>\n",
       "    </tr>\n",
       "    <tr>\n",
       "      <th>25</th>\n",
       "      <td>8.882835e-07</td>\n",
       "      <td>1.000000</td>\n",
       "      <td>0.301837</td>\n",
       "      <td>0.986667</td>\n",
       "    </tr>\n",
       "    <tr>\n",
       "      <th>26</th>\n",
       "      <td>8.472315e-07</td>\n",
       "      <td>1.000000</td>\n",
       "      <td>0.301760</td>\n",
       "      <td>0.986667</td>\n",
       "    </tr>\n",
       "    <tr>\n",
       "      <th>27</th>\n",
       "      <td>8.088380e-07</td>\n",
       "      <td>1.000000</td>\n",
       "      <td>0.301684</td>\n",
       "      <td>0.986667</td>\n",
       "    </tr>\n",
       "    <tr>\n",
       "      <th>28</th>\n",
       "      <td>7.728530e-07</td>\n",
       "      <td>1.000000</td>\n",
       "      <td>0.301611</td>\n",
       "      <td>0.986667</td>\n",
       "    </tr>\n",
       "    <tr>\n",
       "      <th>29</th>\n",
       "      <td>7.390676e-07</td>\n",
       "      <td>1.000000</td>\n",
       "      <td>0.301539</td>\n",
       "      <td>0.986667</td>\n",
       "    </tr>\n",
       "  </tbody>\n",
       "</table>\n",
       "</div>"
      ],
      "text/plain": [
       "            loss  accuracy  val_loss  val_accuracy\n",
       "0   1.059103e+00  0.899583  0.526473      0.958333\n",
       "1   1.049452e-01  0.983333  0.432031      0.956667\n",
       "2   1.132836e-01  0.985417  0.292686      0.970000\n",
       "3   4.151289e-02  0.993333  0.460576      0.976667\n",
       "4   2.412750e-02  0.995417  0.404944      0.975000\n",
       "5   2.288665e-03  0.999583  0.391779      0.983333\n",
       "6   1.485849e-03  0.999583  0.305551      0.985000\n",
       "7   5.028953e-06  1.000000  0.304838      0.986667\n",
       "8   3.416947e-06  1.000000  0.304361      0.986667\n",
       "9   2.769490e-06  1.000000  0.304011      0.986667\n",
       "10  2.392369e-06  1.000000  0.303732      0.986667\n",
       "11  2.134566e-06  1.000000  0.303501      0.986667\n",
       "12  1.940693e-06  1.000000  0.303302      0.986667\n",
       "13  1.785508e-06  1.000000  0.303127      0.986667\n",
       "14  1.655915e-06  1.000000  0.302972      0.986667\n",
       "15  1.544492e-06  1.000000  0.302831      0.986667\n",
       "16  1.446710e-06  1.000000  0.302702      0.986667\n",
       "17  1.359629e-06  1.000000  0.302582      0.986667\n",
       "18  1.281242e-06  1.000000  0.302471      0.986667\n",
       "19  1.210096e-06  1.000000  0.302367      0.986667\n",
       "20  1.145119e-06  1.000000  0.302268      0.986667\n",
       "21  1.085458e-06  1.000000  0.302175      0.986667\n",
       "22  1.030444e-06  1.000000  0.302085      0.986667\n",
       "23  9.795368e-07  1.000000  0.301999      0.986667\n",
       "24  9.322772e-07  1.000000  0.301917      0.986667\n",
       "25  8.882835e-07  1.000000  0.301837      0.986667\n",
       "26  8.472315e-07  1.000000  0.301760      0.986667\n",
       "27  8.088380e-07  1.000000  0.301684      0.986667\n",
       "28  7.728530e-07  1.000000  0.301611      0.986667\n",
       "29  7.390676e-07  1.000000  0.301539      0.986667"
      ]
     },
     "execution_count": 24,
     "metadata": {},
     "output_type": "execute_result"
    }
   ],
   "source": [
    "import pandas as pd\n",
    "import matplotlib.pyplot as plt\n",
    "metrics = pd.DataFrame(model.history.history)\n",
    "metrics"
   ]
  },
  {
   "cell_type": "code",
   "execution_count": 25,
   "id": "3b82546f-bbe9-4c54-873a-a3cbbece458b",
   "metadata": {},
   "outputs": [
    {
     "data": {
      "text/plain": [
       "Text(0.5, 0, 'Epoch')"
      ]
     },
     "execution_count": 25,
     "metadata": {},
     "output_type": "execute_result"
    },
    {
     "data": {
      "image/png": "[encoded data removed]",
      "text/plain": [
       "<Figure size 432x288 with 1 Axes>"
      ]
     },
     "metadata": {
      "needs_background": "light"
     },
     "output_type": "display_data"
    }
   ],
   "source": [
    "metrics[['accuracy', 'val_accuracy']].plot()\n",
    "plt.title(\"model accuracy\")\n",
    "plt.ylabel(\"Accuracy\")\n",
    "plt.xlabel(\"Epoch\")"
   ]
  },
  {
   "cell_type": "code",
   "execution_count": 26,
   "id": "71a84447-b478-44f8-8175-81c87e3765d0",
   "metadata": {},
   "outputs": [
    {
     "data": {
      "text/plain": [
       "Text(0.5, 0, 'Epoch')"
      ]
     },
     "execution_count": 26,
     "metadata": {},
     "output_type": "execute_result"
    },
    {
     "data": {
      "image/png": "[encoded data removed]",
      "text/plain": [
       "<Figure size 432x288 with 1 Axes>"
      ]
     },
     "metadata": {
      "needs_background": "light"
     },
     "output_type": "display_data"
    }
   ],
   "source": [
    "metrics[['loss', 'val_loss']].plot()\n",
    "plt.title(\"Model Loss\")\n",
    "plt.ylabel(\"loss\")\n",
    "plt.xlabel(\"Epoch\")"
   ]
  },
  {
   "cell_type": "code",
   "execution_count": 32,
   "id": "94c74953-ac5e-4fc3-9a1e-0a4336dfc92f",
   "metadata": {},
   "outputs": [
    {
     "name": "stdout",
     "output_type": "stream",
     "text": [
      "19/19 [==============================] - 1s 33ms/step - loss: 0.3015 - accuracy: 0.9867\n",
      "Accuracy = 98.66666793823242 %\n"
     ]
    }
   ],
   "source": [
    "_, acc= model.evaluate(x_test,y_test)\n",
    "print(\"Accuracy =\", (acc * 100.0), \"%\")"
   ]
  },
  {
   "cell_type": "code",
   "execution_count": 39,
   "id": "e0713393-5439-4929-a32c-5c19b661a69c",
   "metadata": {},
   "outputs": [],
   "source": [
    "y_pred = model.predict(x_test)"
   ]
  },
  {
   "cell_type": "code",
   "execution_count": 56,
   "id": "f7bc1133-4f0d-49d4-a299-391d8b5f6119",
   "metadata": {},
   "outputs": [
    {
     "name": "stdout",
     "output_type": "stream",
     "text": [
      "[[338   5]\n",
      " [  3 254]]\n"
     ]
    }
   ],
   "source": [
    "mythreshold= 0.5\n",
    "from sklearn.metrics import confusion_matrix\n",
    "y_pred= (model.predict(x_test)>= mythreshold).astype(int)\n",
    "cm= confusion_matrix(y_test, y_pred)\n",
    "print(cm)"
   ]
  },
  {
   "cell_type": "code",
   "execution_count": 63,
   "id": "01483939-18cb-42e3-933a-ff9e91db1045",
   "metadata": {},
   "outputs": [
    {
     "data": {
      "text/plain": [
       "<AxesSubplot:>"
      ]
     },
     "execution_count": 63,
     "metadata": {},
     "output_type": "execute_result"
    },
    {
     "data": {
      "image/png": "[encoded data removed]",
      "text/plain": [
       "<Figure size 432x288 with 2 Axes>"
      ]
     },
     "metadata": {
      "needs_background": "light"
     },
     "output_type": "display_data"
    }
   ],
   "source": [
    "import seaborn as sns\n",
    "sns.heatmap(cm, annot=True , cmap=\"Blues\" , fmt=\"d\", cbar=True, annot_kws={\"size\":15})\n",
    "plt.title(\"Test Data\")\n",
    "plt.ylabel(\"True Label\")\n",
    "plt.xlabel(\"Predicted Label\")"
   ]
  },
  {
   "cell_type": "code",
   "execution_count": 58,
   "id": "effe7f3a-2b65-4fd2-b11a-86f50e534337",
   "metadata": {},
   "outputs": [
    {
     "data": {
      "image/png": "[encoded data removed]",
      "text/plain": [
       "<Figure size 432x288 with 1 Axes>"
      ]
     },
     "metadata": {
      "needs_background": "light"
     },
     "output_type": "display_data"
    }
   ],
   "source": [
    "from sklearn.metrics import roc_curve\n",
    "y_preds = model.predict(x_test).ravel()\n",
    "fpr, tpr, thresholds = roc_curve(y_test, y_pred)\n",
    "plt.figure(1)\n",
    "plt.plot([0, 1], [0, 1], 'y--')\n",
    "plt.plot(fpr, tpr, marker='.')\n",
    "plt.xlabel('False positive rate')\n",
    "plt.ylabel('True positive rate')\n",
    "plt.title('ROC curve')\n",
    "plt.show()"
   ]
  },
  {
   "cell_type": "code",
   "execution_count": 60,
   "id": "9bfa8d0c-72fa-4c2e-94e9-166ffc4e7622",
   "metadata": {},
   "outputs": [
    {
     "name": "stdout",
     "output_type": "stream",
     "text": [
      "Area under curve, AUC =  0.9868747943869042\n"
     ]
    }
   ],
   "source": [
    "from sklearn.metrics import auc\n",
    "auc_value = auc(fpr, tpr)\n",
    "print(\"Area under curve, AUC = \", auc_value)"
   ]
  },
  {
   "cell_type": "code",
   "execution_count": 59,
   "id": "97c3126e-4442-4149-8812-223e5c9e5918",
   "metadata": {},
   "outputs": [
    {
     "name": "stdout",
     "output_type": "stream",
     "text": [
      "              precision    recall  f1-score   support\n",
      "\n",
      "           0       0.99      0.99      0.99       343\n",
      "           1       0.98      0.99      0.98       257\n",
      "\n",
      "    accuracy                           0.99       600\n",
      "   macro avg       0.99      0.99      0.99       600\n",
      "weighted avg       0.99      0.99      0.99       600\n",
      "\n"
     ]
    }
   ],
   "source": [
    "from sklearn.metrics import classification_report\n",
    "print(classification_report(y_test, y_pred))"
   ]
  },
  {
   "cell_type": "code",
   "execution_count": null,
   "id": "9265329e-2f7c-4486-8a60-56b00ae92410",
   "metadata": {},
   "outputs": [],
   "source": []
  }
 ],
 "metadata": {
  "kernelspec": {
   "display_name": "Tensorflow 2.4 | Jupyterhub",
   "language": "python",
   "name": "jupyter-tf2"
  },
  "language_info": {
   "codemirror_mode": {
    "name": "ipython",
    "version": 3
   },
   "file_extension": ".py",
   "mimetype": "text/x-python",
   "name": "python",
   "nbconvert_exporter": "python",
   "pygments_lexer": "ipython3",
   "version": "3.8.10"
  }
 },
 "nbformat": 4,
 "nbformat_minor": 5
}
