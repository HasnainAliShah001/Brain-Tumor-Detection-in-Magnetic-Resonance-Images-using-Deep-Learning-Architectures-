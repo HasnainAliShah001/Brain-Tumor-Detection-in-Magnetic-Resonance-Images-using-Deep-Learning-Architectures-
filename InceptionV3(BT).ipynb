{
 "cells": [
  {
   "cell_type": "code",
   "execution_count": 1,
   "id": "00d497c9-582b-4927-9ec1-6ffcf76f2558",
   "metadata": {},
   "outputs": [],
   "source": [
    "import os\n",
    "os.environ[\"CUDA_DEVICE_ORDER\"]=\"PCI_BUS_ID\"   # see issue #152\n",
    "os.environ[\"CUDA_VISIBLE_DEVICES\"]=\"7\""
   ]
  },
  {
   "cell_type": "code",
   "execution_count": 2,
   "id": "03a47daf-f5e4-4eac-966e-84efe2c077d2",
   "metadata": {},
   "outputs": [],
   "source": [
    "import cv2\n",
    "from PIL import  Image\n",
    "import numpy as np"
   ]
  },
  {
   "cell_type": "code",
   "execution_count": 3,
   "id": "83fb6e70-da8c-411c-8432-83bf150ceeab",
   "metadata": {},
   "outputs": [],
   "source": [
    "image_directory = '/data1/hom1/ict06/Br35H Brain Tumor Detection 2020/dataset/'\n",
    "\n",
    "dataset=[]\n",
    "label=[]\n",
    "\n",
    "no_tumor_images = os.listdir('/data1/hom1/ict06/Br35H Brain Tumor Detection 2020/dataset/no')\n",
    "yes_tumor_images = os.listdir('/data1/hom1/ict06/Br35H Brain Tumor Detection 2020/dataset/yes')"
   ]
  },
  {
   "cell_type": "code",
   "execution_count": 4,
   "id": "11434fef-aded-46e7-9742-1aa513daa220",
   "metadata": {},
   "outputs": [],
   "source": [
    "for i , image_name in enumerate(no_tumor_images):\n",
    "  if(image_name.split('.')[1]== 'jpg'):\n",
    "      image=cv2.imread(image_directory+'no/'+image_name)\n",
    "      image=Image.fromarray(image, 'RGB')\n",
    "      image=image.resize((224,224))\n",
    "      dataset.append(np.array(image))\n",
    "      label.append(0)"
   ]
  },
  {
   "cell_type": "code",
   "execution_count": 5,
   "id": "880a602d-7d3d-4a7a-8df5-ceec341d27ff",
   "metadata": {},
   "outputs": [],
   "source": [
    "for i , image_name in enumerate(yes_tumor_images):\n",
    "  if(image_name.split('.')[1]== 'jpg'):\n",
    "      image=cv2.imread(image_directory+'yes/'+image_name)\n",
    "      image=Image.fromarray(image, 'RGB')\n",
    "      image=image.resize((224,224))\n",
    "      dataset.append(np.array(image))\n",
    "      label.append(1)"
   ]
  },
  {
   "cell_type": "code",
   "execution_count": 6,
   "id": "5ab7fcc4-062c-413e-88e9-36ce3fd49de6",
   "metadata": {},
   "outputs": [
    {
     "name": "stdout",
     "output_type": "stream",
     "text": [
      "3000\n",
      "3000\n"
     ]
    }
   ],
   "source": [
    "print(len(dataset))\n",
    "print(len(label))\n",
    "dataset=np.array(dataset)\n",
    "label=np.array(label)"
   ]
  },
  {
   "cell_type": "code",
   "execution_count": 7,
   "id": "b9e74f36-6087-45a9-a883-b3ac30d73809",
   "metadata": {},
   "outputs": [
    {
     "name": "stdout",
     "output_type": "stream",
     "text": [
      "(2400, 224, 224, 3)\n",
      "(600, 224, 224, 3)\n",
      "(2400,)\n",
      "(600,)\n"
     ]
    }
   ],
   "source": [
    "from sklearn.model_selection import train_test_split\n",
    "\n",
    "x_train, x_test, y_train, y_test=train_test_split(dataset, label, test_size=0.2, random_state=0)\n",
    "print(x_train.shape)\n",
    "print(x_test.shape)\n",
    "print(y_train.shape)\n",
    "print(y_test.shape)\n"
   ]
  },
  {
   "cell_type": "code",
   "execution_count": 8,
   "id": "00f34999-d5b0-47cc-ba58-e77f337f3f81",
   "metadata": {},
   "outputs": [
    {
     "name": "stderr",
     "output_type": "stream",
     "text": [
      "2021-10-07 07:55:36.331669: I tensorflow/stream_executor/platform/default/dso_loader.cc:53] Successfully opened dynamic library libcudart.so.11.0\n"
     ]
    }
   ],
   "source": [
    "import tensorflow as tf\n",
    "from tensorflow import keras\n",
    "from keras.utils.np_utils import normalize\n",
    "\n",
    "x_train= normalize(x_train, axis=1)\n",
    "x_test = normalize(x_test, axis=1)"
   ]
  },
  {
   "cell_type": "code",
   "execution_count": 9,
   "id": "3adc2a35-a3a1-4873-af45-0306286100f7",
   "metadata": {},
   "outputs": [
    {
     "name": "stderr",
     "output_type": "stream",
     "text": [
      "2021-10-07 07:55:39.380301: I tensorflow/stream_executor/platform/default/dso_loader.cc:53] Successfully opened dynamic library libcuda.so.1\n",
      "2021-10-07 07:55:41.675977: I tensorflow/core/common_runtime/gpu/gpu_device.cc:1733] Found device 0 with properties: \n",
      "pciBusID: 0000:e1:00.0 name: RTX A5000 computeCapability: 8.6\n",
      "coreClock: 1.695GHz coreCount: 64 deviceMemorySize: 23.69GiB deviceMemoryBandwidth: 715.34GiB/s\n",
      "2021-10-07 07:55:41.676026: I tensorflow/stream_executor/platform/default/dso_loader.cc:53] Successfully opened dynamic library libcudart.so.11.0\n",
      "2021-10-07 07:55:41.678313: I tensorflow/stream_executor/platform/default/dso_loader.cc:53] Successfully opened dynamic library libcublas.so.11\n",
      "2021-10-07 07:55:41.678365: I tensorflow/stream_executor/platform/default/dso_loader.cc:53] Successfully opened dynamic library libcublasLt.so.11\n",
      "2021-10-07 07:55:41.679237: I tensorflow/stream_executor/platform/default/dso_loader.cc:53] Successfully opened dynamic library libcufft.so.10\n",
      "2021-10-07 07:55:41.679454: I tensorflow/stream_executor/platform/default/dso_loader.cc:53] Successfully opened dynamic library libcurand.so.10\n",
      "2021-10-07 07:55:41.680011: I tensorflow/stream_executor/platform/default/dso_loader.cc:53] Successfully opened dynamic library libcusolver.so.11\n",
      "2021-10-07 07:55:41.680484: I tensorflow/stream_executor/platform/default/dso_loader.cc:53] Successfully opened dynamic library libcusparse.so.11\n",
      "2021-10-07 07:55:41.680606: I tensorflow/stream_executor/platform/default/dso_loader.cc:53] Successfully opened dynamic library libcudnn.so.8\n",
      "2021-10-07 07:55:43.336293: I tensorflow/core/common_runtime/gpu/gpu_device.cc:1871] Adding visible gpu devices: 0\n",
      "2021-10-07 07:55:43.340077: I tensorflow/core/platform/cpu_feature_guard.cc:142] This TensorFlow binary is optimized with oneAPI Deep Neural Network Library (oneDNN) to use the following CPU instructions in performance-critical operations:  AVX2 FMA\n",
      "To enable them in other operations, rebuild TensorFlow with the appropriate compiler flags.\n",
      "2021-10-07 07:55:43.357666: I tensorflow/core/common_runtime/gpu/gpu_device.cc:1733] Found device 0 with properties: \n",
      "pciBusID: 0000:e1:00.0 name: RTX A5000 computeCapability: 8.6\n",
      "coreClock: 1.695GHz coreCount: 64 deviceMemorySize: 23.69GiB deviceMemoryBandwidth: 715.34GiB/s\n",
      "2021-10-07 07:55:43.366282: I tensorflow/core/common_runtime/gpu/gpu_device.cc:1871] Adding visible gpu devices: 0\n",
      "2021-10-07 07:55:43.366373: I tensorflow/stream_executor/platform/default/dso_loader.cc:53] Successfully opened dynamic library libcudart.so.11.0\n",
      "2021-10-07 07:55:45.696240: I tensorflow/core/common_runtime/gpu/gpu_device.cc:1258] Device interconnect StreamExecutor with strength 1 edge matrix:\n",
      "2021-10-07 07:55:45.696286: I tensorflow/core/common_runtime/gpu/gpu_device.cc:1264]      0 \n",
      "2021-10-07 07:55:45.696293: I tensorflow/core/common_runtime/gpu/gpu_device.cc:1277] 0:   N \n",
      "2021-10-07 07:55:45.720793: I tensorflow/core/common_runtime/gpu/gpu_device.cc:1418] Created TensorFlow device (/job:localhost/replica:0/task:0/device:GPU:0 with 22355 MB memory) -> physical GPU (device: 0, name: RTX A5000, pci bus id: 0000:e1:00.0, compute capability: 8.6)\n"
     ]
    }
   ],
   "source": [
    "from tensorflow.keras.applications.inception_v3 import InceptionV3\n",
    "inc=InceptionV3(input_shape=(224,224,3), weights='imagenet', include_top=False)"
   ]
  },
  {
   "cell_type": "code",
   "execution_count": 10,
   "id": "b5ff7fc2-5bc1-46f7-b71c-97830775d838",
   "metadata": {},
   "outputs": [],
   "source": [
    "from tensorflow.keras.layers import Flatten\n",
    "from tensorflow.keras.layers import Dense\n",
    "\n",
    "\n",
    "for i in inc.layers:\n",
    "  i.trainable=False\n",
    "\n",
    "x=Flatten()(inc.output)\n",
    "prediction=Dense(1, activation='sigmoid')(x)"
   ]
  },
  {
   "cell_type": "code",
   "execution_count": 11,
   "id": "e292d8c2-7c34-4977-8015-c38d1e3fe503",
   "metadata": {},
   "outputs": [],
   "source": [
    "from tensorflow.keras.models import Model\n",
    "model=Model(inputs=inc.input, outputs=prediction)"
   ]
  },
  {
   "cell_type": "code",
   "execution_count": 12,
   "id": "e506652e-af14-41bd-ada3-b16ea23e6c30",
   "metadata": {},
   "outputs": [],
   "source": [
    "model.compile(optimizer='adam', loss='binary_crossentropy', metrics=['accuracy'])"
   ]
  },
  {
   "cell_type": "code",
   "execution_count": 13,
   "id": "c004df17-0dfb-45b3-86f9-f25bc2874a5d",
   "metadata": {},
   "outputs": [
    {
     "name": "stderr",
     "output_type": "stream",
     "text": [
      "2021-10-07 07:55:49.862209: I tensorflow/compiler/mlir/mlir_graph_optimization_pass.cc:176] None of the MLIR Optimization Passes are enabled (registered 2)\n",
      "2021-10-07 07:55:49.880625: I tensorflow/core/platform/profile_utils/cpu_utils.cc:114] CPU Frequency: 2800125000 Hz\n"
     ]
    },
    {
     "name": "stdout",
     "output_type": "stream",
     "text": [
      "Epoch 1/50\n"
     ]
    },
    {
     "name": "stderr",
     "output_type": "stream",
     "text": [
      "2021-10-07 07:55:54.911791: I tensorflow/stream_executor/platform/default/dso_loader.cc:53] Successfully opened dynamic library libcudnn.so.8\n",
      "2021-10-07 07:55:58.859667: I tensorflow/stream_executor/cuda/cuda_dnn.cc:359] Loaded cuDNN version 8101\n",
      "2021-10-07 07:56:04.586121: I tensorflow/stream_executor/platform/default/dso_loader.cc:53] Successfully opened dynamic library libcublas.so.11\n",
      "2021-10-07 07:56:10.300903: I tensorflow/stream_executor/platform/default/dso_loader.cc:53] Successfully opened dynamic library libcublasLt.so.11\n"
     ]
    },
    {
     "name": "stdout",
     "output_type": "stream",
     "text": [
      "75/75 [==============================] - 26s 81ms/step - loss: 0.3692 - accuracy: 0.8854 - val_loss: 0.3810 - val_accuracy: 0.8683\n",
      "Epoch 2/50\n",
      "75/75 [==============================] - 3s 46ms/step - loss: 0.0870 - accuracy: 0.9671 - val_loss: 0.1168 - val_accuracy: 0.9583\n",
      "Epoch 3/50\n",
      "75/75 [==============================] - 3s 35ms/step - loss: 0.0252 - accuracy: 0.9917 - val_loss: 0.1004 - val_accuracy: 0.9717\n",
      "Epoch 4/50\n",
      "75/75 [==============================] - 3s 41ms/step - loss: 0.0152 - accuracy: 0.9962 - val_loss: 0.0847 - val_accuracy: 0.9750\n",
      "Epoch 5/50\n",
      "75/75 [==============================] - 4s 51ms/step - loss: 0.0028 - accuracy: 1.0000 - val_loss: 0.0843 - val_accuracy: 0.9750\n",
      "Epoch 6/50\n",
      "75/75 [==============================] - 3s 38ms/step - loss: 0.0012 - accuracy: 1.0000 - val_loss: 0.0914 - val_accuracy: 0.9750\n",
      "Epoch 7/50\n",
      "75/75 [==============================] - 3s 39ms/step - loss: 9.2667e-04 - accuracy: 1.0000 - val_loss: 0.0930 - val_accuracy: 0.9750\n",
      "Epoch 8/50\n",
      "75/75 [==============================] - 4s 53ms/step - loss: 7.9014e-04 - accuracy: 1.0000 - val_loss: 0.0929 - val_accuracy: 0.9750\n",
      "Epoch 9/50\n",
      "75/75 [==============================] - 3s 35ms/step - loss: 6.9112e-04 - accuracy: 1.0000 - val_loss: 0.0928 - val_accuracy: 0.9750\n",
      "Epoch 10/50\n",
      "75/75 [==============================] - 3s 39ms/step - loss: 6.1587e-04 - accuracy: 1.0000 - val_loss: 0.0928 - val_accuracy: 0.9750\n",
      "Epoch 11/50\n",
      "75/75 [==============================] - 2s 29ms/step - loss: 5.5607e-04 - accuracy: 1.0000 - val_loss: 0.0929 - val_accuracy: 0.9767\n",
      "Epoch 12/50\n",
      "75/75 [==============================] - 4s 50ms/step - loss: 5.0689e-04 - accuracy: 1.0000 - val_loss: 0.0931 - val_accuracy: 0.9767\n",
      "Epoch 13/50\n",
      "75/75 [==============================] - 4s 52ms/step - loss: 4.6540e-04 - accuracy: 1.0000 - val_loss: 0.0933 - val_accuracy: 0.9767\n",
      "Epoch 14/50\n",
      "75/75 [==============================] - 4s 53ms/step - loss: 4.2970e-04 - accuracy: 1.0000 - val_loss: 0.0936 - val_accuracy: 0.9750\n",
      "Epoch 15/50\n",
      "75/75 [==============================] - 3s 36ms/step - loss: 3.9851e-04 - accuracy: 1.0000 - val_loss: 0.0939 - val_accuracy: 0.9750\n",
      "Epoch 16/50\n",
      "75/75 [==============================] - 3s 42ms/step - loss: 3.7093e-04 - accuracy: 1.0000 - val_loss: 0.0943 - val_accuracy: 0.9750\n",
      "Epoch 17/50\n",
      "75/75 [==============================] - 3s 35ms/step - loss: 3.4630e-04 - accuracy: 1.0000 - val_loss: 0.0946 - val_accuracy: 0.9750\n",
      "Epoch 18/50\n",
      "75/75 [==============================] - 3s 43ms/step - loss: 3.2414e-04 - accuracy: 1.0000 - val_loss: 0.0949 - val_accuracy: 0.9750\n",
      "Epoch 19/50\n",
      "75/75 [==============================] - 4s 49ms/step - loss: 3.0407e-04 - accuracy: 1.0000 - val_loss: 0.0953 - val_accuracy: 0.9750\n",
      "Epoch 20/50\n",
      "75/75 [==============================] - 4s 51ms/step - loss: 2.8580e-04 - accuracy: 1.0000 - val_loss: 0.0956 - val_accuracy: 0.9750\n",
      "Epoch 21/50\n",
      "75/75 [==============================] - 4s 56ms/step - loss: 2.6909e-04 - accuracy: 1.0000 - val_loss: 0.0959 - val_accuracy: 0.9750\n",
      "Epoch 22/50\n",
      "75/75 [==============================] - 4s 51ms/step - loss: 2.5374e-04 - accuracy: 1.0000 - val_loss: 0.0962 - val_accuracy: 0.9750\n",
      "Epoch 23/50\n",
      "75/75 [==============================] - 4s 49ms/step - loss: 2.3959e-04 - accuracy: 1.0000 - val_loss: 0.0965 - val_accuracy: 0.9750\n",
      "Epoch 24/50\n",
      "75/75 [==============================] - 4s 50ms/step - loss: 2.2652e-04 - accuracy: 1.0000 - val_loss: 0.0968 - val_accuracy: 0.9750\n",
      "Epoch 25/50\n",
      "75/75 [==============================] - 4s 52ms/step - loss: 2.1440e-04 - accuracy: 1.0000 - val_loss: 0.0971 - val_accuracy: 0.9750\n",
      "Epoch 26/50\n",
      "75/75 [==============================] - 4s 53ms/step - loss: 2.0315e-04 - accuracy: 1.0000 - val_loss: 0.0974 - val_accuracy: 0.9750\n",
      "Epoch 27/50\n",
      "75/75 [==============================] - 3s 36ms/step - loss: 1.9267e-04 - accuracy: 1.0000 - val_loss: 0.0977 - val_accuracy: 0.9750\n",
      "Epoch 28/50\n",
      "75/75 [==============================] - 3s 42ms/step - loss: 1.8289e-04 - accuracy: 1.0000 - val_loss: 0.0980 - val_accuracy: 0.9750\n",
      "Epoch 29/50\n",
      "75/75 [==============================] - 4s 52ms/step - loss: 1.7376e-04 - accuracy: 1.0000 - val_loss: 0.0982 - val_accuracy: 0.9750\n",
      "Epoch 30/50\n",
      "75/75 [==============================] - 4s 54ms/step - loss: 1.6520e-04 - accuracy: 1.0000 - val_loss: 0.0985 - val_accuracy: 0.9750\n",
      "Epoch 31/50\n",
      "75/75 [==============================] - 4s 48ms/step - loss: 1.5719e-04 - accuracy: 1.0000 - val_loss: 0.0987 - val_accuracy: 0.9750\n",
      "Epoch 32/50\n",
      "75/75 [==============================] - 3s 38ms/step - loss: 1.4966e-04 - accuracy: 1.0000 - val_loss: 0.0990 - val_accuracy: 0.9750\n",
      "Epoch 33/50\n",
      "75/75 [==============================] - 3s 41ms/step - loss: 1.4258e-04 - accuracy: 1.0000 - val_loss: 0.0992 - val_accuracy: 0.9750\n",
      "Epoch 34/50\n",
      "75/75 [==============================] - 4s 48ms/step - loss: 1.3592e-04 - accuracy: 1.0000 - val_loss: 0.0994 - val_accuracy: 0.9750\n",
      "Epoch 35/50\n",
      "75/75 [==============================] - 2s 33ms/step - loss: 1.2964e-04 - accuracy: 1.0000 - val_loss: 0.0997 - val_accuracy: 0.9750\n",
      "Epoch 36/50\n",
      "75/75 [==============================] - 4s 51ms/step - loss: 1.2372e-04 - accuracy: 1.0000 - val_loss: 0.0999 - val_accuracy: 0.9750\n",
      "Epoch 37/50\n",
      "75/75 [==============================] - 3s 46ms/step - loss: 1.1813e-04 - accuracy: 1.0000 - val_loss: 0.1001 - val_accuracy: 0.9750\n",
      "Epoch 38/50\n",
      "75/75 [==============================] - 3s 35ms/step - loss: 1.1284e-04 - accuracy: 1.0000 - val_loss: 0.1003 - val_accuracy: 0.9750\n",
      "Epoch 39/50\n",
      "75/75 [==============================] - 4s 51ms/step - loss: 1.0784e-04 - accuracy: 1.0000 - val_loss: 0.1005 - val_accuracy: 0.9750\n",
      "Epoch 40/50\n",
      "75/75 [==============================] - 4s 53ms/step - loss: 1.0310e-04 - accuracy: 1.0000 - val_loss: 0.1007 - val_accuracy: 0.9750\n",
      "Epoch 41/50\n",
      "75/75 [==============================] - 2s 33ms/step - loss: 9.8604e-05 - accuracy: 1.0000 - val_loss: 0.1009 - val_accuracy: 0.9750\n",
      "Epoch 42/50\n",
      "75/75 [==============================] - 3s 42ms/step - loss: 9.4343e-05 - accuracy: 1.0000 - val_loss: 0.1011 - val_accuracy: 0.9750\n",
      "Epoch 43/50\n",
      "75/75 [==============================] - 4s 49ms/step - loss: 9.0298e-05 - accuracy: 1.0000 - val_loss: 0.1012 - val_accuracy: 0.9750\n",
      "Epoch 44/50\n",
      "75/75 [==============================] - 2s 31ms/step - loss: 8.6456e-05 - accuracy: 1.0000 - val_loss: 0.1014 - val_accuracy: 0.9750\n",
      "Epoch 45/50\n",
      "75/75 [==============================] - 4s 49ms/step - loss: 8.2803e-05 - accuracy: 1.0000 - val_loss: 0.1016 - val_accuracy: 0.9750\n",
      "Epoch 46/50\n",
      "75/75 [==============================] - 3s 35ms/step - loss: 7.9328e-05 - accuracy: 1.0000 - val_loss: 0.1018 - val_accuracy: 0.9750\n",
      "Epoch 47/50\n",
      "75/75 [==============================] - 3s 40ms/step - loss: 7.6020e-05 - accuracy: 1.0000 - val_loss: 0.1020 - val_accuracy: 0.9750\n",
      "Epoch 48/50\n",
      "75/75 [==============================] - 2s 32ms/step - loss: 7.2870e-05 - accuracy: 1.0000 - val_loss: 0.1021 - val_accuracy: 0.9750\n",
      "Epoch 49/50\n",
      "75/75 [==============================] - 3s 36ms/step - loss: 6.9869e-05 - accuracy: 1.0000 - val_loss: 0.1023 - val_accuracy: 0.9750\n",
      "Epoch 50/50\n",
      "75/75 [==============================] - 3s 42ms/step - loss: 6.7007e-05 - accuracy: 1.0000 - val_loss: 0.1025 - val_accuracy: 0.9750\n"
     ]
    }
   ],
   "source": [
    "hist=model.fit(x_train, y_train, batch_size=32, \n",
    "               verbose=1, epochs=50, \n",
    "               validation_data=(x_test,y_test), shuffle=False)\n",
    "\n",
    "model.save('/data1/hom1/ict06/Models/incV3.h5')"
   ]
  },
  {
   "cell_type": "code",
   "execution_count": 14,
   "id": "68e4b00b-351f-4f59-914f-1fa62aecac72",
   "metadata": {},
   "outputs": [
    {
     "data": {
      "text/html": [
       "<div>\n",
       "<style scoped>\n",
       "    .dataframe tbody tr th:only-of-type {\n",
       "        vertical-align: middle;\n",
       "    }\n",
       "\n",
       "    .dataframe tbody tr th {\n",
       "        vertical-align: top;\n",
       "    }\n",
       "\n",
       "    .dataframe thead th {\n",
       "        text-align: right;\n",
       "    }\n",
       "</style>\n",
       "<table border=\"1\" class=\"dataframe\">\n",
       "  <thead>\n",
       "    <tr style=\"text-align: right;\">\n",
       "      <th></th>\n",
       "      <th>loss</th>\n",
       "      <th>accuracy</th>\n",
       "      <th>val_loss</th>\n",
       "      <th>val_accuracy</th>\n",
       "    </tr>\n",
       "  </thead>\n",
       "  <tbody>\n",
       "    <tr>\n",
       "      <th>0</th>\n",
       "      <td>0.369161</td>\n",
       "      <td>0.885417</td>\n",
       "      <td>0.381017</td>\n",
       "      <td>0.868333</td>\n",
       "    </tr>\n",
       "    <tr>\n",
       "      <th>1</th>\n",
       "      <td>0.087007</td>\n",
       "      <td>0.967083</td>\n",
       "      <td>0.116841</td>\n",
       "      <td>0.958333</td>\n",
       "    </tr>\n",
       "    <tr>\n",
       "      <th>2</th>\n",
       "      <td>0.025175</td>\n",
       "      <td>0.991667</td>\n",
       "      <td>0.100368</td>\n",
       "      <td>0.971667</td>\n",
       "    </tr>\n",
       "    <tr>\n",
       "      <th>3</th>\n",
       "      <td>0.015233</td>\n",
       "      <td>0.996250</td>\n",
       "      <td>0.084672</td>\n",
       "      <td>0.975000</td>\n",
       "    </tr>\n",
       "    <tr>\n",
       "      <th>4</th>\n",
       "      <td>0.002776</td>\n",
       "      <td>1.000000</td>\n",
       "      <td>0.084334</td>\n",
       "      <td>0.975000</td>\n",
       "    </tr>\n",
       "    <tr>\n",
       "      <th>5</th>\n",
       "      <td>0.001202</td>\n",
       "      <td>1.000000</td>\n",
       "      <td>0.091406</td>\n",
       "      <td>0.975000</td>\n",
       "    </tr>\n",
       "    <tr>\n",
       "      <th>6</th>\n",
       "      <td>0.000927</td>\n",
       "      <td>1.000000</td>\n",
       "      <td>0.092956</td>\n",
       "      <td>0.975000</td>\n",
       "    </tr>\n",
       "    <tr>\n",
       "      <th>7</th>\n",
       "      <td>0.000790</td>\n",
       "      <td>1.000000</td>\n",
       "      <td>0.092893</td>\n",
       "      <td>0.975000</td>\n",
       "    </tr>\n",
       "    <tr>\n",
       "      <th>8</th>\n",
       "      <td>0.000691</td>\n",
       "      <td>1.000000</td>\n",
       "      <td>0.092767</td>\n",
       "      <td>0.975000</td>\n",
       "    </tr>\n",
       "    <tr>\n",
       "      <th>9</th>\n",
       "      <td>0.000616</td>\n",
       "      <td>1.000000</td>\n",
       "      <td>0.092774</td>\n",
       "      <td>0.975000</td>\n",
       "    </tr>\n",
       "    <tr>\n",
       "      <th>10</th>\n",
       "      <td>0.000556</td>\n",
       "      <td>1.000000</td>\n",
       "      <td>0.092894</td>\n",
       "      <td>0.976667</td>\n",
       "    </tr>\n",
       "    <tr>\n",
       "      <th>11</th>\n",
       "      <td>0.000507</td>\n",
       "      <td>1.000000</td>\n",
       "      <td>0.093095</td>\n",
       "      <td>0.976667</td>\n",
       "    </tr>\n",
       "    <tr>\n",
       "      <th>12</th>\n",
       "      <td>0.000465</td>\n",
       "      <td>1.000000</td>\n",
       "      <td>0.093349</td>\n",
       "      <td>0.976667</td>\n",
       "    </tr>\n",
       "    <tr>\n",
       "      <th>13</th>\n",
       "      <td>0.000430</td>\n",
       "      <td>1.000000</td>\n",
       "      <td>0.093638</td>\n",
       "      <td>0.975000</td>\n",
       "    </tr>\n",
       "    <tr>\n",
       "      <th>14</th>\n",
       "      <td>0.000399</td>\n",
       "      <td>1.000000</td>\n",
       "      <td>0.093949</td>\n",
       "      <td>0.975000</td>\n",
       "    </tr>\n",
       "    <tr>\n",
       "      <th>15</th>\n",
       "      <td>0.000371</td>\n",
       "      <td>1.000000</td>\n",
       "      <td>0.094272</td>\n",
       "      <td>0.975000</td>\n",
       "    </tr>\n",
       "    <tr>\n",
       "      <th>16</th>\n",
       "      <td>0.000346</td>\n",
       "      <td>1.000000</td>\n",
       "      <td>0.094602</td>\n",
       "      <td>0.975000</td>\n",
       "    </tr>\n",
       "    <tr>\n",
       "      <th>17</th>\n",
       "      <td>0.000324</td>\n",
       "      <td>1.000000</td>\n",
       "      <td>0.094935</td>\n",
       "      <td>0.975000</td>\n",
       "    </tr>\n",
       "    <tr>\n",
       "      <th>18</th>\n",
       "      <td>0.000304</td>\n",
       "      <td>1.000000</td>\n",
       "      <td>0.095266</td>\n",
       "      <td>0.975000</td>\n",
       "    </tr>\n",
       "    <tr>\n",
       "      <th>19</th>\n",
       "      <td>0.000286</td>\n",
       "      <td>1.000000</td>\n",
       "      <td>0.095593</td>\n",
       "      <td>0.975000</td>\n",
       "    </tr>\n",
       "    <tr>\n",
       "      <th>20</th>\n",
       "      <td>0.000269</td>\n",
       "      <td>1.000000</td>\n",
       "      <td>0.095915</td>\n",
       "      <td>0.975000</td>\n",
       "    </tr>\n",
       "    <tr>\n",
       "      <th>21</th>\n",
       "      <td>0.000254</td>\n",
       "      <td>1.000000</td>\n",
       "      <td>0.096231</td>\n",
       "      <td>0.975000</td>\n",
       "    </tr>\n",
       "    <tr>\n",
       "      <th>22</th>\n",
       "      <td>0.000240</td>\n",
       "      <td>1.000000</td>\n",
       "      <td>0.096539</td>\n",
       "      <td>0.975000</td>\n",
       "    </tr>\n",
       "    <tr>\n",
       "      <th>23</th>\n",
       "      <td>0.000227</td>\n",
       "      <td>1.000000</td>\n",
       "      <td>0.096841</td>\n",
       "      <td>0.975000</td>\n",
       "    </tr>\n",
       "    <tr>\n",
       "      <th>24</th>\n",
       "      <td>0.000214</td>\n",
       "      <td>1.000000</td>\n",
       "      <td>0.097134</td>\n",
       "      <td>0.975000</td>\n",
       "    </tr>\n",
       "    <tr>\n",
       "      <th>25</th>\n",
       "      <td>0.000203</td>\n",
       "      <td>1.000000</td>\n",
       "      <td>0.097420</td>\n",
       "      <td>0.975000</td>\n",
       "    </tr>\n",
       "    <tr>\n",
       "      <th>26</th>\n",
       "      <td>0.000193</td>\n",
       "      <td>1.000000</td>\n",
       "      <td>0.097697</td>\n",
       "      <td>0.975000</td>\n",
       "    </tr>\n",
       "    <tr>\n",
       "      <th>27</th>\n",
       "      <td>0.000183</td>\n",
       "      <td>1.000000</td>\n",
       "      <td>0.097967</td>\n",
       "      <td>0.975000</td>\n",
       "    </tr>\n",
       "    <tr>\n",
       "      <th>28</th>\n",
       "      <td>0.000174</td>\n",
       "      <td>1.000000</td>\n",
       "      <td>0.098229</td>\n",
       "      <td>0.975000</td>\n",
       "    </tr>\n",
       "    <tr>\n",
       "      <th>29</th>\n",
       "      <td>0.000165</td>\n",
       "      <td>1.000000</td>\n",
       "      <td>0.098484</td>\n",
       "      <td>0.975000</td>\n",
       "    </tr>\n",
       "    <tr>\n",
       "      <th>30</th>\n",
       "      <td>0.000157</td>\n",
       "      <td>1.000000</td>\n",
       "      <td>0.098731</td>\n",
       "      <td>0.975000</td>\n",
       "    </tr>\n",
       "    <tr>\n",
       "      <th>31</th>\n",
       "      <td>0.000150</td>\n",
       "      <td>1.000000</td>\n",
       "      <td>0.098971</td>\n",
       "      <td>0.975000</td>\n",
       "    </tr>\n",
       "    <tr>\n",
       "      <th>32</th>\n",
       "      <td>0.000143</td>\n",
       "      <td>1.000000</td>\n",
       "      <td>0.099204</td>\n",
       "      <td>0.975000</td>\n",
       "    </tr>\n",
       "    <tr>\n",
       "      <th>33</th>\n",
       "      <td>0.000136</td>\n",
       "      <td>1.000000</td>\n",
       "      <td>0.099431</td>\n",
       "      <td>0.975000</td>\n",
       "    </tr>\n",
       "    <tr>\n",
       "      <th>34</th>\n",
       "      <td>0.000130</td>\n",
       "      <td>1.000000</td>\n",
       "      <td>0.099652</td>\n",
       "      <td>0.975000</td>\n",
       "    </tr>\n",
       "    <tr>\n",
       "      <th>35</th>\n",
       "      <td>0.000124</td>\n",
       "      <td>1.000000</td>\n",
       "      <td>0.099867</td>\n",
       "      <td>0.975000</td>\n",
       "    </tr>\n",
       "    <tr>\n",
       "      <th>36</th>\n",
       "      <td>0.000118</td>\n",
       "      <td>1.000000</td>\n",
       "      <td>0.100077</td>\n",
       "      <td>0.975000</td>\n",
       "    </tr>\n",
       "    <tr>\n",
       "      <th>37</th>\n",
       "      <td>0.000113</td>\n",
       "      <td>1.000000</td>\n",
       "      <td>0.100281</td>\n",
       "      <td>0.975000</td>\n",
       "    </tr>\n",
       "    <tr>\n",
       "      <th>38</th>\n",
       "      <td>0.000108</td>\n",
       "      <td>1.000000</td>\n",
       "      <td>0.100481</td>\n",
       "      <td>0.975000</td>\n",
       "    </tr>\n",
       "    <tr>\n",
       "      <th>39</th>\n",
       "      <td>0.000103</td>\n",
       "      <td>1.000000</td>\n",
       "      <td>0.100677</td>\n",
       "      <td>0.975000</td>\n",
       "    </tr>\n",
       "    <tr>\n",
       "      <th>40</th>\n",
       "      <td>0.000099</td>\n",
       "      <td>1.000000</td>\n",
       "      <td>0.100869</td>\n",
       "      <td>0.975000</td>\n",
       "    </tr>\n",
       "    <tr>\n",
       "      <th>41</th>\n",
       "      <td>0.000094</td>\n",
       "      <td>1.000000</td>\n",
       "      <td>0.101057</td>\n",
       "      <td>0.975000</td>\n",
       "    </tr>\n",
       "    <tr>\n",
       "      <th>42</th>\n",
       "      <td>0.000090</td>\n",
       "      <td>1.000000</td>\n",
       "      <td>0.101242</td>\n",
       "      <td>0.975000</td>\n",
       "    </tr>\n",
       "    <tr>\n",
       "      <th>43</th>\n",
       "      <td>0.000086</td>\n",
       "      <td>1.000000</td>\n",
       "      <td>0.101425</td>\n",
       "      <td>0.975000</td>\n",
       "    </tr>\n",
       "    <tr>\n",
       "      <th>44</th>\n",
       "      <td>0.000083</td>\n",
       "      <td>1.000000</td>\n",
       "      <td>0.101604</td>\n",
       "      <td>0.975000</td>\n",
       "    </tr>\n",
       "    <tr>\n",
       "      <th>45</th>\n",
       "      <td>0.000079</td>\n",
       "      <td>1.000000</td>\n",
       "      <td>0.101782</td>\n",
       "      <td>0.975000</td>\n",
       "    </tr>\n",
       "    <tr>\n",
       "      <th>46</th>\n",
       "      <td>0.000076</td>\n",
       "      <td>1.000000</td>\n",
       "      <td>0.101957</td>\n",
       "      <td>0.975000</td>\n",
       "    </tr>\n",
       "    <tr>\n",
       "      <th>47</th>\n",
       "      <td>0.000073</td>\n",
       "      <td>1.000000</td>\n",
       "      <td>0.102130</td>\n",
       "      <td>0.975000</td>\n",
       "    </tr>\n",
       "    <tr>\n",
       "      <th>48</th>\n",
       "      <td>0.000070</td>\n",
       "      <td>1.000000</td>\n",
       "      <td>0.102302</td>\n",
       "      <td>0.975000</td>\n",
       "    </tr>\n",
       "    <tr>\n",
       "      <th>49</th>\n",
       "      <td>0.000067</td>\n",
       "      <td>1.000000</td>\n",
       "      <td>0.102473</td>\n",
       "      <td>0.975000</td>\n",
       "    </tr>\n",
       "  </tbody>\n",
       "</table>\n",
       "</div>"
      ],
      "text/plain": [
       "        loss  accuracy  val_loss  val_accuracy\n",
       "0   0.369161  0.885417  0.381017      0.868333\n",
       "1   0.087007  0.967083  0.116841      0.958333\n",
       "2   0.025175  0.991667  0.100368      0.971667\n",
       "3   0.015233  0.996250  0.084672      0.975000\n",
       "4   0.002776  1.000000  0.084334      0.975000\n",
       "5   0.001202  1.000000  0.091406      0.975000\n",
       "6   0.000927  1.000000  0.092956      0.975000\n",
       "7   0.000790  1.000000  0.092893      0.975000\n",
       "8   0.000691  1.000000  0.092767      0.975000\n",
       "9   0.000616  1.000000  0.092774      0.975000\n",
       "10  0.000556  1.000000  0.092894      0.976667\n",
       "11  0.000507  1.000000  0.093095      0.976667\n",
       "12  0.000465  1.000000  0.093349      0.976667\n",
       "13  0.000430  1.000000  0.093638      0.975000\n",
       "14  0.000399  1.000000  0.093949      0.975000\n",
       "15  0.000371  1.000000  0.094272      0.975000\n",
       "16  0.000346  1.000000  0.094602      0.975000\n",
       "17  0.000324  1.000000  0.094935      0.975000\n",
       "18  0.000304  1.000000  0.095266      0.975000\n",
       "19  0.000286  1.000000  0.095593      0.975000\n",
       "20  0.000269  1.000000  0.095915      0.975000\n",
       "21  0.000254  1.000000  0.096231      0.975000\n",
       "22  0.000240  1.000000  0.096539      0.975000\n",
       "23  0.000227  1.000000  0.096841      0.975000\n",
       "24  0.000214  1.000000  0.097134      0.975000\n",
       "25  0.000203  1.000000  0.097420      0.975000\n",
       "26  0.000193  1.000000  0.097697      0.975000\n",
       "27  0.000183  1.000000  0.097967      0.975000\n",
       "28  0.000174  1.000000  0.098229      0.975000\n",
       "29  0.000165  1.000000  0.098484      0.975000\n",
       "30  0.000157  1.000000  0.098731      0.975000\n",
       "31  0.000150  1.000000  0.098971      0.975000\n",
       "32  0.000143  1.000000  0.099204      0.975000\n",
       "33  0.000136  1.000000  0.099431      0.975000\n",
       "34  0.000130  1.000000  0.099652      0.975000\n",
       "35  0.000124  1.000000  0.099867      0.975000\n",
       "36  0.000118  1.000000  0.100077      0.975000\n",
       "37  0.000113  1.000000  0.100281      0.975000\n",
       "38  0.000108  1.000000  0.100481      0.975000\n",
       "39  0.000103  1.000000  0.100677      0.975000\n",
       "40  0.000099  1.000000  0.100869      0.975000\n",
       "41  0.000094  1.000000  0.101057      0.975000\n",
       "42  0.000090  1.000000  0.101242      0.975000\n",
       "43  0.000086  1.000000  0.101425      0.975000\n",
       "44  0.000083  1.000000  0.101604      0.975000\n",
       "45  0.000079  1.000000  0.101782      0.975000\n",
       "46  0.000076  1.000000  0.101957      0.975000\n",
       "47  0.000073  1.000000  0.102130      0.975000\n",
       "48  0.000070  1.000000  0.102302      0.975000\n",
       "49  0.000067  1.000000  0.102473      0.975000"
      ]
     },
     "execution_count": 14,
     "metadata": {},
     "output_type": "execute_result"
    }
   ],
   "source": [
    "import pandas as pd\n",
    "import matplotlib.pyplot as plt\n",
    "metrics = pd.DataFrame(model.history.history)\n",
    "metrics"
   ]
  },
  {
   "cell_type": "code",
   "execution_count": 26,
   "id": "e9a3c37f-4974-4530-8b21-d577c2028104",
   "metadata": {},
   "outputs": [
    {
     "data": {
      "text/plain": [
       "Text(0.5, 0, 'Epoch')"
      ]
     },
     "execution_count": 26,
     "metadata": {},
     "output_type": "execute_result"
    },
    {
     "data": {
      "image/png": "[encoded data removed]",
      "text/plain": [
       "<Figure size 432x288 with 1 Axes>"
      ]
     },
     "metadata": {
      "needs_background": "light"
     },
     "output_type": "display_data"
    }
   ],
   "source": [
    "metrics[['accuracy', 'val_accuracy']].plot()\n",
    "plt.grid()\n",
    "plt.title(\"Model Accuracy\")\n",
    "plt.ylabel(\"Accuracy\")\n",
    "plt.xlabel(\"Epoch\")"
   ]
  },
  {
   "cell_type": "code",
   "execution_count": 25,
   "id": "28ae73a6-f54a-4e8c-8791-005605e9d961",
   "metadata": {},
   "outputs": [
    {
     "data": {
      "text/plain": [
       "Text(0.5, 0, 'Epoch')"
      ]
     },
     "execution_count": 25,
     "metadata": {},
     "output_type": "execute_result"
    },
    {
     "data": {
      "image/png": "[encoded data removed]",
      "text/plain": [
       "<Figure size 432x288 with 1 Axes>"
      ]
     },
     "metadata": {
      "needs_background": "light"
     },
     "output_type": "display_data"
    }
   ],
   "source": [
    "metrics[['loss', 'val_loss']].plot()\n",
    "plt.grid()\n",
    "plt.title(\"Model Loss\")\n",
    "plt.ylabel(\"loss\")\n",
    "plt.xlabel(\"Epoch\")"
   ]
  },
  {
   "cell_type": "code",
   "execution_count": 17,
   "id": "b130fcf2-02c2-48fc-8630-b0bed3ac50a8",
   "metadata": {},
   "outputs": [
    {
     "name": "stdout",
     "output_type": "stream",
     "text": [
      "19/19 [==============================] - 1s 25ms/step - loss: 0.1025 - accuracy: 0.9750\n",
      "Accuracy = 97.50000238418579 %\n"
     ]
    }
   ],
   "source": [
    "_, acc= model.evaluate(x_test,y_test)\n",
    "print(\"Accuracy =\", (acc * 100.0), \"%\")"
   ]
  },
  {
   "cell_type": "code",
   "execution_count": 18,
   "id": "db2165b9-7393-4663-8c7e-658bc04b0ed0",
   "metadata": {},
   "outputs": [],
   "source": [
    "y_pred = model.predict(x_test)"
   ]
  },
  {
   "cell_type": "code",
   "execution_count": 19,
   "id": "6ad46c84-7e40-4bef-b02c-8d788ea49eea",
   "metadata": {},
   "outputs": [
    {
     "name": "stdout",
     "output_type": "stream",
     "text": [
      "[[334   9]\n",
      " [  6 251]]\n"
     ]
    }
   ],
   "source": [
    "mythreshold= 0.5\n",
    "from sklearn.metrics import confusion_matrix\n",
    "y_pred= (model.predict(x_test)>= mythreshold).astype(int)\n",
    "cm= confusion_matrix(y_test, y_pred)\n",
    "print(cm)"
   ]
  },
  {
   "cell_type": "code",
   "execution_count": 20,
   "id": "b1bd715b-cd9a-4b26-8879-7371c8e81269",
   "metadata": {},
   "outputs": [
    {
     "data": {
      "text/plain": [
       "<AxesSubplot:>"
      ]
     },
     "execution_count": 20,
     "metadata": {},
     "output_type": "execute_result"
    },
    {
     "data": {
      "image/png": "[encoded data removed]",
      "text/plain": [
       "<Figure size 432x288 with 2 Axes>"
      ]
     },
     "metadata": {
      "needs_background": "light"
     },
     "output_type": "display_data"
    }
   ],
   "source": [
    "import seaborn as sns\n",
    "sns.heatmap(cm, annot=True , cmap=\"Blues\" , fmt=\"d\", cbar=True, annot_kws={\"size\":10})\n",
    "plt.title(\"Test Data\")\n",
    "plt.ylabel(\"True Label\")\n",
    "plt.xlabel(\"Predicted Label\")"
   ]
  },
  {
   "cell_type": "code",
   "execution_count": 27,
   "id": "7a60f1f4-31dc-48d1-8ac6-c3da70b3d657",
   "metadata": {},
   "outputs": [
    {
     "data": {
      "image/png": "[encoded data removed]",
      "text/plain": [
       "<Figure size 432x288 with 1 Axes>"
      ]
     },
     "metadata": {
      "needs_background": "light"
     },
     "output_type": "display_data"
    }
   ],
   "source": [
    "from sklearn.metrics import roc_curve\n",
    "y_preds = model.predict(x_test).ravel()\n",
    "fpr, tpr, thresholds = roc_curve(y_test, y_pred)\n",
    "plt.grid()\n",
    "plt.figure(1)\n",
    "plt.plot([0, 1], [0, 1], 'y--')\n",
    "plt.plot(fpr, tpr, marker='.')\n",
    "plt.xlabel('False positive rate')\n",
    "plt.ylabel('True positive rate')\n",
    "plt.title('ROC curve')\n",
    "plt.show()"
   ]
  },
  {
   "cell_type": "code",
   "execution_count": 22,
   "id": "e4422ff3-bab0-4d2b-bef0-1a8fae836985",
   "metadata": {},
   "outputs": [
    {
     "name": "stdout",
     "output_type": "stream",
     "text": [
      "Area under curve, AUC =  0.9752073147213305\n"
     ]
    }
   ],
   "source": [
    "from sklearn.metrics import auc\n",
    "auc_value = auc(fpr, tpr)\n",
    "print(\"Area under curve, AUC = \", auc_value)"
   ]
  },
  {
   "cell_type": "code",
   "execution_count": 23,
   "id": "99a618e6-dadb-4c26-8e28-f0edbb8d2a67",
   "metadata": {},
   "outputs": [
    {
     "name": "stdout",
     "output_type": "stream",
     "text": [
      "              precision    recall  f1-score   support\n",
      "\n",
      "           0       0.98      0.97      0.98       343\n",
      "           1       0.97      0.98      0.97       257\n",
      "\n",
      "    accuracy                           0.97       600\n",
      "   macro avg       0.97      0.98      0.97       600\n",
      "weighted avg       0.98      0.97      0.98       600\n",
      "\n"
     ]
    }
   ],
   "source": [
    "from sklearn.metrics import classification_report\n",
    "print(classification_report(y_test, y_pred))"
   ]
  },
  {
   "cell_type": "code",
   "execution_count": null,
   "id": "3041ce94-d290-4302-9070-64fe5627057c",
   "metadata": {},
   "outputs": [],
   "source": []
  }
 ],
 "metadata": {
  "kernelspec": {
   "display_name": "Tensorflow 2.4 | Jupyterhub",
   "language": "python",
   "name": "jupyter-tf2"
  },
  "language_info": {
   "codemirror_mode": {
    "name": "ipython",
    "version": 3
   },
   "file_extension": ".py",
   "mimetype": "text/x-python",
   "name": "python",
   "nbconvert_exporter": "python",
   "pygments_lexer": "ipython3",
   "version": "3.8.10"
  }
 },
 "nbformat": 4,
 "nbformat_minor": 5
}
